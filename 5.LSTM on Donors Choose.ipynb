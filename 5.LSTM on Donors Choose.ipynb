{
 "cells": [
  {
   "cell_type": "markdown",
   "metadata": {
    "id": "ZZxzHBBVFGbU"
   },
   "source": [
    "# Apply LSTM on Donors Choose"
   ]
  },
  {
   "cell_type": "markdown",
   "metadata": {},
   "source": [
    "# 1. Loading and Preprocessing"
   ]
  },
  {
   "cell_type": "markdown",
   "metadata": {},
   "source": [
    "## 1.1 Loading Data and Splitting"
   ]
  },
  {
   "cell_type": "code",
   "execution_count": null,
   "metadata": {
    "colab": {
     "base_uri": "https://localhost:8080/"
    },
    "id": "skAPzTJWmMWA",
    "outputId": "fa2c85f0-b366-472c-e374-ed198208d7a5"
   },
   "outputs": [
    {
     "name": "stdout",
     "output_type": "stream",
     "text": [
      "Mounted at /content/drive\n"
     ]
    }
   ],
   "source": [
    "from google.colab import drive\n",
    "drive.mount('/content/drive')"
   ]
  },
  {
   "cell_type": "code",
   "execution_count": null,
   "metadata": {
    "colab": {
     "base_uri": "https://localhost:8080/"
    },
    "id": "7d8j_nTvFGbc",
    "outputId": "bfea870c-aaec-4628-aeb5-e0668d36ac61"
   },
   "outputs": [
    {
     "name": "stdout",
     "output_type": "stream",
     "text": [
      "/usr/local/lib/python3.7/dist-packages/gdown/cli.py:131: FutureWarning: Option `--id` was deprecated in version 4.3.1 and will be removed in 5.0. You don't need to pass it anymore to use a file ID.\n",
      "  category=FutureWarning,\n",
      "Downloading...\n",
      "From: https://drive.google.com/uc?id=1HcuqSNQg60HhHhj8z5neZxkzwE2miwuD\n",
      "To: /content/resources.csv\n",
      "100% 127M/127M [00:00<00:00, 129MB/s]\n",
      "/usr/local/lib/python3.7/dist-packages/gdown/cli.py:131: FutureWarning: Option `--id` was deprecated in version 4.3.1 and will be removed in 5.0. You don't need to pass it anymore to use a file ID.\n",
      "  category=FutureWarning,\n",
      "Downloading...\n",
      "From: https://drive.google.com/uc?id=1GpATd_pM4mcnWWIs28-s1lgqdAg2Wdv-\n",
      "To: /content/preprocessed_data.csv\n",
      "100% 124M/124M [00:01<00:00, 118MB/s]\n",
      "/usr/local/lib/python3.7/dist-packages/gdown/cli.py:131: FutureWarning: Option `--id` was deprecated in version 4.3.1 and will be removed in 5.0. You don't need to pass it anymore to use a file ID.\n",
      "  category=FutureWarning,\n",
      "Downloading...\n",
      "From: https://drive.google.com/uc?id=1pGd5tLwA30M7wkbJKdXHaae9tYVDICJ_\n",
      "To: /content/glove_vectors\n",
      "100% 128M/128M [00:02<00:00, 62.2MB/s]\n"
     ]
    }
   ],
   "source": [
    "!gdown --id 1HcuqSNQg60HhHhj8z5neZxkzwE2miwuD\n",
    "!gdown --id 1GpATd_pM4mcnWWIs28-s1lgqdAg2Wdv-\n",
    "!gdown --id 1pGd5tLwA30M7wkbJKdXHaae9tYVDICJ_"
   ]
  },
  {
   "cell_type": "code",
   "execution_count": null,
   "metadata": {
    "id": "YrMNgJ4uG0cl"
   },
   "outputs": [],
   "source": [
    "import pandas as pd \n",
    "import numpy as np\n",
    "import tensorflow as tf"
   ]
  },
  {
   "cell_type": "code",
   "execution_count": null,
   "metadata": {
    "colab": {
     "base_uri": "https://localhost:8080/",
     "height": 355
    },
    "id": "ZUHnpSIGjhfC",
    "outputId": "86f54837-13d2-42dc-d52a-c406acb78f58"
   },
   "outputs": [
    {
     "name": "stdout",
     "output_type": "stream",
     "text": [
      "(109248, 9)\n"
     ]
    },
    {
     "data": {
      "text/html": [
       "\n",
       "  <div id=\"df-e254521a-5f9e-45bf-b311-a740874e2398\">\n",
       "    <div class=\"colab-df-container\">\n",
       "      <div>\n",
       "<style scoped>\n",
       "    .dataframe tbody tr th:only-of-type {\n",
       "        vertical-align: middle;\n",
       "    }\n",
       "\n",
       "    .dataframe tbody tr th {\n",
       "        vertical-align: top;\n",
       "    }\n",
       "\n",
       "    .dataframe thead th {\n",
       "        text-align: right;\n",
       "    }\n",
       "</style>\n",
       "<table border=\"1\" class=\"dataframe\">\n",
       "  <thead>\n",
       "    <tr style=\"text-align: right;\">\n",
       "      <th></th>\n",
       "      <th>school_state</th>\n",
       "      <th>teacher_prefix</th>\n",
       "      <th>project_grade_category</th>\n",
       "      <th>teacher_number_of_previously_posted_projects</th>\n",
       "      <th>project_is_approved</th>\n",
       "      <th>clean_categories</th>\n",
       "      <th>clean_subcategories</th>\n",
       "      <th>essay</th>\n",
       "      <th>price</th>\n",
       "    </tr>\n",
       "  </thead>\n",
       "  <tbody>\n",
       "    <tr>\n",
       "      <th>0</th>\n",
       "      <td>ca</td>\n",
       "      <td>mrs</td>\n",
       "      <td>grades_prek_2</td>\n",
       "      <td>53</td>\n",
       "      <td>1</td>\n",
       "      <td>math_science</td>\n",
       "      <td>appliedsciences health_lifescience</td>\n",
       "      <td>i fortunate enough use fairy tale stem kits cl...</td>\n",
       "      <td>725.05</td>\n",
       "    </tr>\n",
       "    <tr>\n",
       "      <th>1</th>\n",
       "      <td>ut</td>\n",
       "      <td>ms</td>\n",
       "      <td>grades_3_5</td>\n",
       "      <td>4</td>\n",
       "      <td>1</td>\n",
       "      <td>specialneeds</td>\n",
       "      <td>specialneeds</td>\n",
       "      <td>imagine 8 9 years old you third grade classroo...</td>\n",
       "      <td>213.03</td>\n",
       "    </tr>\n",
       "    <tr>\n",
       "      <th>2</th>\n",
       "      <td>ca</td>\n",
       "      <td>mrs</td>\n",
       "      <td>grades_prek_2</td>\n",
       "      <td>10</td>\n",
       "      <td>1</td>\n",
       "      <td>literacy_language</td>\n",
       "      <td>literacy</td>\n",
       "      <td>having class 24 students comes diverse learner...</td>\n",
       "      <td>329.00</td>\n",
       "    </tr>\n",
       "    <tr>\n",
       "      <th>3</th>\n",
       "      <td>ga</td>\n",
       "      <td>mrs</td>\n",
       "      <td>grades_prek_2</td>\n",
       "      <td>2</td>\n",
       "      <td>1</td>\n",
       "      <td>appliedlearning</td>\n",
       "      <td>earlydevelopment</td>\n",
       "      <td>i recently read article giving students choice...</td>\n",
       "      <td>481.04</td>\n",
       "    </tr>\n",
       "    <tr>\n",
       "      <th>4</th>\n",
       "      <td>wa</td>\n",
       "      <td>mrs</td>\n",
       "      <td>grades_3_5</td>\n",
       "      <td>2</td>\n",
       "      <td>1</td>\n",
       "      <td>literacy_language</td>\n",
       "      <td>literacy</td>\n",
       "      <td>my students crave challenge eat obstacles brea...</td>\n",
       "      <td>17.74</td>\n",
       "    </tr>\n",
       "  </tbody>\n",
       "</table>\n",
       "</div>\n",
       "      <button class=\"colab-df-convert\" onclick=\"convertToInteractive('df-e254521a-5f9e-45bf-b311-a740874e2398')\"\n",
       "              title=\"Convert this dataframe to an interactive table.\"\n",
       "              style=\"display:none;\">\n",
       "        \n",
       "  <svg xmlns=\"http://www.w3.org/2000/svg\" height=\"24px\"viewBox=\"0 0 24 24\"\n",
       "       width=\"24px\">\n",
       "    <path d=\"M0 0h24v24H0V0z\" fill=\"none\"/>\n",
       "    <path d=\"M18.56 5.44l.94 2.06.94-2.06 2.06-.94-2.06-.94-.94-2.06-.94 2.06-2.06.94zm-11 1L8.5 8.5l.94-2.06 2.06-.94-2.06-.94L8.5 2.5l-.94 2.06-2.06.94zm10 10l.94 2.06.94-2.06 2.06-.94-2.06-.94-.94-2.06-.94 2.06-2.06.94z\"/><path d=\"M17.41 7.96l-1.37-1.37c-.4-.4-.92-.59-1.43-.59-.52 0-1.04.2-1.43.59L10.3 9.45l-7.72 7.72c-.78.78-.78 2.05 0 2.83L4 21.41c.39.39.9.59 1.41.59.51 0 1.02-.2 1.41-.59l7.78-7.78 2.81-2.81c.8-.78.8-2.07 0-2.86zM5.41 20L4 18.59l7.72-7.72 1.47 1.35L5.41 20z\"/>\n",
       "  </svg>\n",
       "      </button>\n",
       "      \n",
       "  <style>\n",
       "    .colab-df-container {\n",
       "      display:flex;\n",
       "      flex-wrap:wrap;\n",
       "      gap: 12px;\n",
       "    }\n",
       "\n",
       "    .colab-df-convert {\n",
       "      background-color: #E8F0FE;\n",
       "      border: none;\n",
       "      border-radius: 50%;\n",
       "      cursor: pointer;\n",
       "      display: none;\n",
       "      fill: #1967D2;\n",
       "      height: 32px;\n",
       "      padding: 0 0 0 0;\n",
       "      width: 32px;\n",
       "    }\n",
       "\n",
       "    .colab-df-convert:hover {\n",
       "      background-color: #E2EBFA;\n",
       "      box-shadow: 0px 1px 2px rgba(60, 64, 67, 0.3), 0px 1px 3px 1px rgba(60, 64, 67, 0.15);\n",
       "      fill: #174EA6;\n",
       "    }\n",
       "\n",
       "    [theme=dark] .colab-df-convert {\n",
       "      background-color: #3B4455;\n",
       "      fill: #D2E3FC;\n",
       "    }\n",
       "\n",
       "    [theme=dark] .colab-df-convert:hover {\n",
       "      background-color: #434B5C;\n",
       "      box-shadow: 0px 1px 3px 1px rgba(0, 0, 0, 0.15);\n",
       "      filter: drop-shadow(0px 1px 2px rgba(0, 0, 0, 0.3));\n",
       "      fill: #FFFFFF;\n",
       "    }\n",
       "  </style>\n",
       "\n",
       "      <script>\n",
       "        const buttonEl =\n",
       "          document.querySelector('#df-e254521a-5f9e-45bf-b311-a740874e2398 button.colab-df-convert');\n",
       "        buttonEl.style.display =\n",
       "          google.colab.kernel.accessAllowed ? 'block' : 'none';\n",
       "\n",
       "        async function convertToInteractive(key) {\n",
       "          const element = document.querySelector('#df-e254521a-5f9e-45bf-b311-a740874e2398');\n",
       "          const dataTable =\n",
       "            await google.colab.kernel.invokeFunction('convertToInteractive',\n",
       "                                                     [key], {});\n",
       "          if (!dataTable) return;\n",
       "\n",
       "          const docLinkHtml = 'Like what you see? Visit the ' +\n",
       "            '<a target=\"_blank\" href=https://colab.research.google.com/notebooks/data_table.ipynb>data table notebook</a>'\n",
       "            + ' to learn more about interactive tables.';\n",
       "          element.innerHTML = '';\n",
       "          dataTable['output_type'] = 'display_data';\n",
       "          await google.colab.output.renderOutput(dataTable, element);\n",
       "          const docLink = document.createElement('div');\n",
       "          docLink.innerHTML = docLinkHtml;\n",
       "          element.appendChild(docLink);\n",
       "        }\n",
       "      </script>\n",
       "    </div>\n",
       "  </div>\n",
       "  "
      ],
      "text/plain": [
       "  school_state teacher_prefix project_grade_category  \\\n",
       "0           ca            mrs          grades_prek_2   \n",
       "1           ut             ms             grades_3_5   \n",
       "2           ca            mrs          grades_prek_2   \n",
       "3           ga            mrs          grades_prek_2   \n",
       "4           wa            mrs             grades_3_5   \n",
       "\n",
       "   teacher_number_of_previously_posted_projects  project_is_approved  \\\n",
       "0                                            53                    1   \n",
       "1                                             4                    1   \n",
       "2                                            10                    1   \n",
       "3                                             2                    1   \n",
       "4                                             2                    1   \n",
       "\n",
       "    clean_categories                 clean_subcategories  \\\n",
       "0       math_science  appliedsciences health_lifescience   \n",
       "1       specialneeds                        specialneeds   \n",
       "2  literacy_language                            literacy   \n",
       "3    appliedlearning                    earlydevelopment   \n",
       "4  literacy_language                            literacy   \n",
       "\n",
       "                                               essay   price  \n",
       "0  i fortunate enough use fairy tale stem kits cl...  725.05  \n",
       "1  imagine 8 9 years old you third grade classroo...  213.03  \n",
       "2  having class 24 students comes diverse learner...  329.00  \n",
       "3  i recently read article giving students choice...  481.04  \n",
       "4  my students crave challenge eat obstacles brea...   17.74  "
      ]
     },
     "execution_count": 5,
     "metadata": {},
     "output_type": "execute_result"
    }
   ],
   "source": [
    "data = pd.read_csv('preprocessed_data.csv')\n",
    "print(data.shape)\n",
    "data.head()"
   ]
  },
  {
   "cell_type": "code",
   "execution_count": null,
   "metadata": {
    "colab": {
     "base_uri": "https://localhost:8080/"
    },
    "id": "qMGC041qjhbd",
    "outputId": "36497c67-888d-4e1b-aae8-2015fc7190d6"
   },
   "outputs": [
    {
     "data": {
      "text/plain": [
       "school_state                                    0\n",
       "teacher_prefix                                  0\n",
       "project_grade_category                          0\n",
       "teacher_number_of_previously_posted_projects    0\n",
       "project_is_approved                             0\n",
       "clean_categories                                0\n",
       "clean_subcategories                             0\n",
       "essay                                           0\n",
       "price                                           0\n",
       "dtype: int64"
      ]
     },
     "execution_count": 6,
     "metadata": {},
     "output_type": "execute_result"
    }
   ],
   "source": [
    "#check for any missing values\n",
    "data.isnull().sum()"
   ]
  },
  {
   "cell_type": "code",
   "execution_count": null,
   "metadata": {
    "colab": {
     "base_uri": "https://localhost:8080/"
    },
    "id": "y5-0f2WLjhZl",
    "outputId": "522bdf01-7cbf-4cb4-e36e-085f20574367"
   },
   "outputs": [
    {
     "name": "stdout",
     "output_type": "stream",
     "text": [
      "Number of Duplicate Records found: 109\n"
     ]
    }
   ],
   "source": [
    "#check for duplciates\n",
    "dupes = data.duplicated()\n",
    "print('Number of Duplicate Records found:', dupes.sum())\n",
    "dupes_idx_ls = [idx for idx, x in enumerate(dupes.where(dupes==True)) if x==True]"
   ]
  },
  {
   "cell_type": "code",
   "execution_count": null,
   "metadata": {
    "colab": {
     "base_uri": "https://localhost:8080/",
     "height": 386
    },
    "id": "bLlRGSIAluH9",
    "outputId": "d68aa8e9-75c0-4580-a400-3e53d97d8270"
   },
   "outputs": [
    {
     "data": {
      "text/html": [
       "\n",
       "  <div id=\"df-0c6949fa-751c-49ba-95f1-9ddb8f3fa8e7\">\n",
       "    <div class=\"colab-df-container\">\n",
       "      <div>\n",
       "<style scoped>\n",
       "    .dataframe tbody tr th:only-of-type {\n",
       "        vertical-align: middle;\n",
       "    }\n",
       "\n",
       "    .dataframe tbody tr th {\n",
       "        vertical-align: top;\n",
       "    }\n",
       "\n",
       "    .dataframe thead th {\n",
       "        text-align: right;\n",
       "    }\n",
       "</style>\n",
       "<table border=\"1\" class=\"dataframe\">\n",
       "  <thead>\n",
       "    <tr style=\"text-align: right;\">\n",
       "      <th></th>\n",
       "      <th>school_state</th>\n",
       "      <th>teacher_prefix</th>\n",
       "      <th>project_grade_category</th>\n",
       "      <th>teacher_number_of_previously_posted_projects</th>\n",
       "      <th>project_is_approved</th>\n",
       "      <th>clean_categories</th>\n",
       "      <th>clean_subcategories</th>\n",
       "      <th>essay</th>\n",
       "      <th>price</th>\n",
       "    </tr>\n",
       "  </thead>\n",
       "  <tbody>\n",
       "    <tr>\n",
       "      <th>4699</th>\n",
       "      <td>sc</td>\n",
       "      <td>mr</td>\n",
       "      <td>grades_3_5</td>\n",
       "      <td>18</td>\n",
       "      <td>1</td>\n",
       "      <td>math_science</td>\n",
       "      <td>appliedsciences mathematics</td>\n",
       "      <td>hello i teach great group students eager learn...</td>\n",
       "      <td>344.00</td>\n",
       "    </tr>\n",
       "    <tr>\n",
       "      <th>4703</th>\n",
       "      <td>sc</td>\n",
       "      <td>mr</td>\n",
       "      <td>grades_3_5</td>\n",
       "      <td>18</td>\n",
       "      <td>1</td>\n",
       "      <td>math_science</td>\n",
       "      <td>appliedsciences mathematics</td>\n",
       "      <td>hello i teach great group students eager learn...</td>\n",
       "      <td>344.00</td>\n",
       "    </tr>\n",
       "    <tr>\n",
       "      <th>4705</th>\n",
       "      <td>sc</td>\n",
       "      <td>mr</td>\n",
       "      <td>grades_3_5</td>\n",
       "      <td>18</td>\n",
       "      <td>1</td>\n",
       "      <td>math_science</td>\n",
       "      <td>appliedsciences mathematics</td>\n",
       "      <td>hello i teach great group students eager learn...</td>\n",
       "      <td>344.00</td>\n",
       "    </tr>\n",
       "    <tr>\n",
       "      <th>4706</th>\n",
       "      <td>sc</td>\n",
       "      <td>mr</td>\n",
       "      <td>grades_3_5</td>\n",
       "      <td>18</td>\n",
       "      <td>1</td>\n",
       "      <td>math_science</td>\n",
       "      <td>appliedsciences mathematics</td>\n",
       "      <td>hello i teach great group students eager learn...</td>\n",
       "      <td>344.00</td>\n",
       "    </tr>\n",
       "    <tr>\n",
       "      <th>6004</th>\n",
       "      <td>il</td>\n",
       "      <td>mrs</td>\n",
       "      <td>grades_6_8</td>\n",
       "      <td>85</td>\n",
       "      <td>1</td>\n",
       "      <td>math_science</td>\n",
       "      <td>health_lifescience</td>\n",
       "      <td>i teach middle school science large illinois e...</td>\n",
       "      <td>6.99</td>\n",
       "    </tr>\n",
       "    <tr>\n",
       "      <th>7254</th>\n",
       "      <td>ak</td>\n",
       "      <td>mr</td>\n",
       "      <td>grades_9_12</td>\n",
       "      <td>28</td>\n",
       "      <td>1</td>\n",
       "      <td>literacy_language</td>\n",
       "      <td>literature_writing</td>\n",
       "      <td>my students live rural fishing village alaska ...</td>\n",
       "      <td>10.62</td>\n",
       "    </tr>\n",
       "  </tbody>\n",
       "</table>\n",
       "</div>\n",
       "      <button class=\"colab-df-convert\" onclick=\"convertToInteractive('df-0c6949fa-751c-49ba-95f1-9ddb8f3fa8e7')\"\n",
       "              title=\"Convert this dataframe to an interactive table.\"\n",
       "              style=\"display:none;\">\n",
       "        \n",
       "  <svg xmlns=\"http://www.w3.org/2000/svg\" height=\"24px\"viewBox=\"0 0 24 24\"\n",
       "       width=\"24px\">\n",
       "    <path d=\"M0 0h24v24H0V0z\" fill=\"none\"/>\n",
       "    <path d=\"M18.56 5.44l.94 2.06.94-2.06 2.06-.94-2.06-.94-.94-2.06-.94 2.06-2.06.94zm-11 1L8.5 8.5l.94-2.06 2.06-.94-2.06-.94L8.5 2.5l-.94 2.06-2.06.94zm10 10l.94 2.06.94-2.06 2.06-.94-2.06-.94-.94-2.06-.94 2.06-2.06.94z\"/><path d=\"M17.41 7.96l-1.37-1.37c-.4-.4-.92-.59-1.43-.59-.52 0-1.04.2-1.43.59L10.3 9.45l-7.72 7.72c-.78.78-.78 2.05 0 2.83L4 21.41c.39.39.9.59 1.41.59.51 0 1.02-.2 1.41-.59l7.78-7.78 2.81-2.81c.8-.78.8-2.07 0-2.86zM5.41 20L4 18.59l7.72-7.72 1.47 1.35L5.41 20z\"/>\n",
       "  </svg>\n",
       "      </button>\n",
       "      \n",
       "  <style>\n",
       "    .colab-df-container {\n",
       "      display:flex;\n",
       "      flex-wrap:wrap;\n",
       "      gap: 12px;\n",
       "    }\n",
       "\n",
       "    .colab-df-convert {\n",
       "      background-color: #E8F0FE;\n",
       "      border: none;\n",
       "      border-radius: 50%;\n",
       "      cursor: pointer;\n",
       "      display: none;\n",
       "      fill: #1967D2;\n",
       "      height: 32px;\n",
       "      padding: 0 0 0 0;\n",
       "      width: 32px;\n",
       "    }\n",
       "\n",
       "    .colab-df-convert:hover {\n",
       "      background-color: #E2EBFA;\n",
       "      box-shadow: 0px 1px 2px rgba(60, 64, 67, 0.3), 0px 1px 3px 1px rgba(60, 64, 67, 0.15);\n",
       "      fill: #174EA6;\n",
       "    }\n",
       "\n",
       "    [theme=dark] .colab-df-convert {\n",
       "      background-color: #3B4455;\n",
       "      fill: #D2E3FC;\n",
       "    }\n",
       "\n",
       "    [theme=dark] .colab-df-convert:hover {\n",
       "      background-color: #434B5C;\n",
       "      box-shadow: 0px 1px 3px 1px rgba(0, 0, 0, 0.15);\n",
       "      filter: drop-shadow(0px 1px 2px rgba(0, 0, 0, 0.3));\n",
       "      fill: #FFFFFF;\n",
       "    }\n",
       "  </style>\n",
       "\n",
       "      <script>\n",
       "        const buttonEl =\n",
       "          document.querySelector('#df-0c6949fa-751c-49ba-95f1-9ddb8f3fa8e7 button.colab-df-convert');\n",
       "        buttonEl.style.display =\n",
       "          google.colab.kernel.accessAllowed ? 'block' : 'none';\n",
       "\n",
       "        async function convertToInteractive(key) {\n",
       "          const element = document.querySelector('#df-0c6949fa-751c-49ba-95f1-9ddb8f3fa8e7');\n",
       "          const dataTable =\n",
       "            await google.colab.kernel.invokeFunction('convertToInteractive',\n",
       "                                                     [key], {});\n",
       "          if (!dataTable) return;\n",
       "\n",
       "          const docLinkHtml = 'Like what you see? Visit the ' +\n",
       "            '<a target=\"_blank\" href=https://colab.research.google.com/notebooks/data_table.ipynb>data table notebook</a>'\n",
       "            + ' to learn more about interactive tables.';\n",
       "          element.innerHTML = '';\n",
       "          dataTable['output_type'] = 'display_data';\n",
       "          await google.colab.output.renderOutput(dataTable, element);\n",
       "          const docLink = document.createElement('div');\n",
       "          docLink.innerHTML = docLinkHtml;\n",
       "          element.appendChild(docLink);\n",
       "        }\n",
       "      </script>\n",
       "    </div>\n",
       "  </div>\n",
       "  "
      ],
      "text/plain": [
       "     school_state teacher_prefix project_grade_category  \\\n",
       "4699           sc             mr             grades_3_5   \n",
       "4703           sc             mr             grades_3_5   \n",
       "4705           sc             mr             grades_3_5   \n",
       "4706           sc             mr             grades_3_5   \n",
       "6004           il            mrs             grades_6_8   \n",
       "7254           ak             mr            grades_9_12   \n",
       "\n",
       "      teacher_number_of_previously_posted_projects  project_is_approved  \\\n",
       "4699                                            18                    1   \n",
       "4703                                            18                    1   \n",
       "4705                                            18                    1   \n",
       "4706                                            18                    1   \n",
       "6004                                            85                    1   \n",
       "7254                                            28                    1   \n",
       "\n",
       "       clean_categories          clean_subcategories  \\\n",
       "4699       math_science  appliedsciences mathematics   \n",
       "4703       math_science  appliedsciences mathematics   \n",
       "4705       math_science  appliedsciences mathematics   \n",
       "4706       math_science  appliedsciences mathematics   \n",
       "6004       math_science           health_lifescience   \n",
       "7254  literacy_language           literature_writing   \n",
       "\n",
       "                                                  essay   price  \n",
       "4699  hello i teach great group students eager learn...  344.00  \n",
       "4703  hello i teach great group students eager learn...  344.00  \n",
       "4705  hello i teach great group students eager learn...  344.00  \n",
       "4706  hello i teach great group students eager learn...  344.00  \n",
       "6004  i teach middle school science large illinois e...    6.99  \n",
       "7254  my students live rural fishing village alaska ...   10.62  "
      ]
     },
     "execution_count": 8,
     "metadata": {},
     "output_type": "execute_result"
    }
   ],
   "source": [
    "#lets look at a few duplicate records\n",
    "data.iloc[dupes_idx_ls[:6], :]"
   ]
  },
  {
   "cell_type": "code",
   "execution_count": null,
   "metadata": {
    "id": "Dkxmfq_8nOoZ"
   },
   "outputs": [],
   "source": [
    "#dropping duplicates \n",
    "data.drop_duplicates(inplace=True, ignore_index=True)"
   ]
  },
  {
   "cell_type": "code",
   "execution_count": null,
   "metadata": {
    "colab": {
     "base_uri": "https://localhost:8080/",
     "height": 355
    },
    "id": "AWKWsCBCnOlD",
    "outputId": "e54e7b33-b0d7-48fa-983b-415789f2feab"
   },
   "outputs": [
    {
     "name": "stdout",
     "output_type": "stream",
     "text": [
      "(109139, 9)\n"
     ]
    },
    {
     "data": {
      "text/html": [
       "\n",
       "  <div id=\"df-2d40cbdc-f84f-4fb7-a0d4-a2cb1d53ff9a\">\n",
       "    <div class=\"colab-df-container\">\n",
       "      <div>\n",
       "<style scoped>\n",
       "    .dataframe tbody tr th:only-of-type {\n",
       "        vertical-align: middle;\n",
       "    }\n",
       "\n",
       "    .dataframe tbody tr th {\n",
       "        vertical-align: top;\n",
       "    }\n",
       "\n",
       "    .dataframe thead th {\n",
       "        text-align: right;\n",
       "    }\n",
       "</style>\n",
       "<table border=\"1\" class=\"dataframe\">\n",
       "  <thead>\n",
       "    <tr style=\"text-align: right;\">\n",
       "      <th></th>\n",
       "      <th>school_state</th>\n",
       "      <th>teacher_prefix</th>\n",
       "      <th>project_grade_category</th>\n",
       "      <th>teacher_number_of_previously_posted_projects</th>\n",
       "      <th>project_is_approved</th>\n",
       "      <th>clean_categories</th>\n",
       "      <th>clean_subcategories</th>\n",
       "      <th>essay</th>\n",
       "      <th>price</th>\n",
       "    </tr>\n",
       "  </thead>\n",
       "  <tbody>\n",
       "    <tr>\n",
       "      <th>109134</th>\n",
       "      <td>hi</td>\n",
       "      <td>mrs</td>\n",
       "      <td>grades_9_12</td>\n",
       "      <td>5</td>\n",
       "      <td>1</td>\n",
       "      <td>health_sports</td>\n",
       "      <td>teamsports</td>\n",
       "      <td>our day starts 100 students athletes low incom...</td>\n",
       "      <td>143.36</td>\n",
       "    </tr>\n",
       "    <tr>\n",
       "      <th>109135</th>\n",
       "      <td>nm</td>\n",
       "      <td>ms</td>\n",
       "      <td>grades_prek_2</td>\n",
       "      <td>3</td>\n",
       "      <td>1</td>\n",
       "      <td>appliedlearning</td>\n",
       "      <td>earlydevelopment other</td>\n",
       "      <td>my students range age four five years old atte...</td>\n",
       "      <td>268.57</td>\n",
       "    </tr>\n",
       "    <tr>\n",
       "      <th>109136</th>\n",
       "      <td>il</td>\n",
       "      <td>mrs</td>\n",
       "      <td>grades_3_5</td>\n",
       "      <td>0</td>\n",
       "      <td>1</td>\n",
       "      <td>math_science</td>\n",
       "      <td>appliedsciences environmentalscience</td>\n",
       "      <td>we title 1 school 650 total students our eleme...</td>\n",
       "      <td>399.00</td>\n",
       "    </tr>\n",
       "    <tr>\n",
       "      <th>109137</th>\n",
       "      <td>hi</td>\n",
       "      <td>mrs</td>\n",
       "      <td>grades_9_12</td>\n",
       "      <td>1</td>\n",
       "      <td>1</td>\n",
       "      <td>math_science</td>\n",
       "      <td>health_lifescience</td>\n",
       "      <td>i teach many different types students my class...</td>\n",
       "      <td>287.73</td>\n",
       "    </tr>\n",
       "    <tr>\n",
       "      <th>109138</th>\n",
       "      <td>ca</td>\n",
       "      <td>mrs</td>\n",
       "      <td>grades_prek_2</td>\n",
       "      <td>2</td>\n",
       "      <td>1</td>\n",
       "      <td>literacy_language</td>\n",
       "      <td>literacy literature_writing</td>\n",
       "      <td>my first graders eager learn world around they...</td>\n",
       "      <td>5.50</td>\n",
       "    </tr>\n",
       "  </tbody>\n",
       "</table>\n",
       "</div>\n",
       "      <button class=\"colab-df-convert\" onclick=\"convertToInteractive('df-2d40cbdc-f84f-4fb7-a0d4-a2cb1d53ff9a')\"\n",
       "              title=\"Convert this dataframe to an interactive table.\"\n",
       "              style=\"display:none;\">\n",
       "        \n",
       "  <svg xmlns=\"http://www.w3.org/2000/svg\" height=\"24px\"viewBox=\"0 0 24 24\"\n",
       "       width=\"24px\">\n",
       "    <path d=\"M0 0h24v24H0V0z\" fill=\"none\"/>\n",
       "    <path d=\"M18.56 5.44l.94 2.06.94-2.06 2.06-.94-2.06-.94-.94-2.06-.94 2.06-2.06.94zm-11 1L8.5 8.5l.94-2.06 2.06-.94-2.06-.94L8.5 2.5l-.94 2.06-2.06.94zm10 10l.94 2.06.94-2.06 2.06-.94-2.06-.94-.94-2.06-.94 2.06-2.06.94z\"/><path d=\"M17.41 7.96l-1.37-1.37c-.4-.4-.92-.59-1.43-.59-.52 0-1.04.2-1.43.59L10.3 9.45l-7.72 7.72c-.78.78-.78 2.05 0 2.83L4 21.41c.39.39.9.59 1.41.59.51 0 1.02-.2 1.41-.59l7.78-7.78 2.81-2.81c.8-.78.8-2.07 0-2.86zM5.41 20L4 18.59l7.72-7.72 1.47 1.35L5.41 20z\"/>\n",
       "  </svg>\n",
       "      </button>\n",
       "      \n",
       "  <style>\n",
       "    .colab-df-container {\n",
       "      display:flex;\n",
       "      flex-wrap:wrap;\n",
       "      gap: 12px;\n",
       "    }\n",
       "\n",
       "    .colab-df-convert {\n",
       "      background-color: #E8F0FE;\n",
       "      border: none;\n",
       "      border-radius: 50%;\n",
       "      cursor: pointer;\n",
       "      display: none;\n",
       "      fill: #1967D2;\n",
       "      height: 32px;\n",
       "      padding: 0 0 0 0;\n",
       "      width: 32px;\n",
       "    }\n",
       "\n",
       "    .colab-df-convert:hover {\n",
       "      background-color: #E2EBFA;\n",
       "      box-shadow: 0px 1px 2px rgba(60, 64, 67, 0.3), 0px 1px 3px 1px rgba(60, 64, 67, 0.15);\n",
       "      fill: #174EA6;\n",
       "    }\n",
       "\n",
       "    [theme=dark] .colab-df-convert {\n",
       "      background-color: #3B4455;\n",
       "      fill: #D2E3FC;\n",
       "    }\n",
       "\n",
       "    [theme=dark] .colab-df-convert:hover {\n",
       "      background-color: #434B5C;\n",
       "      box-shadow: 0px 1px 3px 1px rgba(0, 0, 0, 0.15);\n",
       "      filter: drop-shadow(0px 1px 2px rgba(0, 0, 0, 0.3));\n",
       "      fill: #FFFFFF;\n",
       "    }\n",
       "  </style>\n",
       "\n",
       "      <script>\n",
       "        const buttonEl =\n",
       "          document.querySelector('#df-2d40cbdc-f84f-4fb7-a0d4-a2cb1d53ff9a button.colab-df-convert');\n",
       "        buttonEl.style.display =\n",
       "          google.colab.kernel.accessAllowed ? 'block' : 'none';\n",
       "\n",
       "        async function convertToInteractive(key) {\n",
       "          const element = document.querySelector('#df-2d40cbdc-f84f-4fb7-a0d4-a2cb1d53ff9a');\n",
       "          const dataTable =\n",
       "            await google.colab.kernel.invokeFunction('convertToInteractive',\n",
       "                                                     [key], {});\n",
       "          if (!dataTable) return;\n",
       "\n",
       "          const docLinkHtml = 'Like what you see? Visit the ' +\n",
       "            '<a target=\"_blank\" href=https://colab.research.google.com/notebooks/data_table.ipynb>data table notebook</a>'\n",
       "            + ' to learn more about interactive tables.';\n",
       "          element.innerHTML = '';\n",
       "          dataTable['output_type'] = 'display_data';\n",
       "          await google.colab.output.renderOutput(dataTable, element);\n",
       "          const docLink = document.createElement('div');\n",
       "          docLink.innerHTML = docLinkHtml;\n",
       "          element.appendChild(docLink);\n",
       "        }\n",
       "      </script>\n",
       "    </div>\n",
       "  </div>\n",
       "  "
      ],
      "text/plain": [
       "       school_state teacher_prefix project_grade_category  \\\n",
       "109134           hi            mrs            grades_9_12   \n",
       "109135           nm             ms          grades_prek_2   \n",
       "109136           il            mrs             grades_3_5   \n",
       "109137           hi            mrs            grades_9_12   \n",
       "109138           ca            mrs          grades_prek_2   \n",
       "\n",
       "        teacher_number_of_previously_posted_projects  project_is_approved  \\\n",
       "109134                                             5                    1   \n",
       "109135                                             3                    1   \n",
       "109136                                             0                    1   \n",
       "109137                                             1                    1   \n",
       "109138                                             2                    1   \n",
       "\n",
       "         clean_categories                   clean_subcategories  \\\n",
       "109134      health_sports                            teamsports   \n",
       "109135    appliedlearning                earlydevelopment other   \n",
       "109136       math_science  appliedsciences environmentalscience   \n",
       "109137       math_science                    health_lifescience   \n",
       "109138  literacy_language           literacy literature_writing   \n",
       "\n",
       "                                                    essay   price  \n",
       "109134  our day starts 100 students athletes low incom...  143.36  \n",
       "109135  my students range age four five years old atte...  268.57  \n",
       "109136  we title 1 school 650 total students our eleme...  399.00  \n",
       "109137  i teach many different types students my class...  287.73  \n",
       "109138  my first graders eager learn world around they...    5.50  "
      ]
     },
     "execution_count": 10,
     "metadata": {},
     "output_type": "execute_result"
    }
   ],
   "source": [
    "print(data.shape)\n",
    "data.tail()"
   ]
  },
  {
   "cell_type": "code",
   "execution_count": null,
   "metadata": {
    "colab": {
     "base_uri": "https://localhost:8080/"
    },
    "id": "A7h97MO2n__y",
    "outputId": "82c23727-3ba0-4c5b-fb3f-7514ad96d740"
   },
   "outputs": [
    {
     "data": {
      "text/plain": [
       "1    0.848432\n",
       "0    0.151568\n",
       "Name: project_is_approved, dtype: float64"
      ]
     },
     "execution_count": 11,
     "metadata": {},
     "output_type": "execute_result"
    }
   ],
   "source": [
    "#checking class distribution\n",
    "data['project_is_approved'].value_counts(normalize=True)"
   ]
  },
  {
   "cell_type": "code",
   "execution_count": null,
   "metadata": {
    "id": "vbuX1J5usBTF"
   },
   "outputs": [],
   "source": [
    "X = data.drop(columns = ['project_is_approved'])\n",
    "y = data['project_is_approved']"
   ]
  },
  {
   "cell_type": "code",
   "execution_count": null,
   "metadata": {
    "id": "Ek1vvIEmFGbj"
   },
   "outputs": [],
   "source": [
    "# perform stratified train test split on the dataset\n",
    "from sklearn.model_selection import train_test_split\n",
    "X_train, X_test, y_train, y_test = train_test_split(X, y, test_size=0.25, stratify = y, random_state=42)"
   ]
  },
  {
   "cell_type": "markdown",
   "metadata": {
    "id": "OSVuEj8iFGbk"
   },
   "source": [
    "## 1.2 Text Vectorization"
   ]
  },
  {
   "cell_type": "code",
   "execution_count": null,
   "metadata": {
    "id": "ddJtZzroFGbk"
   },
   "outputs": [],
   "source": [
    "#since the data is already preprocessed, we can directly move to vectorization part\n",
    "#first we will vectorize the text data\n",
    "#for vectorization of text data in deep learning we use tokenizer, you can go through below references\n",
    "# https://www.kdnuggets.com/2020/03/tensorflow-keras-tokenization-text-data-prep.html\n",
    "#https://stackoverflow.com/questions/51956000/what-does-keras-tokenizer-method-exactly-do\n",
    "# after text vectorization you should get train_padded_docs and test_padded_docs"
   ]
  },
  {
   "cell_type": "code",
   "execution_count": null,
   "metadata": {
    "id": "MgxgfdG4yc3T"
   },
   "outputs": [],
   "source": [
    "import tensorflow as tf \n",
    "from tensorflow.keras.preprocessing.text import Tokenizer\n",
    "from tensorflow.keras.preprocessing.sequence import pad_sequences"
   ]
  },
  {
   "cell_type": "code",
   "execution_count": null,
   "metadata": {
    "id": "qGfj6APAFGbk"
   },
   "outputs": [],
   "source": [
    "#fit the tokenizer to the text feature \n",
    "top_words = 30000\n",
    "tok = Tokenizer(num_words = top_words, oov_token = '<OOV>') \n",
    "tok.fit_on_texts(X_train['essay'])\n",
    "\n",
    "#word_index returns a dictionary of all the unique words in the corpus ranked in the descendinng order of their occurence \n",
    "word_index = tok.word_index #len(word_index) = 50337\n",
    "\n",
    "#convert the texts to numerical sequences \n",
    "train_essay_seq = tok.texts_to_sequences(X_train['essay'])\n",
    "test_essay_seq = tok.texts_to_sequences(X_test['essay'])"
   ]
  },
  {
   "cell_type": "code",
   "execution_count": null,
   "metadata": {
    "id": "hp-V8qh4xNuL"
   },
   "outputs": [],
   "source": [
    "#get the length of longest sequence \n",
    "maxlen_1 = max([len(x) for x in train_essay_seq]) \n",
    "\n",
    "#use the max length for padding/truncating s.t. length of all sequences are equal \n",
    "train_essay_padded_1 = pad_sequences(train_essay_seq, maxlen = maxlen_1, padding='pre', truncating='post')\n",
    "test_essay_padded_1 = pad_sequences(test_essay_seq, maxlen = maxlen_1, padding='pre', truncating='post')"
   ]
  },
  {
   "cell_type": "code",
   "execution_count": null,
   "metadata": {
    "id": "2KqQPqncFGbl"
   },
   "outputs": [],
   "source": [
    "#after getting the padded_docs you have to use predefined glove vectors to get 300 dim representation for each word\n",
    "# we will be storing this data in form of an embedding matrix and will use it while defining our model\n",
    "# Please go through following blog's 'Example of Using Pre-Trained GloVe Embedding' section to understand how to create embedding matrix\n",
    "# https://machinelearningmastery.com/use-word-embedding-layers-deep-learning-keras/\n",
    "\n",
    "import pickle\n",
    "with open('/content/glove_vectors', 'rb') as f:\n",
    "    model = pickle.load(f)\n",
    "    glove_words = set(model.keys())"
   ]
  },
  {
   "cell_type": "code",
   "execution_count": null,
   "metadata": {
    "id": "mQGwZQ22FGbl"
   },
   "outputs": [],
   "source": [
    "#create the weight matrix for embedding layer using glove vectors\n",
    "vocab_1 = list(word_index.items())[:top_words]\n",
    "embedding_mat_1 = np.zeros(shape=(top_words+1,300))\n",
    "\n",
    "for word, idx in vocab_1:\n",
    "    word_vec = model.get(word)\n",
    "    if word_vec is not None: \n",
    "        embedding_mat_1[idx] = word_vec"
   ]
  },
  {
   "cell_type": "code",
   "execution_count": null,
   "metadata": {
    "colab": {
     "base_uri": "https://localhost:8080/"
    },
    "id": "XguwYiVfQ3Vk",
    "outputId": "9e242162-0f1a-45cc-f0c4-56c885ac31b1"
   },
   "outputs": [
    {
     "data": {
      "text/plain": [
       "((81854, 339), (27285, 339))"
      ]
     },
     "execution_count": 21,
     "metadata": {},
     "output_type": "execute_result"
    }
   ],
   "source": [
    "#check shape of padded sequences\n",
    "train_essay_padded_1.shape, test_essay_padded_1.shape"
   ]
  },
  {
   "cell_type": "code",
   "execution_count": null,
   "metadata": {
    "colab": {
     "base_uri": "https://localhost:8080/"
    },
    "id": "7JAM-PJlRE8z",
    "outputId": "3df8bb4c-2153-4495-8c8b-777a941e68d0"
   },
   "outputs": [
    {
     "data": {
      "text/plain": [
       "(30001, 300)"
      ]
     },
     "execution_count": 22,
     "metadata": {},
     "output_type": "execute_result"
    }
   ],
   "source": [
    "#check shape of weights matrix\n",
    "embedding_mat_1.shape "
   ]
  },
  {
   "cell_type": "markdown",
   "metadata": {
    "id": "zlQkNbS7FGbl"
   },
   "source": [
    "## 1.3 Categorical feature Vectorization"
   ]
  },
  {
   "cell_type": "code",
   "execution_count": null,
   "metadata": {
    "id": "qfAQt2F-FGbl"
   },
   "outputs": [],
   "source": [
    "# for model 1 and model 2, we have to assign a unique number to each feature in a particular categorical column.\n",
    "# you can either use tokenizer,label encoder or ordinal encoder to perform the task\n",
    "# label encoder gives an error for 'unseen values' (values present in test but not in train)\n",
    "# handle unseen values with label encoder - https://stackoverflow.com/a/56876351\n",
    "# ordinal encoder also gives error with unseen values but you can use modify handle_unknown parameter\n",
    "# documentation of ordianl encoder https://scikit-learn.org/stable/modules/generated/sklearn.preprocessing.OrdinalEncoder.html\n",
    "# after categorical feature vectorization you will have column_train_data and column_test_data."
   ]
  },
  {
   "cell_type": "code",
   "execution_count": null,
   "metadata": {
    "id": "0HswLlDSLCJP"
   },
   "outputs": [],
   "source": [
    "from sklearn.preprocessing import OrdinalEncoder\n",
    "\n",
    "def encode(feat):\n",
    "    enc = OrdinalEncoder(handle_unknown = 'use_encoded_value', unknown_value = -1)\n",
    "    train_feat = enc.fit_transform(X_train[feat].values.reshape(-1,1))\n",
    "    test_feat = enc.transform(X_test[feat].values.reshape(-1,1))\n",
    "    return train_feat, test_feat"
   ]
  },
  {
   "cell_type": "code",
   "execution_count": null,
   "metadata": {
    "id": "dAl0M0BNPe1E"
   },
   "outputs": [],
   "source": [
    "cat_cols = ['school_state', 'teacher_prefix', 'project_grade_category', 'clean_categories', 'clean_subcategories']\n",
    "\n",
    "train_school_state_enc, test_school_state_enc = encode(cat_cols[0])\n",
    "train_teacher_prefix_enc, test_teacher_prefix_enc = encode(cat_cols[1])\n",
    "train_project_grade_category_enc, test_project_grade_category_enc = encode(cat_cols[2])\n",
    "train_clean_categories_enc, test_clean_categories_enc =  encode(cat_cols[3])\n",
    "train_clean_subcategories_enc, test_clean_subcategories_enc = encode(cat_cols[4])"
   ]
  },
  {
   "cell_type": "code",
   "execution_count": null,
   "metadata": {
    "colab": {
     "base_uri": "https://localhost:8080/"
    },
    "id": "eNx_rKiXQrWW",
    "outputId": "6849cab2-b11d-4cbd-8aab-c5ff6daa64f9"
   },
   "outputs": [
    {
     "data": {
      "text/plain": [
       "((81854, 1), (27285, 1))"
      ]
     },
     "execution_count": 26,
     "metadata": {},
     "output_type": "execute_result"
    }
   ],
   "source": [
    "#check shape of encoded features \n",
    "train_school_state_enc.shape, test_school_state_enc.shape"
   ]
  },
  {
   "cell_type": "markdown",
   "metadata": {
    "id": "cbniAtjsFGbm"
   },
   "source": [
    "## 1.4 Numerical feature Vectorization"
   ]
  },
  {
   "cell_type": "code",
   "execution_count": null,
   "metadata": {
    "id": "Ybf5bKXwFGbn"
   },
   "outputs": [],
   "source": [
    "# you have to standardise the numerical columns\n",
    "# stack both the numerical features\n",
    "#after numerical feature vectorization you will have numerical_data_train and numerical_data_test"
   ]
  },
  {
   "cell_type": "code",
   "execution_count": null,
   "metadata": {
    "id": "VwtNkQxNFGbn"
   },
   "outputs": [],
   "source": [
    "from sklearn.preprocessing import Normalizer\n",
    "def normalize(feat):\n",
    "    norm = Normalizer()\n",
    "    train_feat = norm.fit_transform(X_train[feat].values.reshape(1,-1))\n",
    "    l2_norm = np.sqrt(sum((X_train['price'].values)**2))\n",
    "    test_feat = (X_test['price'].values)/l2_norm\n",
    "    return train_feat.reshape(-1,1), test_feat.reshape(-1,1)"
   ]
  },
  {
   "cell_type": "code",
   "execution_count": null,
   "metadata": {
    "id": "HnMsAcdvYZqI"
   },
   "outputs": [],
   "source": [
    "num_cols = ['teacher_number_of_previously_posted_projects', 'price']\n",
    "\n",
    "train_num_prev_posted_norm, test_num_prev_posted_norm = normalize(num_cols[0])\n",
    "train_price_norm, test_price_norm = normalize(num_cols[1])"
   ]
  },
  {
   "cell_type": "code",
   "execution_count": null,
   "metadata": {
    "id": "w_q81AWY1qIy"
   },
   "outputs": [],
   "source": [
    "#stacking the numerical features horizontally\n",
    "train_num_feat = np.hstack([train_num_prev_posted_norm,train_price_norm])\n",
    "test_num_feat = np.hstack([test_num_prev_posted_norm,test_price_norm])"
   ]
  },
  {
   "cell_type": "code",
   "execution_count": null,
   "metadata": {
    "colab": {
     "base_uri": "https://localhost:8080/"
    },
    "id": "-zwlt2KKFGbn",
    "outputId": "4ef830ac-fc39-4017-ae71-33b36170db64"
   },
   "outputs": [
    {
     "data": {
      "text/plain": [
       "((81854, 2), (27285, 2))"
      ]
     },
     "execution_count": 31,
     "metadata": {},
     "output_type": "execute_result"
    }
   ],
   "source": [
    "#check shape of final numerical features matrix \n",
    "train_num_feat.shape, test_num_feat.shape"
   ]
  },
  {
   "cell_type": "markdown",
   "metadata": {
    "id": "50jL2xxd2Hy-"
   },
   "source": [
    "## 1.5 Creating Class Weight Dictionary"
   ]
  },
  {
   "cell_type": "code",
   "execution_count": null,
   "metadata": {
    "id": "QpHVC_YTh_nK"
   },
   "outputs": [],
   "source": [
    "#class weight \n",
    "class_w_dict = {}\n",
    "num_samples = len(y_train)\n",
    "num_classes = 2\n",
    "samples_per_class = np.bincount(y_train)\n",
    "for i in range(2):\n",
    "    class_w_dict[i] = num_samples/(num_classes*samples_per_class[i])"
   ]
  },
  {
   "cell_type": "code",
   "execution_count": null,
   "metadata": {
    "colab": {
     "base_uri": "https://localhost:8080/"
    },
    "id": "AzHuKqp2gaHO",
    "outputId": "3bd8fa15-37da-440f-92ec-1920cd56fa46"
   },
   "outputs": [
    {
     "data": {
      "text/plain": [
       "{0: 3.298968241173626, 1: 0.5893186268863034}"
      ]
     },
     "execution_count": 33,
     "metadata": {},
     "output_type": "execute_result"
    }
   ],
   "source": [
    "class_w_dict"
   ]
  },
  {
   "cell_type": "markdown",
   "metadata": {
    "id": "VVlsNgDmFGbo"
   },
   "source": [
    "## 2. Trying out Different Model Architectures"
   ]
  },
  {
   "cell_type": "markdown",
   "metadata": {
    "id": "2QIascIwFGbd"
   },
   "source": [
    "## <font color='red'> 2.1 Model-1 </font>"
   ]
  },
  {
   "cell_type": "markdown",
   "metadata": {
    "id": "2JfHrMeRFGbo"
   },
   "source": [
    "<img src='https://i.imgur.com/w395Yk9.png'>"
   ]
  },
  {
   "cell_type": "markdown",
   "metadata": {
    "id": "a_EvCLXFFGbe"
   },
   "source": [
    "- __Input_seq_total_text_data__ --- Give Total text data columns. After this use the Embedding layer to get word vectors. Use given predefined glove word vectors, don't train any word vectors. After this use LSTM and get the LSTM output and Flatten that output. \n",
    "- __Input_school_state__ --- Give 'school_state' column as input to embedding layer and Train the Keras Embedding layer. \n",
    "- __Project_grade_category__  --- Give 'project_grade_category' column as input to embedding layer and Train the Keras Embedding layer.\n",
    "- __Input_clean_categories__ --- Give 'input_clean_categories' column as input to embedding layer and Train the Keras Embedding layer.\n",
    "- __Input_clean_subcategories__ --- Give 'input_clean_subcategories' column as input to embedding layer and Train the Keras Embedding layer.\n",
    "- __Input_clean_subcategories__ --- Give 'input_teacher_prefix' column as input to embedding layer and Train the Keras Embedding layer.\n",
    "- __Input_remaining_teacher_number_of_previously_posted_projects._resource_summary_contains_numerical_digits._price._quantity__ ---concatenate remaining columns and add a Dense layer after that. "
   ]
  },
  {
   "cell_type": "code",
   "execution_count": null,
   "metadata": {
    "colab": {
     "base_uri": "https://localhost:8080/",
     "height": 36
    },
    "id": "VsR-FHcemucz",
    "outputId": "a7777dd2-313f-45f5-f2c7-55da12d9676f"
   },
   "outputs": [
    {
     "data": {
      "application/vnd.google.colaboratory.intrinsic+json": {
       "type": "string"
      },
      "text/plain": [
       "'/device:GPU:0'"
      ]
     },
     "execution_count": 35,
     "metadata": {},
     "output_type": "execute_result"
    }
   ],
   "source": [
    "#check if gpu is active \n",
    "tf.test.gpu_device_name()"
   ]
  },
  {
   "cell_type": "code",
   "execution_count": null,
   "metadata": {
    "colab": {
     "base_uri": "https://localhost:8080/"
    },
    "id": "LKVt8MW_nDK2",
    "outputId": "14276e41-2de7-4981-f329-f362e494a010"
   },
   "outputs": [
    {
     "name": "stdout",
     "output_type": "stream",
     "text": [
      "Thu Jun 30 22:30:57 2022       \n",
      "+-----------------------------------------------------------------------------+\n",
      "| NVIDIA-SMI 460.32.03    Driver Version: 460.32.03    CUDA Version: 11.2     |\n",
      "|-------------------------------+----------------------+----------------------+\n",
      "| GPU  Name        Persistence-M| Bus-Id        Disp.A | Volatile Uncorr. ECC |\n",
      "| Fan  Temp  Perf  Pwr:Usage/Cap|         Memory-Usage | GPU-Util  Compute M. |\n",
      "|                               |                      |               MIG M. |\n",
      "|===============================+======================+======================|\n",
      "|   0  Tesla T4            Off  | 00000000:00:04.0 Off |                    0 |\n",
      "| N/A   41C    P0    26W /  70W |    264MiB / 15109MiB |      0%      Default |\n",
      "|                               |                      |                  N/A |\n",
      "+-------------------------------+----------------------+----------------------+\n",
      "                                                                               \n",
      "+-----------------------------------------------------------------------------+\n",
      "| Processes:                                                                  |\n",
      "|  GPU   GI   CI        PID   Type   Process name                  GPU Memory |\n",
      "|        ID   ID                                                   Usage      |\n",
      "|=============================================================================|\n",
      "+-----------------------------------------------------------------------------+\n"
     ]
    }
   ],
   "source": [
    "!nvidia-smi"
   ]
  },
  {
   "cell_type": "code",
   "execution_count": null,
   "metadata": {
    "id": "-gZtssr_JaFG"
   },
   "outputs": [],
   "source": [
    "from tensorflow.keras.layers import Input, Embedding, LSTM, Conv1D, Flatten, Dense, Dropout, Concatenate\n",
    "from tensorflow.keras.models import Model, load_model\n",
    "from tensorflow.keras.utils import set_random_seed\n",
    "from tensorflow.keras import callbacks\n",
    "import os\n",
    "import datetime"
   ]
  },
  {
   "cell_type": "code",
   "execution_count": null,
   "metadata": {
    "id": "a99XC8RZJFVT"
   },
   "outputs": [],
   "source": [
    "%load_ext tensorboard "
   ]
  },
  {
   "cell_type": "markdown",
   "metadata": {
    "id": "a310Gl6geJHt"
   },
   "source": [
    "## 2.1.1 Writing Callbacks \n"
   ]
  },
  {
   "cell_type": "markdown",
   "metadata": {
    "id": "usFWt-3Ec7MA"
   },
   "source": [
    "We use the below approach to calculate ROC-AUC during training which gives us more control over the callbacks to manipulate as per the value of ROC-AUC during training. However, this is measured per batch unlike the first approach which calculate ROC-AUC at the end of eapoch. But if batch size is big it provides good approximation."
   ]
  },
  {
   "cell_type": "code",
   "execution_count": null,
   "metadata": {
    "id": "n9YlFFp04Sb5"
   },
   "outputs": [],
   "source": [
    "# https://stackoverflow.com/a/46844409 - custom AUC reference 1\n",
    "# https://www.kaggle.com/c/santander-customer-transaction-prediction/discussion/80807  - custom AUC reference 2\n",
    "import tensorflow as tf\n",
    "from sklearn.metrics import roc_auc_score\n",
    "def auc_roc(y_true, y_pred):\n",
    "    return tf.py_function(roc_auc_score, (y_true, y_pred), tf.float32)"
   ]
  },
  {
   "cell_type": "code",
   "execution_count": null,
   "metadata": {
    "id": "6J81bxD2g5H_"
   },
   "outputs": [],
   "source": [
    "#monitor ROC-AUC score and control the callback functions accordingly\n",
    "checkpoint_cb_dict = {}\n",
    "\n",
    "for i in range (1,4):\n",
    "    path = f'checkpoints_model_{i}' + '/weights-{epoch:02d}-{val_auc_roc:.4f}.hdf5'\n",
    "    checkpoint_cb_dict[i] = callbacks.ModelCheckpoint(filepath = path, monitor = 'val_auc_roc', \n",
    "                                                save_best_only=True, verbose=0, mode='max')\n",
    "    \n",
    "earlystop_callback = callbacks.EarlyStopping(monitor='val_auc_roc', min_delta=0.0001, \n",
    "                                                   patience=7, verbose=1, mode='max', restore_best_weights=True)\n",
    "\n",
    "reduce_lr_cb = callbacks.ReduceLROnPlateau(monitor='val_auc_roc', patience = 2, factor = 0.5, mode='max', min_delta = 0.0001, min_lr=1e-7)\n",
    "\n",
    "tensorboard_cb_dict = {}\n",
    "\n",
    "for i in range(1,4):\n",
    "    log_dir = os.path.join(f'logs_model_{i}','fits', datetime.datetime.now().strftime(\"%Y%m%d-%H%M%S\"))\n",
    "    tensorboard_cb_dict[i] = callbacks.TensorBoard(log_dir=log_dir,histogram_freq=1,write_graph=True)"
   ]
  },
  {
   "cell_type": "code",
   "execution_count": null,
   "metadata": {
    "id": "crs2zOgZJMgB"
   },
   "outputs": [],
   "source": [
    "callbacks_1 = [checkpoint_cb_dict[1], earlystop_callback, tensorboard_cb_dict[1], reduce_lr_cb]"
   ]
  },
  {
   "cell_type": "markdown",
   "metadata": {},
   "source": [
    "## 2.1.2 Model Architecture"
   ]
  },
  {
   "cell_type": "code",
   "execution_count": null,
   "metadata": {
    "id": "AH1KJ4F5k_CF"
   },
   "outputs": [],
   "source": [
    "#model layer parameter values\n",
    "pad_length = maxlen_1\n",
    "vocab_len = len(vocab_1)\n",
    "unique_states = len(data['school_state'].unique())\n",
    "unique_proj_grades = len(data['project_grade_category'].unique())\n",
    "unique_teacher_prefix = len(data['teacher_prefix'].unique())\n",
    "unique_clean_cat = len(data['clean_categories'].unique())\n",
    "unique_clean_subcat = len(data['clean_subcategories'].unique())"
   ]
  },
  {
   "cell_type": "code",
   "execution_count": null,
   "metadata": {
    "id": "c5QXYGfg0Qma"
   },
   "outputs": [],
   "source": [
    "#determine embedding layer output_dim based on input_dim using below function\n",
    "def embed_size(num):\n",
    "    s = min(50, (num+1)//2)\n",
    "    return s"
   ]
  },
  {
   "cell_type": "code",
   "execution_count": null,
   "metadata": {
    "colab": {
     "base_uri": "https://localhost:8080/"
    },
    "id": "9r_lmW0WFGbp",
    "outputId": "3371ce28-d406-4ae8-c91b-dd5efc5e3ab1"
   },
   "outputs": [
    {
     "name": "stdout",
     "output_type": "stream",
     "text": [
      "Model: \"model\"\n",
      "__________________________________________________________________________________________________\n",
      " Layer (type)                   Output Shape         Param #     Connected to                     \n",
      "==================================================================================================\n",
      " input_1 (InputLayer)           [(None, 339)]        0           []                               \n",
      "                                                                                                  \n",
      " embedding (Embedding)          (None, 339, 300)     9000300     ['input_1[0][0]']                \n",
      "                                                                                                  \n",
      " input_2 (InputLayer)           [(None, 1)]          0           []                               \n",
      "                                                                                                  \n",
      " input_3 (InputLayer)           [(None, 1)]          0           []                               \n",
      "                                                                                                  \n",
      " input_4 (InputLayer)           [(None, 1)]          0           []                               \n",
      "                                                                                                  \n",
      " input_5 (InputLayer)           [(None, 1)]          0           []                               \n",
      "                                                                                                  \n",
      " input_6 (InputLayer)           [(None, 1)]          0           []                               \n",
      "                                                                                                  \n",
      " lstm (LSTM)                    (None, 100)          160400      ['embedding[0][0]']              \n",
      "                                                                                                  \n",
      " embedding_1 (Embedding)        (None, 1, 26)        1326        ['input_2[0][0]']                \n",
      "                                                                                                  \n",
      " embedding_2 (Embedding)        (None, 1, 2)         8           ['input_3[0][0]']                \n",
      "                                                                                                  \n",
      " embedding_3 (Embedding)        (None, 1, 3)         15          ['input_4[0][0]']                \n",
      "                                                                                                  \n",
      " embedding_4 (Embedding)        (None, 1, 26)        1326        ['input_5[0][0]']                \n",
      "                                                                                                  \n",
      " embedding_5 (Embedding)        (None, 1, 50)        20050       ['input_6[0][0]']                \n",
      "                                                                                                  \n",
      " input_7 (InputLayer)           [(None, 2)]          0           []                               \n",
      "                                                                                                  \n",
      " flatten (Flatten)              (None, 100)          0           ['lstm[0][0]']                   \n",
      "                                                                                                  \n",
      " flatten_1 (Flatten)            (None, 26)           0           ['embedding_1[0][0]']            \n",
      "                                                                                                  \n",
      " flatten_2 (Flatten)            (None, 2)            0           ['embedding_2[0][0]']            \n",
      "                                                                                                  \n",
      " flatten_3 (Flatten)            (None, 3)            0           ['embedding_3[0][0]']            \n",
      "                                                                                                  \n",
      " flatten_4 (Flatten)            (None, 26)           0           ['embedding_4[0][0]']            \n",
      "                                                                                                  \n",
      " flatten_5 (Flatten)            (None, 50)           0           ['embedding_5[0][0]']            \n",
      "                                                                                                  \n",
      " dense (Dense)                  (None, 128)          384         ['input_7[0][0]']                \n",
      "                                                                                                  \n",
      " concatenate (Concatenate)      (None, 335)          0           ['flatten[0][0]',                \n",
      "                                                                  'flatten_1[0][0]',              \n",
      "                                                                  'flatten_2[0][0]',              \n",
      "                                                                  'flatten_3[0][0]',              \n",
      "                                                                  'flatten_4[0][0]',              \n",
      "                                                                  'flatten_5[0][0]',              \n",
      "                                                                  'dense[0][0]']                  \n",
      "                                                                                                  \n",
      " dense_1 (Dense)                (None, 256)          86016       ['concatenate[0][0]']            \n",
      "                                                                                                  \n",
      " dropout (Dropout)              (None, 256)          0           ['dense_1[0][0]']                \n",
      "                                                                                                  \n",
      " dense_2 (Dense)                (None, 256)          65792       ['dropout[0][0]']                \n",
      "                                                                                                  \n",
      " dropout_1 (Dropout)            (None, 256)          0           ['dense_2[0][0]']                \n",
      "                                                                                                  \n",
      " dense_3 (Dense)                (None, 512)          131584      ['dropout_1[0][0]']              \n",
      "                                                                                                  \n",
      " dense_4 (Dense)                (None, 1)            513         ['dense_3[0][0]']                \n",
      "                                                                                                  \n",
      "==================================================================================================\n",
      "Total params: 9,467,714\n",
      "Trainable params: 467,414\n",
      "Non-trainable params: 9,000,300\n",
      "__________________________________________________________________________________________________\n",
      "None\n"
     ]
    }
   ],
   "source": [
    "#set seed for reproducability\n",
    "set_random_seed(42)\n",
    "tf.keras.backend.clear_session()\n",
    "\n",
    "#building the model \n",
    "input_text = Input(shape=(pad_length,))\n",
    "embed_text = Embedding(input_dim = vocab_len+1, output_dim = 300, input_length=pad_length, weights = [embedding_mat_1], trainable=False)(input_text)\n",
    "lstm_text = LSTM(100)(embed_text)\n",
    "flatten_text = Flatten()(lstm_text)\n",
    "\n",
    "\n",
    "input_school_state = Input(shape=(1,))\n",
    "embed_school_state = Embedding(input_dim = unique_states, output_dim = embed_size(unique_states), input_length = 1, trainable = True)(input_school_state)\n",
    "flatten_school_state = Flatten()(embed_school_state)\n",
    "\n",
    "\n",
    "input_proj_grade = Input(shape=(1,))\n",
    "embed_proj_grade = Embedding(input_dim = unique_proj_grades, output_dim = embed_size(unique_proj_grades), input_length = 1, trainable = True)(input_proj_grade)\n",
    "flatten_proj_grade = Flatten()(embed_proj_grade)\n",
    "\n",
    "\n",
    "input_teacher_prefix = Input(shape=(1,))\n",
    "embed_teacher_prefix = Embedding(input_dim = unique_teacher_prefix, output_dim = embed_size(unique_teacher_prefix), input_length = 1, trainable = True)(input_teacher_prefix)\n",
    "flatten_teacher_prefix = Flatten()(embed_teacher_prefix)\n",
    "\n",
    "\n",
    "input_clean_cat = Input(shape=(1,))\n",
    "embed_clean_cat = Embedding(input_dim = unique_clean_cat, output_dim = embed_size(unique_clean_cat), input_length = 1, trainable = True)(input_clean_cat)\n",
    "flatten_clean_cat = Flatten()(embed_clean_cat)\n",
    "\n",
    "\n",
    "input_clean_subcat = Input(shape=(1,))\n",
    "embed_clean_subcat = Embedding(input_dim = unique_clean_subcat, output_dim = embed_size(unique_clean_subcat), input_length = 1, trainable = True)(input_clean_subcat)\n",
    "flatten_clean_subcat = Flatten()(embed_clean_subcat)\n",
    "\n",
    "\n",
    "input_num_feat = Input(shape=(2,))\n",
    "dense_num_feat = Dense(128, activation='tanh', kernel_initializer = 'glorot_normal')(input_num_feat)\n",
    "\n",
    "\n",
    "concat = Concatenate()([flatten_text, flatten_school_state, flatten_proj_grade, flatten_teacher_prefix, flatten_clean_cat, flatten_clean_subcat, dense_num_feat])\n",
    "\n",
    "dense_1 = Dense(256, activation='tanh', kernel_initializer = 'glorot_normal')(concat)\n",
    "\n",
    "dropout_1 = Dropout(0.4)(dense_1)\n",
    "\n",
    "dense_2 = Dense(256, activation='tanh', kernel_initializer = 'glorot_normal')(dropout_1)\n",
    "\n",
    "dropout_2 = Dropout(0.4)(dense_2)\n",
    "\n",
    "dense_3 = Dense(512, activation='tanh', kernel_initializer = 'glorot_normal')(dropout_2)\n",
    "\n",
    "output_layer = Dense(1, activation='sigmoid')(dense_3)\n",
    "\n",
    "\n",
    "model_1 = Model(inputs = [input_text, input_school_state, input_proj_grade, input_teacher_prefix, input_clean_cat, input_clean_subcat, input_num_feat], \n",
    "                outputs=[output_layer])\n",
    "\n",
    "print(model_1.summary())"
   ]
  },
  {
   "cell_type": "markdown",
   "metadata": {
    "id": "qEwh8ksrFGbp"
   },
   "source": [
    "## 2.1.3 Compiling and fititng your model"
   ]
  },
  {
   "cell_type": "code",
   "execution_count": null,
   "metadata": {
    "id": "KERUF9HB0me6"
   },
   "outputs": [],
   "source": [
    "import warnings \n",
    "warnings.filterwarnings('ignore')"
   ]
  },
  {
   "cell_type": "code",
   "execution_count": null,
   "metadata": {
    "colab": {
     "base_uri": "https://localhost:8080/"
    },
    "id": "K6jkSOqkFGbq",
    "outputId": "775eea34-b00e-45ec-b047-969920b7b845"
   },
   "outputs": [
    {
     "name": "stdout",
     "output_type": "stream",
     "text": [
      "Epoch 1/50\n",
      "160/160 - 20s - loss: 0.6666 - accuracy: 0.6047 - auc_roc: 0.6310 - val_loss: 0.6566 - val_accuracy: 0.6869 - val_auc_roc: 0.7072 - lr: 0.0010 - 20s/epoch - 127ms/step\n",
      "Epoch 2/50\n",
      "160/160 - 16s - loss: 0.6168 - accuracy: 0.7134 - auc_roc: 0.7254 - val_loss: 0.6264 - val_accuracy: 0.6900 - val_auc_roc: 0.7343 - lr: 0.0010 - 16s/epoch - 102ms/step\n",
      "Epoch 3/50\n",
      "160/160 - 16s - loss: 0.5975 - accuracy: 0.7246 - auc_roc: 0.7515 - val_loss: 0.6893 - val_accuracy: 0.6354 - val_auc_roc: 0.7483 - lr: 0.0010 - 16s/epoch - 101ms/step\n",
      "Epoch 4/50\n",
      "160/160 - 16s - loss: 0.5866 - accuracy: 0.7330 - auc_roc: 0.7640 - val_loss: 0.5444 - val_accuracy: 0.7624 - val_auc_roc: 0.7471 - lr: 0.0010 - 16s/epoch - 101ms/step\n",
      "Epoch 5/50\n",
      "160/160 - 17s - loss: 0.5746 - accuracy: 0.7413 - auc_roc: 0.7765 - val_loss: 0.4881 - val_accuracy: 0.8093 - val_auc_roc: 0.7492 - lr: 0.0010 - 17s/epoch - 106ms/step\n",
      "Epoch 6/50\n",
      "160/160 - 17s - loss: 0.5617 - accuracy: 0.7474 - auc_roc: 0.7877 - val_loss: 0.4829 - val_accuracy: 0.7941 - val_auc_roc: 0.7500 - lr: 0.0010 - 17s/epoch - 107ms/step\n",
      "Epoch 7/50\n",
      "160/160 - 17s - loss: 0.5470 - accuracy: 0.7556 - auc_roc: 0.8006 - val_loss: 0.5359 - val_accuracy: 0.7522 - val_auc_roc: 0.7537 - lr: 0.0010 - 17s/epoch - 107ms/step\n",
      "Epoch 8/50\n",
      "160/160 - 16s - loss: 0.5332 - accuracy: 0.7586 - auc_roc: 0.8144 - val_loss: 0.5723 - val_accuracy: 0.7367 - val_auc_roc: 0.7467 - lr: 0.0010 - 16s/epoch - 101ms/step\n",
      "Epoch 9/50\n",
      "160/160 - 16s - loss: 0.5124 - accuracy: 0.7678 - auc_roc: 0.8297 - val_loss: 0.5470 - val_accuracy: 0.7540 - val_auc_roc: 0.7344 - lr: 0.0010 - 16s/epoch - 101ms/step\n",
      "Epoch 10/50\n",
      "160/160 - 17s - loss: 0.4747 - accuracy: 0.7864 - auc_roc: 0.8571 - val_loss: 0.5563 - val_accuracy: 0.7435 - val_auc_roc: 0.7336 - lr: 5.0000e-04 - 17s/epoch - 107ms/step\n",
      "Epoch 11/50\n",
      "160/160 - 17s - loss: 0.4530 - accuracy: 0.7911 - auc_roc: 0.8712 - val_loss: 0.5084 - val_accuracy: 0.7746 - val_auc_roc: 0.7282 - lr: 5.0000e-04 - 17s/epoch - 107ms/step\n",
      "Epoch 12/50\n",
      "160/160 - 17s - loss: 0.4143 - accuracy: 0.8134 - auc_roc: 0.8927 - val_loss: 0.5843 - val_accuracy: 0.7395 - val_auc_roc: 0.7223 - lr: 2.5000e-04 - 17s/epoch - 106ms/step\n",
      "Epoch 13/50\n",
      "160/160 - 17s - loss: 0.3966 - accuracy: 0.8183 - auc_roc: 0.9014 - val_loss: 0.5771 - val_accuracy: 0.7461 - val_auc_roc: 0.7155 - lr: 2.5000e-04 - 17s/epoch - 107ms/step\n",
      "Epoch 14/50\n",
      "Restoring model weights from the end of the best epoch: 7.\n",
      "160/160 - 17s - loss: 0.3682 - accuracy: 0.8319 - auc_roc: 0.9134 - val_loss: 0.5649 - val_accuracy: 0.7492 - val_auc_roc: 0.7095 - lr: 1.2500e-04 - 17s/epoch - 107ms/step\n",
      "Epoch 14: early stopping\n"
     ]
    }
   ],
   "source": [
    "# compile and fit your model\n",
    "model_1.compile(optimizer = tf.keras.optimizers.Adam(learning_rate=0.001) , loss = 'binary_crossentropy', metrics = ['accuracy', auc_roc])\n",
    "\n",
    "history_1 = model_1.fit(x = [train_essay_padded_1, train_school_state_enc, train_project_grade_category_enc, train_teacher_prefix_enc, \n",
    "                        train_clean_categories_enc, train_clean_subcategories_enc, train_num_feat], y = y_train, \n",
    "                        validation_data = ([test_essay_padded_1, test_school_state_enc, test_project_grade_category_enc, test_teacher_prefix_enc, \n",
    "                                           test_clean_categories_enc, test_clean_subcategories_enc, test_num_feat], y_test), batch_size = 512,\n",
    "                        epochs = 50, class_weight = class_w_dict, verbose = 2, callbacks = callbacks_1)"
   ]
  },
  {
   "cell_type": "code",
   "execution_count": null,
   "metadata": {
    "colab": {
     "base_uri": "https://localhost:8080/",
     "height": 488
    },
    "id": "VBjX_3qjFGbq",
    "outputId": "bc9ce038-f63d-43a1-969b-d949d0b090c5"
   },
   "outputs": [
    {
     "data": {
      "text/html": [
       "\n",
       "  <div id=\"df-9a9f8c5f-fad0-4e84-8d23-5b894440b80a\">\n",
       "    <div class=\"colab-df-container\">\n",
       "      <div>\n",
       "<style scoped>\n",
       "    .dataframe tbody tr th:only-of-type {\n",
       "        vertical-align: middle;\n",
       "    }\n",
       "\n",
       "    .dataframe tbody tr th {\n",
       "        vertical-align: top;\n",
       "    }\n",
       "\n",
       "    .dataframe thead th {\n",
       "        text-align: right;\n",
       "    }\n",
       "</style>\n",
       "<table border=\"1\" class=\"dataframe\">\n",
       "  <thead>\n",
       "    <tr style=\"text-align: right;\">\n",
       "      <th></th>\n",
       "      <th>loss</th>\n",
       "      <th>accuracy</th>\n",
       "      <th>auc_roc</th>\n",
       "      <th>val_loss</th>\n",
       "      <th>val_accuracy</th>\n",
       "      <th>val_auc_roc</th>\n",
       "      <th>lr</th>\n",
       "    </tr>\n",
       "  </thead>\n",
       "  <tbody>\n",
       "    <tr>\n",
       "      <th>0</th>\n",
       "      <td>0.666642</td>\n",
       "      <td>0.604686</td>\n",
       "      <td>0.630986</td>\n",
       "      <td>0.656617</td>\n",
       "      <td>0.686934</td>\n",
       "      <td>0.707243</td>\n",
       "      <td>0.001000</td>\n",
       "    </tr>\n",
       "    <tr>\n",
       "      <th>1</th>\n",
       "      <td>0.616769</td>\n",
       "      <td>0.713355</td>\n",
       "      <td>0.725376</td>\n",
       "      <td>0.626351</td>\n",
       "      <td>0.690049</td>\n",
       "      <td>0.734299</td>\n",
       "      <td>0.001000</td>\n",
       "    </tr>\n",
       "    <tr>\n",
       "      <th>2</th>\n",
       "      <td>0.597549</td>\n",
       "      <td>0.724558</td>\n",
       "      <td>0.751493</td>\n",
       "      <td>0.689257</td>\n",
       "      <td>0.635441</td>\n",
       "      <td>0.748312</td>\n",
       "      <td>0.001000</td>\n",
       "    </tr>\n",
       "    <tr>\n",
       "      <th>3</th>\n",
       "      <td>0.586577</td>\n",
       "      <td>0.733037</td>\n",
       "      <td>0.763973</td>\n",
       "      <td>0.544434</td>\n",
       "      <td>0.762360</td>\n",
       "      <td>0.747143</td>\n",
       "      <td>0.001000</td>\n",
       "    </tr>\n",
       "    <tr>\n",
       "      <th>4</th>\n",
       "      <td>0.574637</td>\n",
       "      <td>0.741320</td>\n",
       "      <td>0.776453</td>\n",
       "      <td>0.488132</td>\n",
       "      <td>0.809272</td>\n",
       "      <td>0.749205</td>\n",
       "      <td>0.001000</td>\n",
       "    </tr>\n",
       "    <tr>\n",
       "      <th>5</th>\n",
       "      <td>0.561671</td>\n",
       "      <td>0.747367</td>\n",
       "      <td>0.787746</td>\n",
       "      <td>0.482917</td>\n",
       "      <td>0.794136</td>\n",
       "      <td>0.750007</td>\n",
       "      <td>0.001000</td>\n",
       "    </tr>\n",
       "    <tr>\n",
       "      <th>6</th>\n",
       "      <td>0.546998</td>\n",
       "      <td>0.755565</td>\n",
       "      <td>0.800621</td>\n",
       "      <td>0.535875</td>\n",
       "      <td>0.752208</td>\n",
       "      <td>0.753747</td>\n",
       "      <td>0.001000</td>\n",
       "    </tr>\n",
       "    <tr>\n",
       "      <th>7</th>\n",
       "      <td>0.533210</td>\n",
       "      <td>0.758570</td>\n",
       "      <td>0.814408</td>\n",
       "      <td>0.572339</td>\n",
       "      <td>0.736669</td>\n",
       "      <td>0.746728</td>\n",
       "      <td>0.001000</td>\n",
       "    </tr>\n",
       "    <tr>\n",
       "      <th>8</th>\n",
       "      <td>0.512433</td>\n",
       "      <td>0.767769</td>\n",
       "      <td>0.829651</td>\n",
       "      <td>0.546974</td>\n",
       "      <td>0.753967</td>\n",
       "      <td>0.734411</td>\n",
       "      <td>0.001000</td>\n",
       "    </tr>\n",
       "    <tr>\n",
       "      <th>9</th>\n",
       "      <td>0.474662</td>\n",
       "      <td>0.786376</td>\n",
       "      <td>0.857057</td>\n",
       "      <td>0.556323</td>\n",
       "      <td>0.743485</td>\n",
       "      <td>0.733567</td>\n",
       "      <td>0.000500</td>\n",
       "    </tr>\n",
       "    <tr>\n",
       "      <th>10</th>\n",
       "      <td>0.452992</td>\n",
       "      <td>0.791104</td>\n",
       "      <td>0.871244</td>\n",
       "      <td>0.508393</td>\n",
       "      <td>0.774565</td>\n",
       "      <td>0.728157</td>\n",
       "      <td>0.000500</td>\n",
       "    </tr>\n",
       "    <tr>\n",
       "      <th>11</th>\n",
       "      <td>0.414338</td>\n",
       "      <td>0.813387</td>\n",
       "      <td>0.892703</td>\n",
       "      <td>0.584285</td>\n",
       "      <td>0.739491</td>\n",
       "      <td>0.722253</td>\n",
       "      <td>0.000250</td>\n",
       "    </tr>\n",
       "    <tr>\n",
       "      <th>12</th>\n",
       "      <td>0.396608</td>\n",
       "      <td>0.818286</td>\n",
       "      <td>0.901387</td>\n",
       "      <td>0.577081</td>\n",
       "      <td>0.746088</td>\n",
       "      <td>0.715460</td>\n",
       "      <td>0.000250</td>\n",
       "    </tr>\n",
       "    <tr>\n",
       "      <th>13</th>\n",
       "      <td>0.368211</td>\n",
       "      <td>0.831908</td>\n",
       "      <td>0.913421</td>\n",
       "      <td>0.564931</td>\n",
       "      <td>0.749203</td>\n",
       "      <td>0.709474</td>\n",
       "      <td>0.000125</td>\n",
       "    </tr>\n",
       "  </tbody>\n",
       "</table>\n",
       "</div>\n",
       "      <button class=\"colab-df-convert\" onclick=\"convertToInteractive('df-9a9f8c5f-fad0-4e84-8d23-5b894440b80a')\"\n",
       "              title=\"Convert this dataframe to an interactive table.\"\n",
       "              style=\"display:none;\">\n",
       "        \n",
       "  <svg xmlns=\"http://www.w3.org/2000/svg\" height=\"24px\"viewBox=\"0 0 24 24\"\n",
       "       width=\"24px\">\n",
       "    <path d=\"M0 0h24v24H0V0z\" fill=\"none\"/>\n",
       "    <path d=\"M18.56 5.44l.94 2.06.94-2.06 2.06-.94-2.06-.94-.94-2.06-.94 2.06-2.06.94zm-11 1L8.5 8.5l.94-2.06 2.06-.94-2.06-.94L8.5 2.5l-.94 2.06-2.06.94zm10 10l.94 2.06.94-2.06 2.06-.94-2.06-.94-.94-2.06-.94 2.06-2.06.94z\"/><path d=\"M17.41 7.96l-1.37-1.37c-.4-.4-.92-.59-1.43-.59-.52 0-1.04.2-1.43.59L10.3 9.45l-7.72 7.72c-.78.78-.78 2.05 0 2.83L4 21.41c.39.39.9.59 1.41.59.51 0 1.02-.2 1.41-.59l7.78-7.78 2.81-2.81c.8-.78.8-2.07 0-2.86zM5.41 20L4 18.59l7.72-7.72 1.47 1.35L5.41 20z\"/>\n",
       "  </svg>\n",
       "      </button>\n",
       "      \n",
       "  <style>\n",
       "    .colab-df-container {\n",
       "      display:flex;\n",
       "      flex-wrap:wrap;\n",
       "      gap: 12px;\n",
       "    }\n",
       "\n",
       "    .colab-df-convert {\n",
       "      background-color: #E8F0FE;\n",
       "      border: none;\n",
       "      border-radius: 50%;\n",
       "      cursor: pointer;\n",
       "      display: none;\n",
       "      fill: #1967D2;\n",
       "      height: 32px;\n",
       "      padding: 0 0 0 0;\n",
       "      width: 32px;\n",
       "    }\n",
       "\n",
       "    .colab-df-convert:hover {\n",
       "      background-color: #E2EBFA;\n",
       "      box-shadow: 0px 1px 2px rgba(60, 64, 67, 0.3), 0px 1px 3px 1px rgba(60, 64, 67, 0.15);\n",
       "      fill: #174EA6;\n",
       "    }\n",
       "\n",
       "    [theme=dark] .colab-df-convert {\n",
       "      background-color: #3B4455;\n",
       "      fill: #D2E3FC;\n",
       "    }\n",
       "\n",
       "    [theme=dark] .colab-df-convert:hover {\n",
       "      background-color: #434B5C;\n",
       "      box-shadow: 0px 1px 3px 1px rgba(0, 0, 0, 0.15);\n",
       "      filter: drop-shadow(0px 1px 2px rgba(0, 0, 0, 0.3));\n",
       "      fill: #FFFFFF;\n",
       "    }\n",
       "  </style>\n",
       "\n",
       "      <script>\n",
       "        const buttonEl =\n",
       "          document.querySelector('#df-9a9f8c5f-fad0-4e84-8d23-5b894440b80a button.colab-df-convert');\n",
       "        buttonEl.style.display =\n",
       "          google.colab.kernel.accessAllowed ? 'block' : 'none';\n",
       "\n",
       "        async function convertToInteractive(key) {\n",
       "          const element = document.querySelector('#df-9a9f8c5f-fad0-4e84-8d23-5b894440b80a');\n",
       "          const dataTable =\n",
       "            await google.colab.kernel.invokeFunction('convertToInteractive',\n",
       "                                                     [key], {});\n",
       "          if (!dataTable) return;\n",
       "\n",
       "          const docLinkHtml = 'Like what you see? Visit the ' +\n",
       "            '<a target=\"_blank\" href=https://colab.research.google.com/notebooks/data_table.ipynb>data table notebook</a>'\n",
       "            + ' to learn more about interactive tables.';\n",
       "          element.innerHTML = '';\n",
       "          dataTable['output_type'] = 'display_data';\n",
       "          await google.colab.output.renderOutput(dataTable, element);\n",
       "          const docLink = document.createElement('div');\n",
       "          docLink.innerHTML = docLinkHtml;\n",
       "          element.appendChild(docLink);\n",
       "        }\n",
       "      </script>\n",
       "    </div>\n",
       "  </div>\n",
       "  "
      ],
      "text/plain": [
       "        loss  accuracy   auc_roc  val_loss  val_accuracy  val_auc_roc  \\\n",
       "0   0.666642  0.604686  0.630986  0.656617      0.686934     0.707243   \n",
       "1   0.616769  0.713355  0.725376  0.626351      0.690049     0.734299   \n",
       "2   0.597549  0.724558  0.751493  0.689257      0.635441     0.748312   \n",
       "3   0.586577  0.733037  0.763973  0.544434      0.762360     0.747143   \n",
       "4   0.574637  0.741320  0.776453  0.488132      0.809272     0.749205   \n",
       "5   0.561671  0.747367  0.787746  0.482917      0.794136     0.750007   \n",
       "6   0.546998  0.755565  0.800621  0.535875      0.752208     0.753747   \n",
       "7   0.533210  0.758570  0.814408  0.572339      0.736669     0.746728   \n",
       "8   0.512433  0.767769  0.829651  0.546974      0.753967     0.734411   \n",
       "9   0.474662  0.786376  0.857057  0.556323      0.743485     0.733567   \n",
       "10  0.452992  0.791104  0.871244  0.508393      0.774565     0.728157   \n",
       "11  0.414338  0.813387  0.892703  0.584285      0.739491     0.722253   \n",
       "12  0.396608  0.818286  0.901387  0.577081      0.746088     0.715460   \n",
       "13  0.368211  0.831908  0.913421  0.564931      0.749203     0.709474   \n",
       "\n",
       "          lr  \n",
       "0   0.001000  \n",
       "1   0.001000  \n",
       "2   0.001000  \n",
       "3   0.001000  \n",
       "4   0.001000  \n",
       "5   0.001000  \n",
       "6   0.001000  \n",
       "7   0.001000  \n",
       "8   0.001000  \n",
       "9   0.000500  \n",
       "10  0.000500  \n",
       "11  0.000250  \n",
       "12  0.000250  \n",
       "13  0.000125  "
      ]
     },
     "execution_count": 140,
     "metadata": {},
     "output_type": "execute_result"
    }
   ],
   "source": [
    "res_1 = pd.DataFrame(history_1.history)\n",
    "res_1"
   ]
  },
  {
   "cell_type": "markdown",
   "metadata": {
    "id": "zz4witc-D3mH"
   },
   "source": [
    "Note: \n",
    "\n",
    "- Blue represents Validation Curve\n",
    "- Orange represents Train Curve"
   ]
  },
  {
   "cell_type": "markdown",
   "metadata": {
    "id": "-srpo1dUh_yL"
   },
   "source": [
    "![Screenshot 2022-07-01 025944 mod-1 acc.png](data:image/png;base64,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)"
   ]
  },
  {
   "cell_type": "markdown",
   "metadata": {
    "id": "UeWPFwuzh_iF"
   },
   "source": [
    "![Screenshot 2022-07-01 030121 mod-1 auc-roc.png](data:image/png;base64,iVBORw0KGgoAAAANSUhEUgAAAaEAAAE9CAYAAACiDN36AAAAAXNSR0IArs4c6QAAAARnQU1BAACxjwv8YQUAAAAJcEhZcwAAEnQAABJ0Ad5mH3gAAF/sSURBVHhe7Z0HfFRV9sfPZDLJpDcCKZBA6F1ABFQQVlERdS2orAqCuKhYVkVd+IOga1krq6jYFSuIYkNFVlewIILSixRpARJII8mkTyb5v9957yVDSB2mvCTn+/m8zLw7b968TLm/e8499xzTaaedVkmCIAiC4AP8tFtBEARB8DrNSoReeeUVWrFiBZ1xxhlaiyAIgtCcEUtIEARB8BkiQoIgCILPaHRgwplnnknXXnsttW3blg4dOkRLly6lX375hR+bNGkSxcbG0t69e+miiy6i0NBQ2rFjB7vPjh07xscAnOPKK6+kDh06UFZWFn311Ve8OTN27Fje2rRpQxkZGfTBBx9UvQ7O17FjR3rxxRfp/PPP52vZt28fvf/++7R161Y+piGuuOIKvsbw8PCTzj9y5EjeNmzYQF988QW3JScn09VXX02ZmZm0cOFCbuvbty9dc8011KVLFyorK6Nvv/2W3n33XX6sPvC8v/71r/w+9e/fnxISEui1116jn3766YT/u+b7q/O3v/2NRo8eze9vU/9vQRAEI2KOi4t7ULtfJzfffDPde++93EEWFRVRjx496NxzzyWbzcZic+utt9J5551Hw4YNo8rKSgoLC6NBgwbR0KFDaf369XT8+HGaNm0a3X///RQfH0+FhYUsJuhQsf/DDz/w69x+++105513UlRUFL8OOnmIjclkoo0bN9Ill1zCAgYxCwwMpICAAFJElPr06UO//fYb5eXl8Xnq4uGHH6Ybb7yRLBYLi0fXrl1P+D8gTldddRXv69fUvXt3uummm/h/+vLLL+mss86iRx55hHr37s3/R3R0NI0aNYp69epF33zzDT+nLgYPHkyTJ0/m6+/UqRNfP677hhtuoL///e8UERFBxcXF/P7ivcF14v0DuPaJEyfyc+x2OwvaX/7yF8rOzqY9e/bwMYIgCM2NBt1x6OzQ+aOzQweOTnrOnDncEY4ZM0Y7inj/5Zdfpssuu4ytjXXr1rHQXHzxxXwO3Obm5tKMGTP4HDjXgQMHuCO94IILuHPHc2EF6K+DYyFGeJ2QkBB+HbPZTIsXL+ZrwjkhTrAoIAL1AQsHwggrB9eH87/00kvc0Z999tnaUQ2Da8O1PP3002zV4VwQitNPP50uvfRS7aj6OXLkCAsbhMbPz4/OOecc2r9/P02ZMoWv65///CcVFBTw/4j3DpYY3ie8Dt4jvO68efNYiBv7moIgCEakQRGCdQNXGzpvuIDA999/z2629u3bV0WqwXr4448/+D4sBFgFECaM6nGOmJgYWrNmDa1evZqPwblgbQQFBdGAAQPYPQU30++//171OjgW7rK1a9eyFQYgZBA4ndTUVBaSdu3aaS21s2rVKrZ0pk6dyq8D4auoqOBrxTU0Bvyv+J8hlB999BG34fmLFi3iqL38/Hxua4gtW7ZUudEgjFarla/P+f/G/4j/GY/37NmTxRfvH14P4PWXLFlC27Zt431BEITmSIMihHkXdPIYgcPq0Dd0jPWRlpbGo3l0nnC5waWGeRVnYAlBqDCih9DBKqjZkWMe5qmnnqKDBw9qLSeD5wUHB2t7dTNhwgT67rvvaPny5fSvf/2L3X9w/TUWXCOsIAiuMxAQuMtw21TgXsR7UPP/O3r0KJWXl/P/BUsP92u+f88//zxvgiAIzZUGRQjuMMyfYKJ89uzZJ2xPPvkkbd++XTvyRGBd+Pv783102g6Hg4XIGcyzQEBAaWkpzyfVPMZdwN2HuRdcC8RnyJAhdPfdd3OARGPB+wAxcOc1Yr4M54PQOwPrCAIOME9U2zGCIAjNnQZFCBYN3FawiPRoNmxwm/36669V7iGIiS4ooHPnzuz2Qid7+PBhPgcm+Z2BCw4dLUb4sIogVJiwd+bf//43zzUhEOBUwGshIm7Tpk1VUWfOQglycnJYZPTOHzj/X7t372ZLDZZdSkoKtwFEB7733ns8n9NU8P7iGmr+f9jH+4H3Di5HHNOtWzftUTVq74UXXqBnnnlGaxEEQWh+NChCy5Yt40lzWA6wfjD3gony119/nV599VWeIwGIEkP0FjpPuO7Gjx9PJSUlLFQQLXTg+jnwHETcISAAbijMHzm/Dh7DMTgWkWcQsLosrsaCc8OiGDhwII0bN46uv/56uuuuu05wx2GuB5Yf5n4wZ4TIOVwL5rMArhUChvcA1hSECO8FQtdxTH0uw7pAxB1cbxdeeOEJ/zfeR8z3/O9//+MQcAg1IhDxenjdf/zjH3ydjZ2HEgRBMCINhmhjvgIhwLBiRowYwfMqEA+4td566y2O2EIUF1xrmC+BECESDe4jTJ6//fbbfA5MuuvnuO6663jCPT09nf7zn//wRD2OwYgfnS86ZHTsOB4BEZgTgkWF14mMjKSVK1dyhBnAa8FCgIWDcOe6+PPPP7mDx+tC2BAsgY4d1wnXF8QFwQJJSUlsNUGEEL0GIIKIDoRgYD4sMTGRXxfXiPcC17ZgwYIG54RwncOHD68KygB4LkSoX79+LHo4J4I5EOTx2GOP8VombAg/RwAHgiuwRgnXgPmtJ554gt87QRCE5kiTsmhjBA5hgFg4Wyb6ItIHHniA3XPo7CEKzgtVdeo6hzM4Bmt4IH56xFhDYKHnzJkzq0K5nUEnjQAHCAWsGKwtgpurrtdvzDF4HayDghjr0Xp4H+rKa4f/A6HV9QEBhgju2rWrzv8bx9T3/gqCIDQn3FLKwVmEnMOnvYkuHM5zPDqwZOrr2N0FBAgRdLUBtxkyIwiCIAjVtBgREgRBEJofbhEhWACYE3KOlhMEQRCEhnCLCAmCIAiCKzQYoi0IgiAInqLVixAWe2JdjiAIguB9GiVCWNuCrSWCgArkbxMEQRC8T6NECJkFsAmCIAiCO6k3YwJq2aD0AVb6I9M18pVhhT9W8GNx6G233cZpZLBGZ+fOnVUr97HY9JZbbuHaO3guMgAgswDCt1EzB6lzkHmgJlgAOnnyZC6Sh4SjSKGDVDq4DpwL+euQbQFZGZBZGoXo9NfEMXhNnB/3kQcO16mDejxItYN0Qs7Xi+wDeB2cr+br1gfOgUJ9eH+QfcH5OXfccQfXN8KCUoDsCsg0gRx0yJGH5+L/wfNrPrc28HxcNxapougfUgTh3CiOh/8JKYiwuBcVW/XoRLyXeA4GD8gQgXx4UvxOEASjUa8IIbOBXkYbGZzRiaLjR0E2dKJYBAqQ0wzVTZEjDgL0+OOPczYBZJ1GyQek6kGONtS/QVYDiBDOg7Q9Oug0MT+D14M4IJEpUuegHIQuThAyJEXFhnOio8drQhAffPBBTpqKbNy4FogO8sWhc0dnj84Y58H/ANciwsqR9ubyyy/n5+F/RRZvnBMVUJHCx1nEnIFQ4VqRvQDHQGRxrah1BHFDUToIBdL8AKTawesgPQ/S/+C5EB9cK4QF14/EqUhfVBt6qh68p/gfkMkB14lKtVgci88BRfXwfyGNEt53pDpCKXHcR10inAMJXFGTSBAEwSjU647DCn9YHUgPgw330bEjfxtq8sAKwigcudzQiaNCKNowx4IFrEhTg84XgqODx5EbDjnhnIEFA/F44403OBs1knkiy4Cevw1AcNCxoqIqCr+hI8bjqG6KjnjWrFl8ftxCbCCUEApUZkXGBHTkOPf777/PpcP1rNfIZI3y2tj/5JNPuMw2nlcXEFq8H6hJBEsIOd6Q8Roi0RB4T2B1vfjii/x6sL4gxs5VamsDIoXrhuCjrAbeA4ga3iec57nnniNlQMH/B94PvJcQfbweqq9u3ryZc9PV938JgiB4myZHx2EUDpcQXGtz586lRx55hDtVuOtgoSD3GcRDr/gJ9xCyVzcErAl05BAznBMCgo5Xr6iKx+AK1MH5kaIHo38k80SCUr1qK24hlnqiUYgKREh3VaETRxG6H3/8kfdhnegpfZD5G0lNkRW8Lt59911+Pq4Z1worA9fSmAJ5ED+8P7rVg8zbKBWOUuP1AetQv0aIr+6S09uQLBYJWWHVQSQhynr1VjB//nwuCQ53oCAIglFwKUQbxezmzJnDHV5NnGvxNAU8DxvccJhHwoaOt65OE24wiBQsHohGzeJ0ECy045wQMOeSB7BiUB7B1VxycPXB0oNV1tjS4M5A6JwTo0LQm5JXDv8zRMZZlAGSqervP1x9yLytg9dDWQjJaCEIgpFosghhLgWlDlCKAO45rLHBhLgOOkZYBU3tnGEtoeOEmwouNX2bPn26dsSJYLSP14EVg+fBAnMGrim0Q5wgRtjXQeDCjBkz2EpyBVhfEAK44XB9sKwgLI0B/yfmZpxddyiKh2CGxoJ5Mgirc2g5gkZgvUGI8H/rZcF14JK77777+DhBEASj0CgRQscWEBDAHb8OqosiygsT8pjI18FcD45FYTs8jltniwlzP9hqsnbtWq7rg3o6eB42CBLcXQCBERA/tENEEByAQAAEF8AthegwzK8AFHyDWw/tn3/+OdcegnhCdDCxjwg7BEDAhegquFasMcL1oM6Rs/tOF0W8Jt4zZPfWS3NjbgYCjefgWnBN+J9rsyrrAgMAuB9RABDzQTgP5qYQQAKrCpGHECnMM+nvF0qb4zqaUs5cEATB0zRKhBDxBdFZvHgxR2F9//333MmjIirmRvQwaSQxxWT4ihUrOHwYj8PigNtMB6KFjhMRcs4sWrSIPv3006qIN2wQFpQRB+hUEUmGiDPUBsJc0ccff8zzHhArdLwQNxyPcGhEiaEd7ifUEYIFgqg0FJ6DgH344Yd8na6Aa0MwAcQOARoQA1gnuqghuAFCA5cdrhFipUcSohAg3he49HAtuCYEGGDOpimgtDci//D+QpQQsPD1119zEUH8X3g/MWeFa8VrwnLD+yDuOEEQjESjE5giqgqjfX3uAiNsRGAhQKBmcTW4fDA3gdE9JuBRPRUddENF3XTg7oI1oZeFQAjzvffey5Pv6MBhZaCKas0Otb5rAvgf4JZrTLZvhHXDTaZbMDoQXL1AHiwdoF+nM7BO4HKDwNRWGK/m4415vdqApVXX+wFqvpeCIAhGwu1ZtOFmwiJWWCRYk4Jy2gjJxuj8oYce0o5qGs4iVFdnLAiCIDQ/XIqOq49ly5ax4MBFhQg6uJ0QlYUwZFeBOw9ZBTCiFwRBEFoOUk9IEARB8Blut4QEQRAEobGICAmCIAg+Q0RIEARB8BkiQoIgCILPEBESBEEQfIaIkCAIguAzRIQEQRAEnyEiJAiCIPgMESFBEATBZ4gICYIgCD6j1aTtGT9+vHavGlRvRUkGlJAwGsj4jbIWKJuBwn1GA9nIUbm1MaXbvQ3KzKPekxFrJ6HAIooRogxHZaXxfnookYICjShNYjRQHgWl+pF53hmTsiUGKo9rQ+qjZUQ2h3rfG/QOJpoaV0m9lFuwo4jozWMm2mygqilRUVG0Z88ebc9YtOrccddccw2XmHjnnXe0FuOAuk0oFojaRLWVpfA1qO2EKrpGrE+EjgodVs3OygigrhNK2O/fv7+qxpSRwOACAwvn0vBGAeVP0JkePnxYa1FpH2SmMH9IkSJAJRV03O699/XqRCvdlRJMQWb19RelldFzfxZQaYWxulUMLoxa0FLccYIgNFsSrH5VApRR6j0BClFec3a3EJrZNYQF6Jjy2s9mBdGzB0oNJ0BGR0RIEIRmSVygH0VY1C4sq6yCspXNGwyMsNBL/cLpygQr7/+QXUa3bs6nHwtPLEgpNA4RIUEQmh2xigBFBajd13FFfDIVS8QbjE+00oL+YdQ33J/3XzlQTHdttdH+Ii9OQrUwRIQEQWhWxCji00YToDx7BR31ggDB5Teneyj9s2sIBfqZ6IAiOndvs9HLB4q0IwRXERESBKHZEG6upLaKFQRs5ZWUVuJ5ATo90kIv9Q+ny+MDef+bjFKaujmfVmWV8b5waogICYLQLIA10tZfnfQvUgToSLHnXWDXtof7LZx6h/kTXvk/e4to5o4Cr7n/WgMiQoIgGB5YPwmBahRciUMRoBIHi4KniLCY6MEeoXRflxBS7tIOWzlN3ZRP7xwy3rq45o6IkCAIhgXhz8lBZp4HAsWVJkWAKkgxhDzG4Cg1+u2vcar77ZP0ErpJEaDfc+28L7gXESFBEAxJtCI8EKBgbR3QcXslpZWZqMyD63Cub29lAeoZ5k+FisX1yO5CenhXIRUr9wXPICIkCIKhMCmak2g1U7tAP75frohOWomDMsoqPeaCi7L40b96hNL0LiGE5AfrFavnpo35tDStRDtC8BQiQoIgGIZwxerpHGymcEzEKCAC7mBxBeUpVpCnGAL3W/8wukRzv2HeB+63nQXlvC94FhEhQRAMASyfxCAzWfxUAUIE2uFih0fdbxM6BHH4dfdQf8osq6AZO2wcASd4D5+IEJJzzpw5k6ZPn04pKSlaa+1cccUV9NBDD9GkSZOoXbt2Wms1aBs7dixNnjxZaxEEoTmBKZ+OivWDOSCA6LfUIgen4vEUeM1HeobSPZ2DOQs3Uu/cuDGfVmTI2h9v43URGjduHM2aNYv8/f05s+v8+fPpsssu0x6tBhlzX375ZS7BgFIGI0aM4GP79u2rHUF0880308KFC+mvf/0rp+8XBKF5gbmYrooVomehzrVX0EHF+kFQgKcIVRTomT5hNLad6n5bsL+IU+/A6hK8j9dF6JJLLqGVK1fSww8/zNbQmjVraPTo0dqj1Zx77rmcth3HQXzuuOMOrnGiHwvhGjVqFD3yyCM0depUev7557ldEITmAUowxFnVLgiak17iULYK8mQSaqT7macI0IiYAH7N+7bb6LWDsvbHl3hVhM444wy2gDZv3qy1EG3fvp2tnpoEBweTw+Gg/Px83kfdGrvdTgEBAbw/fPhw2rBhA61evZr3BUFoHiD3WteQ6hpAhQg+KHIoVpAH1UcBovcfRYAGR1p4ngkC9F2muN98jdctIQiJczVO7IeFhbFAOQMLqby8nG666SauMjpt2jSKjo6mn376iZKTkykhIYH69etHn332GW/Lli3juSFBEIwLLJEURYD8teADzPukFjs8XoOni/KazyoC1Cfcn4oUE+je7QW0UnK/GQKvVlaF0EBMFixYQOvWreM2CMeNN95ITzzxRFWbDgIXzjvvPHbDoVzz1q1b6dFHH2VRmjt3Lv3444/8PHDPPfdQnz59+Fy1MXHiRLaunEGZ5YMHD9Lnn3+utRiHnj178rZq1SrKycnRWo2Dkct7Y1CDirlGrCSJyqqoSovqoEasrIp52tLSUrLZbFqL++gQWElWVXuoTOl1suwmKmzCW1BXee+G6B5USf+X6KB2FqICB9G/j5hpfaF2IW4EnyuqIGNgbTQwtbFz505tz1iYlc7kQe2+x0lMTOSS1b/99hsdOXKE27p160aKENIPP/xA6enp3AYmTJjAwQj33nsvvfrqq/TFF1/QpZdeSj169ODSyEOHDqUVK1ZU1U2Hm27IkCH849bP7Ux8fDzl5uaesOGDgZsP4gbXn5E2dAaI/Nu9ezd3CLUd48sNgl5UVEQlJSW1Pu7LzWw2k8lkYldubY/7coPwIIgGAwtY+rUd48sNgz2IED7b2h53ZQusdFBSQAWZlP/doWzHyxwcBFBkr/34ujYIuMVi4d9ubY/XtvUNqqAHkxRxVQQot5zooQMVtC6v9mNPdcPnioFZWVlZrY/7ckP/iHL8RsSrltDAgQNpxowZ9NZbb9Hy5cu5DaHXsHauv/563teBpQOXGyLgdG677TYWLYjSnDlzaNGiReyKA+eccw4HKDz33HMnWVR1cc011/CI+Z133tFajAPC2CHYn3zyCY+ujAZGffhSQ8SNBkbLGDU3dcTsDdCRdurUiQdSRrSEYOHCukVn6g6w9kcPva5UeppjpQ5Ov+MKmDvGwBEDzcZwdkwAPdU7lKx+Jl4DhDmgzXmeW4CKzxUDYIiQ0cCg1oieAeDVOSEEEuDLPWzYMK2F2AqCS6wmmZmZ7FZxXkcEAcIIDcEMsJpgDekMGjSIR3CNFSBBEDxLgrVagDAPg0JwrgpQUzkvNoCe7xvGAoSid9M253tUgATX8XpgAtb1YK5DDyiAy2nx4sX8GCyZTz/9lIXp7bffpoyMDA69XrJkCQceYIT72muv8bEI28aoDe1Lly5lSwi3giD4HqzFibCo3Uu2YoUg+q3Ew8EHOhfHBSoWUBjfh9tvysY8+rNQ1gAZFa+645xBkAJcObBq6gMmONxSqamptG/fPq21GgQp4BhXLCBxx7mOuONco7W445CFGhSUV9IhNy0CbYw7blyClWZ1U5d8QPhuUATIk3nnnBF3nGt43RLSgWg0JEAAnRwixGoTIIBziAtOEIwDUvAALAY95sUKpCjDoAvQXsXyGfdbrtcESHAdn4mQIAgtj2iLX1UKHgQheDL5qDM3JQdxGQawq6CcBciThe8E9yEiJAiCW0D263ZaGh7kgPOWFXJ7p2C6TdkAynCP/909kX2CdxAREgTBLXTS3HDIfoAccN7gXsX6maJYQWBLfjldt14EqLkhIiQIwikTF+jHFUmBt+aBZncLoevaW/n+xjw73bBBBKg5IiIkCMIpEaKoT5S2HihLESAkJPU0qAV0ZYIqQGuP27kWkNA8ERESBMFlkIc0SXPDQXyQmcDTPN27uhbQ91lldMtmEaDmjIiQIAgu096qChCC4NJKPL8g9MGEMjo3Vi3nsuxoKU3f5v5Eq4J3ERESBMElUBU1RKsJlFFa4fGQ6AU9A2hQsCp0Hx4poTk7C/i+0LwRERIEockgJ5teFTXPXkHHlc2TfHtmFPULVV/vzdRienyP8TJ1CK4hIiQIQpNpH6R2HViMmubBcOy2gX60cWQMF8MDr2Ra6Pl9RXxfaBmICAmC0CQgDFiYCjwpQAMjLLRiWJS2R3TP7jL6Mk/NSSe0HESEBEFoNGH+JorRrBJkxy5GgjgPcGlcIL0xIFzbIxr763Fal+ed9UeCdxEREgShUVgU46d9kBoNh/pACEbwBNM6BdNDPUL5fpYidANWZXvU4hJ8i89KOXibiRMncolvZ2JjY7k8+Jdffqm1GIfu3bvz9tNPPxmyLG/btm25fDbKexsNlFlGiY7s7GytxTig7DjK3CPlfyVKjRqMmJgYLg5ZUHBy5Fm8pZJC/CoJV72v1I9v3c29cXYaGaZGwG0t9qOZh9VwbIDS4+Hh4VxnzIigEjSuDWXbjUZkZGSjqhb4glYjQs7VXHWGDBnCHelHH32ktRiHfv368fbNN98Ysg4IBB01Z1Dp1migIi/qCRmxs0I9oaSkJK6PZcR6QhhcoJ6QzXbi+ptoxQyKtaj300oryeaBJUEv9bBQ7xB1rmlZVgU9dfDEzjw4OJhrRaGqshHB54prs9vtWotxiI6OrrWCtRFoNSJUG1LUznWkqJ1rNMeidsFmEyVrWRHy7ZV0xAOLUr8/K4rXHYH/7C2idw4V831nGlPUzpdIUTvXkDkhQRDqBHZJvLYeqLzC/QKEtUYIwdYF6K6ttloFSGi5iAgJglAnEIkALRz7oJvKdOucHmmh5UOrQ7AvX5dLP2Qbz4oQPIuIkCAItRJpMSmb2kUgEs6duUkviw+k105TQ7BR/G7gqmw6UOSBiSbB8IgICYJwEoGK9ROvJSfFWiCsCXIXt6cE09zuagg2CtGNXJ3jkUg7oXkgIiQIwkm0C6zuGtxpoTzeK4ymJKmVUJEFWwrRCSJCgiCcQBsLVWXHPuhGAXpvUARd0FZd9/PC/iLJgi0wIkKCIFQRYlbXBIHjZRWcGcEdrDormnqHqXnf7ttuozcOSgScoCIiJAgCg/VAbfxV0UE49lE3pOVJtJo5BDtCE7arf8+l7zIlAk6oRkRIEARep4MFqQGqVtBeN7jhEIL95dBIvo/ghiE/5tCeAomAE05EREgQWjHQHCxG1QvUgf3FlVyu+1QYEmWpCsHeWVBOZ/6Uw7WHBKEmIkKC0EoJ0tLx6GuBCssraU+JieynqBXDoi30cn9VgNbk2Olvv0sEnFA3IkKC0ArBQtTkIDMLEThWUkGpbsiIcHZMAC3opwrQyqwymrYln+8LQl34RISQnHPmzJk0ffp0SklJ0Vpr54orrqCHHnqIJk2aRO3atdNaVc4666xGn0cQBJW4QD9eiGrS5n/2FToox37qQQjnKAL0fN8wvr/8WCnds+3ETNyCUBteF6Fx48bRrFmzyN/fnzO7zp8/ny677DLt0WqQMffll1+m8ePHc12YESNG8LF9+/blx+fMmUP33nsv1z7BeV588UU+tyAItWP1U91vUVplVLjf/rCVU6kb5mpGtQmgZzUB+jS9lP7vD1kDJDQOr4vQJZdcQitXrqSHH36YrZg1a9bQ6NGjtUerOffcczltO46D+Nxxxx1caAvHnnHGGdS7d2969dVXad68eXyeX3/9lUaNGqU9WxAEZxAiDQFCGDZwl/sNnBcbQPP6qAK06EgJ/WuXCJDQeLwqQhAPWECbN2/WWoir/cHqqQkKWDkcDi46B1C3BsWiAgICuN7Jzz//TDt27ODHACwiHC8Iwom0DfSjBKuZtGTYnAXBHe43MKZtID3VWxWgt1KL6ck9xqsvJRgbr1tCEBKIiA72UQkTAuUMLCSUyb3pppvY6pk2bRpXB0S5661bt9Lzzz9fVSkwOTmZevbsSRs3buR9QRDUJKRJQWaKcXK/7S4od1sWhEvjAumxXmoi0pcOFNH8fcarsisYH69WVoXQQEwWLFhA69at47axY8fSjTfeSE888URVmw4CDs477zx2w6G+PMTn0UcfPama57/+9S+ujX///ffXWelz4sSJLFTOhIaGsiX29ddfay3GoVu3btS1a1davXo15ebmaq3GAWWgUQLaeUBhFPC5omIu5hKNBiqrJiQkUFpamkcrq4b6VXL2A837RjnlJjru0HbqAb8jeBXwm6uPC8LLaVqbUr6/MDuAPs3Tan97EFTLxYDViGXbAT7XzMxMQ5b3joyMpC1btmh7xsIQIjR58mR67LHHaMOGDdwGJkyYQGPGjKHZs2fTvn372GX31FNPcW3+xx9/XDuK6Pbbb+fzPvjgg3xcXdQUIDBy5EgqKSmhxYsXay3GQflcePvqq6/4i2008IODOBYVGW/0Gx4ezoMWI3ZWECFY7rDiPSVCsQEmitHS5IDDJZVU0EjrB4ML/CZ0N3htXBXnT3cnq4lI5x0oo4+PlfN9TwMXPTpTCLgRweeanp5uyPLeGFwYtSy6V0Vo4MCBNGPGDHrrrbdo+fLl3IbQa1g7119/Pe/rzJ07lzu6m2++WWshuu2229hC+Mc//sH7ECAEKjz55JNsMTSVa665hkfM77zzjtZiHBDGPnjwYPrkk0/o2LFjWqtxaN++PR0/frxOy9OXRERE8Kj56NGjWotxgAh16tSJ9u/f73YRQgVUlGAI1TJgw/2G/G9NyVQQFxfH1m1eXu0LTCd2CKK7Owfz/X/vKaQlR0r4vjfAQBTBSkbtTPG5HjlyxJAihAjirKwsbc9YeHVOCJYOvtzDhg3TWtQRvz634wxG/zC9ndf/QID0kTfCsYcPH+6yAAlCSyJcEZ6koGoByilTo9/cmSpnSnK1AD2227sCJLRcvB6YsHDhQnaNffbZZ7xhAaruDps6dSp9+umnLExvv/02u1MQgLBkyRJatmwZj3Bfe+01DlSAuw4jI1hFeBwbLBoIkyC0JmIV6ycxyEwWLfwtvcRBx9yQAduZWzsG0+2dVAF6RBGgj9JEgAT34FV3nDOYx4ErB4EB9QGhgVsKc0H1zfm4grjjXEfcca7hTnccot8gQGGa9YNM1RAf3LpKbe64O1OCabJWDRVrgLAY1ReIO851xB1XCwhMaEiAADq5VatWuV2ABKE5w7nfgqsFKM9eQYeKHackQLUxvUtIlQA96EMBElouPhMhQRCaDkKuE6xq7jezyUSViuZkKNZPWkkFuVl/aGbXELq+vZXvz91ZQJ+LAAkeQERIEJoJCD7oGGymCK30AhadHlSsn+wy94d6z+keSlcnqgL0wB8F9MVRESDBM4gICUIzAKHXCD5AGDaA8CD9jrvdb+D/ks10eXwg35+lCNCXx0SABM8hIiQIBgYJR2H9RGupdxByfVixfuCCczcI756Z4KDzo1Whm7mjgL4WARI8jIiQIBiUNorwIPO1Xngu165aP7Zy91s/I2IC6N2BETQiXBW3GTts9E2GCJDgeUSEBMFgIOMOEo8i/BrA43a0pILSlc0D+kP/SAmm5/qGscWVWmaiB/Y5aEWG8cKMhZaJiJAgGIhIix+lhPhTiBZ6XaCoDqyf424qveBM/wh/eluxfiZpIdgIPpiZ6k8/5XlA6QShDkSEBMEgJHLotV9V3Z/MUnXtjzsqn9YEa38WDoigfuH+lK8IHdLwIAw7xzu5SAWhChEhQfAxIWYTdQkxU7gWel3iqKRUxfrJ8kDodWfldeb3DeMsCGB1jp1u3pQvaXgEnyEiJAg+BFVPk4Kr874dR+i1Yv0UeiD0+soEK72tWD/DY9QyDK8cKKbbt+TTzgIxfwTfISIkCD4AEdedFPHRq57aKyrpiCI+KL3gbu9bnCJ0j/QMpdndQniuaZciOhCflw9IJVTB94gICYKXCferpM6KAFm10Ot8eyWlFlfw3Iy7uaBtIL2hWD9j26mLTz9OK6GbN+ezG04QjICIkCB4CQS8dQjyozb+6lwP8r4h6/WREvfW/QFYeHp/1xB6vFco55rD/NKDOwvo0d2FlKeIniAYBZ+VcvA2EydOpKFDh2p7KmazmTZt2kQrVqzQWoxD586dqUuXLrR27Vouo200YmNjyWazcSloo4GU/yjRkZOTo7X4Hlg/sRAfk4nT6h/KyOZItJJKLRTOjQwIKqdrI0ooJcDB++uKLfRBrpUO2Rsec0ZHR1NpaakhS3SgZDsKXRqx3D2Ij4/naysvN94cG8qbbNy4UdszFq1GhFAqvCZjxowhh8NBH3zwgdZiHAYMGMDl0FHMD8X9jEZiYiLXE9Ir3RqJ8PBwridkhDpMmPJpp/zR1/2YFBGytkukzfsOub28N7g5KZBubK8GHoAFqaX09uHGLzxFkUnUE8rPz9dajENwcDDXE0LNHiOSnJxMaWlpZLcbz9UZExND6enp2p6xaDUiVBtS1M51pKhdwyDoANFvOlh4CusnLqmjW4raOYOFp7d1CqbBkRbe35pfTi/sL6J1x5vWIdZW1M4oSFE715GidoLQirD6qUlHdQFyVKoVTz1RdA7c0CGIXusfUSVAiw6rwQdNFSBB8AUiQoLgRpB0tFNIddLRfE46WkE5Hlh42j3Un+b1CaO7OgcT1rmisN3//VFAT/5Z6BGxEwRPICIkCG4AWQ+w7kdPOop1P+klDjqiCIMn0u5c195Kr50WTqPaqPM//80oo1sU62e5lF4QmhkiQoJwCiDRgZ71QF/3wyUXih3KrfvFR7d+7u0SQmH+Jl5b9JRi+fxzh43dfYLQ3BAREgQXgQg4Zz2AxYOsByi54IGk1ydZP99lltFNG/Pog8OS901ovogICUITQbR1nNWP2juV28acD0oueCLrQU3rB6/17z2FdN92G+0pFOtHaN6ICAlCE4iwqJFvUVrGawQAwA2G6DdPxALUtH5WZJTSTZvyackRsX6EloGIkCA0gkDF4kG9nwRrdcZrpMKB9YP1P+6mpvWToYjcw7sKacaOAtqvvKYgtBREhAShAaIVqyc52K+q3k+RYvJAfFB0zgPGz0nWz1fHVOvnk3SxfoSWh4iQINQBLJDkYDO1Uywgs8nECUdhkUCAIETupqb1g3U/qHY6+48CiXwTWiwiQoJQA2Q8gOsNgQfBWtg1XG4HFCHI9sCiU1DT+vk8HdZPHn1xVNb9CC0bESFB0EDUG9b8dKxRajutxMGWCO67m5rWT6ryOrMUy+fBXQUc6i0ILR2fiBCSc86cOZOmT59OKSkpWuuJnHHGGTR27NiTNrTr6Oe57777qHfv3lqrIDQdzPsg6g1rfmD7IN8bXG8Hihweq79T0/pZmlbCcz9fS9YDoRXhdREaN24czZo1i/z9/Tmz6/z58+myyy7THq2mV69eNGzYsBO28ePHc+ZrcPvtt9PDDz/M50ENlKeeeoomTJjAjwlCY3Ge99Gj3o6XQXwq2PXmCfnpaHHQM71Dq6yffYUOznjwyO5CDnYQhNaE10XokksuoZUrV7KAwIpZs2YNjR49Wnu0moULF9Ls2bOrtjfffJOLRX333Xec0h0F6j766KOq86xatYrOOecc7dmCUD9IMJpoNZ8w72MrV6PejipC4O5Kpzqwfh5qW0AjY9SM1x8eUa0f5H4ThNaIV0UIrjRYLps3b9ZaiLZv386i0hAXX3wxV3xcvnw5W1B+fn4nFFRDXRucWxDqA/M+7TDvo1g/4RZVfDDXg3Q7h5XNE1FvoH+4P73QL5zuSQmiEL9K2q1YP/dut9HjewrpuCdy/AhCM8HrlhCqDqJolg72UbLXea6nJqhYiEqjP/zwA+8fPHiQdu3aRRdddBGdddZZXCEVt7///js/Xhuoylhzs1gsXOkSgma0DdcFantMNte2NoFmSgm18K2f8v5WkImy7ESpJZVUUOGZ74FZ2W7uFEyvD4igs6JV6+fLAivdsrWQVmaX1/oc2WTzxGZUvFpZFUIzbdo0WrBgAa1bt47bEGxw44030hNPPFHVVhM8Pnz4cJ4H0it56s8zm81UWal0IgUF9Nxzz9UpRBMnTqQRI0Zoe9Vs2LCBVqxYoe0Zh86dO/O2du1aQ1a5jI2NJZvNRiUlxltACcsaFXNzcnLUfcXyiFS2QGXTyXOYKK/CjzyQ7KCK/tZyGhdeQj0Dy3l/Z6k/LbVZ6VhUEpdaxvfWaGB+FR4HI1bMtVqtPGDNzMzUWoxFfHw8XxumDYwGqg2jrzMihhChyZMn02OPPVbrm4QOZd68eey2QxADQCQc5om++OILWrRoEbfdcccdbC3htrYfECyfmlxxxRUsYu+++67WYhwGDRrE0X+fffaZlPduInp577zMYxRtMVE4fHAamPfJtld6tOgbagvdlGylie2tvA+hez21mN5IVQTb5MdloN1d3ttdSHlv1zF6ee+MjAxtz1h41UbDCAFiEBMTo7WoI2qMputSaYgUnvP5559rLUQdO3akgIAA2rt3r9ZC9Ntvv/GcUF2h2pg/qrnBFYjRKDoDo236KLm2x2Srf/OrrKBoPwclWU0UalbeQ+W9LCyvoENF5ZSqbIV2R63Pc8c2MsafXu0fWiVAP2eX0ZSNefTK/iIqd9T+HNlk88ZmVLwqQhAajLAQbq2jWGI8x1MXZ555Ju3cufOEY2Dy4k3FXJEOQroxx2NEq0HwHshuDfGJ0mJUyiuq1/t4osyCTmyAH/1ftxB6pncY9Qj154J2KDZ3x1Ybbck3nntGEIyC12erEHrds2dPdjNha9euHS1evJgfmzp1Kn366acsTAABB/Czfvvtt7yvA1ceQrUnTZrEYdpLly5l19qHH35Yr6AJLReEXCPcGnV+dO8b6u4cKFbX+3iSi+MC6fUB4XRVgmr9fJNRSlM2SbE5QWgMXp0TcgbzQ5hPwFzPqaBH1dUV1FAfWPiKCex33nlHazEOmA8aPHgwffLJJzIn1ABtFCsEmxZQSH5BoVTkb6X9aUfVBg+RrIje3zsG0dh2gbyPEO/XDhbXm+8NUUoyJ+QaMifkOpgTysrK0vaMhc/i9iAapypAAOdxRYCE5g+yDWC9T2ygKkCINUBxucOllaQYQB7l6kQrWz+6AH2cVqJYP/mScFQQmohxg8cFoQ6QXUcvrw03HMi3qyUW4ILzJD3D1ISjM7uGsPW1s6Ccpm+30aO7C3nuSRCEpiEiJDQrIi0mSlGsH728NtLrIMv1kZIKKvVQqh2dSUlB9LpTwtGFqcU0ZWM+fZ8pKXcEwVVEhIRmgWJ0KJaPH8U7lddGolFYP57Kcq0zKNJCL/cPp3+kBHOeud9z7XTz5nx6bl+Rx9L8CEJrQURIMDxwe6UE+1OYv/p1xUJT1PdBolFPZjyA1t3SMZitnyFRFipRLK3nFeH5+6Z8Wnfcrh0lCMKpICIkGBZkHnAOPMD6XZQ6wJofVDr1JBAdiM/NHYN4f1UWFp3m05up1XkPBUE4dUSEBEMSpwhPkiJAeuABROegYv1keTjwIEAxf25PCWb324AIC7/u038W0t3bbLTDJotOBcHdiAgJhiLCYqIuIWaKwiSQAjIeHC2pYPebJ/O9AWS5hvUzJUm1fn7ILmPX2/uy6FQQPIaIkGAIYO8g5DrBKfAgF2HXxRUer7eDYIO7OgdzvZ++4f4cbDBvbxHdtdXGIdiCIHgOESHB58QoVk+3UAQeqOKDUGsUmUtXLCBPVTjVOadNAFs/N3RQrZ+fNOvn3UMy9yMI3kBESPAZKGyaHGymtoF+HIkGkOfN08lGAco73NslhJ7tE8YLUBH59qxi/dypWD8y9yMI3kNESPAJKLHdRbF+4AoDhYropCrig6wDHjZ+6NxYWD8RdJ1WbmF1jp2tn7fF+hEEryMiJHgVRLt1DjFTtBZ44Kis5HxvqcUOKvRw4EG0xY9mdA2hp3uHUddQM7v65u8rotu35NM2KbcgCD7BZ1m0vU1CQoJ2rxqUinA4HPTBBx9oLcYBVWIHDhxIy5YtM2RFxMTERM6ijeKAjSXB6ndClVNkOsi2Y95Ha3AT4eHhXFnVOfv46Db+NKVDIHUKUsVvbW45vXaojLbaHLzvLZBFG3WwUHLEiFm0UVoFWbTz8/O1FuOA4pbIoo1M1UYEn2taWhoXyzQaKCSKkvJGpNWI0MSJE2no0KHangpKe2/atIlWrFihtRiHzp07U5cuXWjt2rWUm5urtRoHVMS12WxcFbchQvwqqa1/RZXZXVJpolyHiQorqgXJnSDlP0p05OTkULS5gq6OKKXRoWp+NxhbH+ZZaWm+mv3a25hMJq6RhQ5Br55rJKKjo6m0tNSQZdutViuFhYVxUUsjgs8V14YK0kYDJe83btyo7RmLViNCtSH1hFynsfWEEHigz/vgi5ZdWkGZHl5wih8cLKFBlcdpascgSgoyc/va43Z6+UARbcrzXSch9YRcR+oJuY7UExJaHchyjagzXYBs5ZV0oNDhcQECcQFEd8c76JGeoSxACHRYsL+Ibtmc71MBEgThZESEBLcCzUHgAer9AL3UAqqOIgza0wyPCaBnupjp/AhV7H7LVSPfUPFUEATjISIkuA0kGsWiU+RfAygwt98LpRZ0JnQIovl9wygxUH19uN6mKgK0IU8yXguCUREREk6ZQEV0uivig5ILAGt+UOcHoddeMH7IqphfD3QPoXs6B/N+akklzT7kT68cMJb1U+lnJoe/lUrMwcp9f61VEFo3IkLCKYGw65QQM2c8wJofJBvFmh9vFXvrEeZPL/YLoyvi1YWnK7PK6P69DlpfqFpDvqLCbKFySzDZrZFUGhJLxWEJVBwaT6XBMVTsH6Lcb0clIW2pPCCUxUkQWisiQoJLBCvfnO4hfhShldlGstF9hQ6PJxt15sK2gfRi3zAaGGHh/bdSi+mebTY66sXgpEqTH1X4B7KYlAVFUYkiLkXh7RWBaafsR5NdaXeYA/k4YKqoIHOlGhxRYQ6gMkWkWJwUoSoPCFGOE0ESWhciQkKTQbmFBIsqNnqVUyQb9XC6txNAxdN/9wrlzAuIvJuzs4CzH3gS1Z0WRPbAcLZoSkLj2MIpCY5lMSm3hFCFnyqIwK+inPzLi8lSmkeBRVkUZEunoIJ0Ci87TtbCDLKU2chUqS6WhVCVWaOU88FaakMOxYrShUsQWjLyLReaBKLfUG4B5NgrvVLl1BnMOz3eK6yq4umW/HK6bUs+LTtayvvVmLgTh2WB+Re4x2B5wGrBvIzDEsQdPawPWDH2wDAWF7s1ggUFVkyZIjQQhJruNBwHMapwmtdhwbEXUUBJHlmLMhXBSSNrwVEKKMpWRMjGAlYU0Z5y4gfQjujTKStxCNliuvLrlAeG8jXgtkIRI1xfqdKO18TjuFYSQRJaKLJYVRarNgkEIGD+J6xNO9qekevVlfWnR1roni4hlBIaQHYy0xcZ5TT/QAkVVOhio2zKbUh4hPK5WikrO1t7pnvxq7CTn6NM2XCrbBVlXHscAgaRKg1qowmYKmK4D2FpCn6OUjKXl1bfKpt/WaEidMpWVkBme7HSrmx8W0KhOXu1Z54asljVdWSxqmuICIkINZpExQIKt5jY7ZbXrgdl2EqUDquQTEg/U1kB20O95f1KZb9CvVXaTtzHV04/TrtVUEVEERRNTKqFxY9Gtwum65NDFAFULYJFR0pqsX5UQkNDyap8rnWJkHqdeE39WtR9vb3q8ar/Ccc5WHBgsbB1pAhLmXar33e2jOoC1lK4o4BKlI4K1lQ5W2Sw6k4tkAKiGJ65k8Kz/uBbCJUriAi5joiQa4gIiQg1Cp4H0txw+0yRFNAuifLzbdxheRqs/xnTNoDvZ5RV0HuHSuj3XLsiDBAwB5kqlM3pfkRYCAUrn+uxY0driIsqgnUBlx2i2eCOq77V3HOa2DRGLCyl+RRYlE0BRVl863zfUlFaa9qeKhehIkyqq1C9D5HCXFN5YBi7DtkNCJei2cq3vNUifsF5hxRBUkQp8w++31hEhFxHRMg1RIREhBoEi0+RBQEcpRA6Ygqj9m0iqCgrnQqVDgvdO+YsKk3arfM+JADWi3Kfb/X9eoBYIIosMbCSbkkKpKGRfhSgtG04XkIv7LXR4UJFgBSxURRFfUIN9NxxR48qIqSB11SFJYJvTxCbIFVs0Nk3loDiHE1cIDKqwAQUq/dhMdXFqeaOq5rTcpqTwv9QFNGB55wKoruc9P7CjacLEqwkuPjqQkTIdUSEXMMnIoQOdvTo0fxhffrpp7Rv3z7tkWrOOOMMztRcE2SpXbdunbangvTzPXr0oN9//71JcxQiQo2je5g/R7Ao43vaY4qigJJc6tg2slEJTOsEooSzsjipoqVaNIq4KNbKOTEBdF/XYHYBgvcOl9Azf9b/WnCVIUTa1KYj2UNjKbfCUiU0CCZoCrBmLMr/if+Vb4uPV4uNsrGL0QXcl8DUpFhLqhhhPZIO5oew/qgwujPlt+nO70dNQo/vU113iigheMIZESHXERFyDa+L0Lhx4+i6666jDRs2cH2Qvn370uuvv06fffaZdoTKpEmTuJSBM6jXgdo606dP11pUFixYwF+AuXPnniRQ9SEiVD+Yj0kIDqBIk53KFcHYUxFGFSX5PNJvbBZtV7ihQxDdpWU/QL65p/8soqVp1SUjICjoXHkLaUelfL9toy0ZTO5bSvIUYdEERhMa9X4e37oqMg3hiSzasIzgrkOYt0olR+RBSCHCNkWMIEi2Nj3Y5egM/nfdQsJ8UpxWT0hEqOmICLmG10Xo7bffpvXr19P8+fN5f9asWVxw7rbbbuP9ukhJSaEHHniAlixZQsuXL9daiW655RY655xzuJDUCy+8ICLkJjAnEWYNomTF/gEHywOpqLhacDwhQsi4fV+XELosXu1M/yispIczIulHas8iowsPRv/1YS3NpdCyXKrMO6aKTZXAqLf1ucs8jSdLOUCI7AFhVe44BCtAjBBFp1MQlVIlSsXhiVprNW1sByg8508yZe0nqy2dn28URIRcx8giVL9z3s3Axebv70+bN2/WWoi2b9/OX66GuPjii7nYlrMAwYo6++yz6dtvv3X7D7o1g/kRc1B4lQBllvudIEDuBoKXnNSFnj2jfZUALTL1oJFRd9KiHrfSkR6XUHb7IVQY2fEEAYKLDKP4tvtXUdK2D6nbr/Op33ezaMjGF+j0fUupw/aPKW7vtxR95DcKy95DgYWZPhUgT+OvCEZgUSZH4AGsi+LIPWtUlTDBFRe/Zzl1X/Ms9Vn5ECVt/ZCi0jdxqDfICutI+5LPo72D/k7bR86hbaPm0t7TpyqfwaWUkziYs0EgalEQ3IVXRQjAYnGOqMI+qiVCoOoCbjiUu/7hhx+0FpUbbriB55O2bdumtQinAjotrNh3BIRS98ocbsNC1Kxi947s4DbLbdeXjvT8K+068x7qMfJaer1zCQ0OVDvPuf7D6dqAyyjDpA5O6hKbXj8+Rikb3qSE3V8pQvM7R4Fh9N+agchy0ISyYT0TQFQdXJa4dQZh3NFpv1Pylvep7/dzlPf1eepy7Bdqc3w3v+cA82xYVJuZPJxS+1xNu4f9gzaf/zjtPPs+OtD/ejqWci7lx/YipCwSBFfwqjsOQjNt2jSew9HdZmPHjqUbb7yRnnjiiTpdaXh8+PDhdPvtt1e5fyZPnkyjRo2iBx98kE3NmuetSc+ePbV71YwcOZLLUy9evFhrMQ7K58LbV1995ZVyxshxVhagTt6nVOZSFJXweqDUkgqqrQ4dXKgoO15U1HCqHJw7P6KjtiVRUUic9gjR+Io/aJH9c76fTiE0q7Q3rcgPoGDFagkqyqBgZWuq9RIeHs6loDF/aDTgjsOg6uDBgx633jkiUHnv7ZZQrYXI7CihgNJ8zvBQG23btuXfRH5+PpUrVmdhaLyyxVERbkPilc+urXbkySAoIqTwmPLZYTuq3R5TXtM9AwPMIUdGRlJaWprWYizwuaJsuxHdcTExMYZ1YxpChCAojz32GAcr1ASuunnz5rHbTp9Hghtu5syZHFn30Ucf1XremkycOPEkIcKiRpz366+/1lqMQ7du3ahr1660evVq7uw9RYXSURUGRJLDpIb7xlXkU6JJFZZjdhMVVCDM+mTQWdlsta8TKvEPoezgRMoJjqecoHjKs54c5QhuLF1Hb9D3fP+g3UzzjgXQgbJTN87xuWKuL9tDGRNOBYgQBBwdqbdcyOV+FipVPhO7n7rWCnGJ1vJCCiw/eQCBzgpu74KC2he7QtjweeYFtlFvta2iHhddWGk2RRcfpeiidOVWGWqUufZ9Rtg9vCZGHFwAfK4YMMK7YzQg3lu2bNH2jIVXRWjgwIE0Y8YMeuutt6rmdhAFd95559H111/P+zW5+uqr6ZJLLqHZs2fz6BFcddVVdPnll/P8EsAPW594w/zQK6+8wu0N0doDE5A7DTnKdKLsxynFX11Dkq2YPxmldXeSzoEJCIEuiOpIRRHJVBiZzGtWasNacIxCcg9QaM6f9De//fTvrurnt6fAQf/cYeMCeO6gtnVCRsGTgQkNoefI0+d0YKEgcMN53ZCrIdoICy8OT6DisMSq25ruPx2sW8L3QN0OUsjxA0prw92QBCa4jkTHOfHaa6+xyTpnzhzef/bZZ7kjQ5RcbeBxjC4effRRreVkGmMJ1UZrFiHO1KzlM8PcQXBpLnULdGDZDhelQ02g+jD3GkXp5mjKDUlQRCdJaz0RVXTQyexn4UF0Grg4LpAe7qG6iHYVlCsCVMBF8NyFiFDdIJkrhMg5nB3ZvCFGwJ3rhBDggkAGDEwQVIKNv2C1wN8T3g5QsLLVFpUnIuQ6Eh3nxMKFC9kthnVB2LDQVJ+TmTp1KrvYMBcCxowZQ/Hx8WzdCO4BwoOOQRcgTE5DLBL8y7l/QC06VEStC3Qk+wZOofUdLqK0hKEnCBDOE3N4HXXY/hH1/OkJ6rH6ab6PyW9dgC51EqA/bOV033b3CpBQP6aKcg46CCzOrgriQFg3ylI0FPreVCBsERnbKWH319R13QI67b/3U7e1z1PirmUUeWwrr2PSgVBldBxB+0+byFF5O0bMpIN9/0ZZHYZxNnGh5eJ1S0gH1gssIMzJ+IrWZglx2QBtdT0yE2BhptlexOURYgPV8cgRxQLKr6U0A0bQiIQ6lvKXqnDfYJQsyNlPwXnqKBYiVB8Iv57bXRWg7YoAzVAsoMMNWFyuIJZQI1FGHRCg8sDwKmdYfGQwOQqOUz4sIecErtqtu8F3kq2kKNVaqktwOEGr7RC1tWdSxf6NHGpuNMQScg2fiZARaE0iBOtHB4sXIUAYFYf5m6h9kDpHUNc8UF7bXixAutUDsemZu4mCD6xp9GLVKxQBekAToG35cMHZKK3EM52wiFDTQGi+WiPJSm1iYqiknsCEajFShMn5ljNMVLc5CxcEBJFzjQHX4uy+gzihxlJNkNEC5Svg5sUtBkG+RkTINcxxcXEPavdbHX369Dlp8axRQKRNYmIi/fHHH43u6OsC8z+wZADEB64x/IiRmDQ52Kx0Fuo8UE1RQMeU3u0iSutxKfv3QdsDP1DStiXUwb+QQ3kbEwl0ZYK1SoBQhO7+7TZKr8fld6ogPNtisdTZkfoSk2J9YF4DEY+V3GH7HljFWOCKW2tYBJU7KurpSJVvC/y2ijUMi7iq3Iby/ar0Q+FArXggb2qWbwTA4LuENjyPBaqOtEi4BqxxgqUTnb6B2u37niIytnFV2sBK5ZosQWQ3W/kakNm8IKYr5bQ/gzI6jWLxwnwXwPfc2+BzRcSow2E89zLC2xuznMIXiAi1cBFSK4fqP8zcE+rMoDRDoCJEmAc6oggQbnWwOv5Qn2s4xQtAxoGk7R9TzOFfOZABa3EaI0JXKQI0q5s6Cb4pTxEgxQKqb87JHYgIuQbWY8VY/chUnEuO/Cyy2As4kg0ChQ0WtL9d2RSrBuuNUGzP7EDhPcXSqVA25flc8E+xsE2V5cqtg60hPRoPQsV57gJCyREQrGYBV94PCBJbTXVgUb6zwfmHKd62l3oV7SLLH99RSN4h/i7jnEhXBCFEBVx8XyFKWFyLKM1ybfDkDVESEXINEaEWLEL8wwxW1+igE7GUVv8Q2wX6UYRFnds5WuKgQk2BkDHhSM/L2P2GESw6ofg/V1D7HZ/wSnydxojQNYlWmqkJ0IY8u2IBFVBmbStf3YyIkOtgjVW58pmWKp8tXGssEIp1gg3iom5aRVlFfFiAtOqvcLmpmyZWEC+ImLLhOSxIyncSwgMrCpYRl1hXRAQWEx5TJIlfqzYCAgLYzVqYk0nI/o3yFG0OrVG2X9hy4uAX5dxYMlCpWGTIEqGLUlbSmexOtgdFqufygCiJCLmGiFALFqGS0Hj+UaIDgIDoo81IRXzaaoEImAfKsavtGZ1GsvVTrM0fRaetpw7bllBE5g7ed6YhERqvCNCMrqoArc+1cxg2XssbiAi5DotQeTkvWHUX+N7hOwhxQjg4hAqWEt4L3U2M2wq2kmC5hygiEsBChefqrjtdhJDNwRkIIspswFqPOfIbxR78icJy9qq1nRRrjOe7LEGc/FYXJeQiLIL7TrGUIKy4rlNFRMg1RIRaqAjBX84+eAUIkJ6mJchsog5aIII+D4RCaId6X0XZHYZyZwD/e+KuLyhu73fKaLb2165PhK5tb6X7NQH6TREgWEA5du8IEBARch1PiFBNYOlgoaxqKRXwfT8IjTbPhFvMLUE42HWniFOl2Z/8FREKtgaQrYYI1QTfdYSgwzqKSt9AsQcgSnvIWogUUKWK2AUp4qOWA4EoZXcYRnlte7M7D99/fc60qYgIuYaIUAsUISxErJqgLc3jHzvwMxEXibNo80Cp5RY63PkCRYDGKaKlZk5ou38lBx7AB18fdYnQ9YoA3dtFFaC1xxUB2mGjXM3S8hYiQq7jDRFyRrWSytk6YkGyF/M+2nkuia0lMwc5mILCyRQcSbYSu2olae7ChsAxWBuFhbBRRzezpRSetZuCCo/xa9kDI8geFMWWUW78AMpOwvq3DiyAfuWldQ7EaiIi5BqqT0ZoMeDHqWc05pGm08pzzAPBEgK7I3rQ9tNvZRccCMvaRV1+e4kXFjY2nLYmEzsE0XRNgNYoAnTfdhvleVmAhOYN3HYQI1SvDSpIZ5caXGWYewKowovEqihPURwax9YLBly61d8YIEoQpNgDP1KnjQup10//po6b3+P5JZT7ULO896PDPS/nbOG7h95Jad3GUn6bHtoZBHciItTCwI8S+FWWcwE3negAP54LwsLEbZ0uok19buCFgfjBJ+78gjqvf51Cc1xfAIhqqHdr1VB/yVEEaJuNbLUsehWERqNYOhgQIfMCXGnIqB5ktymDq+IqCwjVZGHJIHcd3GsISuBsIIpYNRYETkQqFhKCb3r+/CRnd4j7cwWvPwKwijBY2zdoCm0bOYcO9r+OXdeYaxJOHXHHtSB3HFaf6+l41Hkg1VXmr/wek4LNXMNnd+eLaXtUP25HDZ6k7Uu4Vk9TcXbHTU4Kon9oAvRzdhndt6OAipzjvb2MuONcx9vuuKYQaPGn0EB/Ksw5pggR5pLs2lySiV132Koi7qqCGxBvhwi/xr/XmBPidUppv/NaJatikWHeCnW2EMmHFEeooZTZ8RyytenG86/4rbUNMok7zgVEhFqICOkLAgFycjn7sQOCQqikx4V0PHEQ7bPEktl2jNrv/Jza7fsfu+xcQRehiQn+dEeKKkA/KgKEIISSCt92riJCrmNkEXKOjoOdUz2XVMi3sP4ZPwhSdXADxIOzLiDowSnarjFgjio4/wjnumuT+guF5KnJVSv8LOxVgOVVGJXCEXcHI3py/SWURcGC27pCzX2BiJBBaTEipPy4kBUBI0I1JU+1Gw7rfmx9Lye/qATC0kH7/vXUQbF+gpQf1qkAEbomupxuTVJTqqzKUgRIsYBKfSxAQETIdZqLCNWE1zHpEXfKBisJFpAuSIh6q1ooq0XbAYRwNxaIlxoKvpvaHP6Vk7NalX20Q4zs/kFUpFhJee368jq7gpgu7Crka1KE0peICBmUliJCpSFteGTGP5LibOVW7dwwkZra/zoKDwmlsLJcity5gvwOrCVTE354dTG1YzBNaqfe/x4CtN1GRolBEBFyneYqQs7g+6+uS1Ij7hCW7VdRwe89Iu30aDuHJYQ9CPpaJVhWTQEBE8hZF5W+kWIOr6Vkq53stuNUrogcLDAECEGIsFA2J/F0duMh6g9CVh+lIW0pN/40Dh/HOqagBhIDNwYRIYPSEkQIIzA9M3ZgSU5VFFE23AP9r+dRX2fbHurw53Jy5ByqyoxwKvytvZVuTVTXGv0vExaQ7YSUP75GRMh1WoII1QTWDrI6wEWth4DDLUda3jt9HgnCAUGCq6+pAzX87pKDK8i8fx1F7/uBQo/vVzOUKK/BwRLKubEI/Hj8ADraeTQVRnXiLBFwnSPbhM7RLhfQgdMmUH5sD16/p1pVoygkL5VdfK5iZBFqNVm0hw0bpt2rZsiQIfyFRolwo9GvXz/evvnmmzqz32LEVWJVw7EDENaqrfpO7TCCDnZQQ68TcnbQ+Wlfk395MaUr+lRbmYam0MFqohe6+VOUxURrbCb6527jdVYoAY3OyohloJFFOykpiVJTUw2TRdsZlG1HUTtMsBsNdKTIkI6imO4AbjpE1+F3VM5zRtURdcjC4I90RLzVlcz1RPC54tpqrp0rDQin7JgelBvRUdk68Ws6E6QMHmNydnGJ9LT4M7TWE/GrdNCgjQvIWnJca2ka0dHRVZWpjUarEaGJEydygTxnYmNjac+ePfTll19qLcahe/fuvP30009cRrs2bNYY/uL6V9gppFQ9ZmvCuZQa3Zfvd8zeTEMyVlKcv9rZpZb5Udkpftr3tLPTX8IdhOWEs4+F0rb82tP2+BKM5lGiIzs7W2sxDrCEYOEi5b8RLaGYmBi2goxoRcLCxVykJwYXECS7nyJIilWEWzaHNMyK5WSBJYUkrVrEaW3Ae4FrgyVZH1mhiliFd6Xs0A5UGKDmsmsMnbI3Uq/0H7S9phEZGenT2m31IfWEmmk9IYSFYtEeCCo4yi45ZD7Ij+3JbfF7lnMafOSIiwnwo/KKStpTeGpzQWPaBtJjvdSSDO/nWOilvbZGh497E6kn5Dpxbizv7W68Vd4bLjq4sVFp1uEPq6VakThreLmaqBXWkjOu1BNCRCsWxiJy1bnmV20E2dKo+y//0faahpT3FtwKVojrAgQ/MSLg9p7+dxYgpBlJ2rqYBQhYkatH4VTrx0VYTDQlWX1N1AT66Lg6mSsILQ3MByGaDQEECApAtClEB1Qvjm3HC8NRJoVLUrgI5oRiU3/m32xrRUSomcFhptp6IET+FER1oj8H38KRN0g50mnT25z9Wseqxg+c8tqdKUlB1DlEPdkbB4sNFYggCJ4C1YfxO4MgoXyEKkjqPCgEqcyqCBLSBwW3oVJzkMuC1FBpfHAqGU2MjIhQMwMCVElqeYb8tr1o/4BJHN2DMsfIg4V09jpWs4nM2mRrySmoxtAoC03ooFpBHx4p4UWpgtDaQFSdKkiZZC08xtFvcM8BDA6LLaFUzBZSWw6tRltTSNhV99w01kG1USymloiIUDOiDKGeiuCA7MTBnGARIF09BAj5tZyxOn26p2IJ3aS54Q4VO9gKEoTWDuaDkDkB3gf87jjUWltnhN+oPSCMrSO4ypFOi9MI+WluiTpA6XxkMakJBChl/RuK+Bkv0MYdiAg1E9RiX6HKJ2amY53P5bxVoO3+VZS8ZdEJaw109PmgMkWAXC3nc2NSEA2KtPD9N1KLvVIZVRCaE1gjBBEKKztOQYogoWqrPoeEfHYIGlKzfsdXWUl1Zf2O3/MN9Vj9NCXu/Jzi/vwv/7b7fft/J3g4WhoiQs0AfGERRQNXHKyfvLZ9uB3ZrxN2f8X3awPuOOCqK65HqH9VMMK3mWX0ebrx1gQJgpFQS1EoFhKCGmzpiiAd5zV61Vm/VSsJWb91KwkLZZ0j8DA/FHvwZ4rb+y17OZqS6645IiLUDEA0XHFEB0rtcxUVhSfyqKvj5ne5OFdd4Ct9qpFxEKBgRciQZUHccILQNOBGQ5Qd10aypXFKLWRtQLAD0K2kUkWI8LuGlYQs3XoaodaCiJDBKbWEUm7cAErtfRW744LzDlHHTe9S5NEt2hG1g+J1+gJwVyyhy+MD6bxY1WUAAdpV0LS8WoIgnAhSBqHCK9b1qYENNracdGAllQVGcLE+tpKsjV/I2pwRETIwRRV+tK/dUErvegHvI2svLCBUhWwI3RUH+WlqUEJcoB/dlKzmo1ufa6e3UsUKEgR3ogY25LHrLch2hN12eqQdgJWk54Fs6YgIGRSHyY/ezYyl1Dan8T5KD3fc9A6PpBqDHhlXqlhBTTWE4IZL0E4gbjhB8CzI+s2LYwszKTj/MM8nwW2HuaTWgIiQQSn2C6LDZao7LP7P/3Lp4aZMUFYFJTTRChrVJoDGJajrG947XEJrjhsvN5wgtGQQWceDTQPmFvQEIkIGJdRRSNfFZlGvw/+jdnu/1VobB/QnUA9KaEK6ODxHXxO0rwhrgoyZ+l0QhJaD4UQISQonTJhADz30EF1xxRVa64mkpKTQmDFjaOzYsSds5557Lj+/pdDDWkwdsjZqe40HQQk6TbGEIEC9wtTIHLjhco1SpU4QhBaLoUQIAvLkk0/SqFGjOA3/+PHj6YUXXtAerQZ1O1ALCDWC9G306NF0yy23UMeOHbWjWi96aDbmgjAn1BgGRFSvCfr6WClvgiAInsZQInTVVVdxqnZYQfPnz6eHH36Ya/5ceuml2hEqq1atogcffJBmz55dtaFq4MaNGw1bM8Ob6PNBEKDGziJNSQ7mtUWwfiQYQRAEb2EoEUpOTuaKk3oFwK1bt3KRqPbt66+zcdZZZ7EF9MMPrhV8amnokXGNdcVd295KZ0VrqXkOFvF8kCAIgjcw3JwQCmo5g7rysIbq4/zzz6cDBw7Q6tWrtZbWi0UxZyxVmRIaFqGOweaqYAREwiEiThAEwVsYqrLq3Llz+RbuOJ1XXnmF0tLSTmhzpm/fvjRz5kx69913afny5VrryVx44YXavWr69+/P1QaXLl2qtRiHPn368P/23//+t0llqsPMRPGBqggdLKmk0gb8cf+X7Eejo9Tj7/qzgjYXNO7rgFLpqL4JN6jRCAsL41LQmZmZWotxQGXVDh060KFDhwxZWRUDvpKSErLZbFqLcQgODuaquenp6VqLscDnimq+drvxljVER0fTvn3GrEdkeBF6+eWXuZzvI488orWcyD333EPdunXjoIT6mDhxIn+JncGXBq6/zz//XGsxDj179uQN8185OTlaa8O0sRBFmSsJgW0HSlVxqYu/RFTS/Qmq621Jth+9mdF4wxhloCFCNS1XIwARQtl2I5YzhgjBvYzvtBFFCGWgS0tLDSlCKNkOETJi2XaAzxWl+I0oQphr37lzp7ZnLAwlQggwwAj7tttu01qI3nrrLfrtt99owYIFWks1mEOCOC1btoyWLFmitTaea665hjurd955R2sxDqeffjoNHjyYPvnkE/5iN5akIDOF+JvIVl5Jh4vrntuJtJjojQERlBJs5rxwUzbmc6LSxoIf3PHjx6mwsFBrMQ7oqNBhGbGzggh16tSJ9u/fb0gRwuACAwsMMIwGomfRmULAjQg+1yNHjlBZmfHS7WBwYcRBGTDUnNDu3btZhM444wzev+CCC/iLt3nzZt6vCdYFlZeX01df1V3OoLXR2PINiIaDAAFEwzVFgARBENyFoUQI1syGDRs4NBv377rrLvr111+rAg7QNmvWLL4PcRoxYgRbSUYcjfsCZDzQ16mW1hOUcGa0ha5vr6bmQY0g1AoSBEHwBYaLjoN7DfM3L774Io0bN47mzZunPUJ09dVX06OPPsr3ITyTJk2q1U3XWkHtH536agjpi1JRJRXVUgVBEHyF4UQIYA4Ea37EwmkaVq2EPRap2uuwhCBAAyP0NUHFdKieeSNBEARPY0gRElyjKmlpHVZQzzB/uilJtYJ+zC6jD4/ImiBBEHyLiFALorqcd+1WEAQIgQuIQZDUPIIgGAERoRaCcznv2pKWXplgpb84leveki/lugVB8D0iQi0EPSgBdbBqRsZFWEw0RXPDbVPER4IRBEEwCiJCLQTnpKXlNQyhs6IDKF4v160IUFk94duCIAjeRESohRCoWUK1LVLVM2SnFjtoVZasCRIEwTiICLUQqiPjTnbFwRICq7ONl9NKEITWjYhQCyDEaZFqzazZECAIEfg5R6wgQRCMhYhQC0APSnBUonTDiZaQ7oo7WOygX3LEEhIEwViICLUAqpOWEjlrEDJliytOEAQjIyLUAqirnPeZTq641eKKEwTBgIgINXMQj+CvBSXUXKRa5YorElecIAjGRESomeMclOCcMy7K4lflivtZBEgQBINiqMqqnmT8+PHavWpQFjwgIID27t2rtRiHmJgYrgt/6NAhrvlfF0HKMCJQ2aA/zpl4OgQSnR6q3l+dT5ThZh1CqXRUkERRQaNhsVjI39/fkKXHAcqPG7F8NkBFWnymRixRjc8Uv9eioiKtxViEhobytRmxYi4qSL/88svanrFo9SJkMplo165dWotxQEc1aNAgWrVqldZiLIYMGcIlqjMyMrQW45CUlMRloOuqyOtLIJDnnHMOlyoxYkffv39/LtuempqqtRiHtm3bcgnttWvXai3GYuTIkbR+/XpDDjC6d+9ODz30kLZnLFqNCNWGLkyLFy/mWyPRoUMHuu++++jOO+/UWozF3Llz6YsvvqCNGzdqLcbhvPPO4x8dCiMaDViQ8+fP58/ViCP62267jQdl3333ndZiHAYMGECXXnqpYTtTfK5PPfUUey+MBvo6I/ZzQOaEBEEQBJ8hIiQIgiD4DBEhQRAEwWeICBmYbdu2afeMR3p6unbPmBhx0l9n3bp12j3jYeT3DRj5e2fk36uRadWBCYIgCIJvEUtIEARB8BkiQoIgCILPEBESBEEQfIaIkCAIguAzRIQEQRAEnyHRcQbk5ptvpquuuory8vIoIiKC9u3bR48//jjf+hpc27hx4yg/P59CQkKosLCQ5s2bR6tXr9aOMAYpKSn0n//8h44ePcrXbBQuu+wyuuGGGzhB7datWzlNjhE4/fTT6f7776fw8HBOmIvbDz/8kF555RXtCO/Srl07uvjii+miiy4ih8NBV199tfaI+tkibVRcXBwnqcX38P3336eFCxdqR3ies846iy6//HJOJbR06VJasGABt+Pa5syZw9eG3waSEP/vf/+jRx55hB8XTkYsIYOBL/eFF17IP/4rr7ySrrvuOs5s7Pwj9BUXXHABjR07turasB05csQQ11aTqVOnkp+fsb7eEG8I0AcffEAjRowwjACBCRMmsGDjM4VQvvTSS/xZ/+Uvf9GO8B74nr355ps0ePBgTghaM1P73//+dxbKK664gq/1o48+YrHq27evdoRnwaBrxowZdPjwYcrMzNRaVZATENem/z6efvpp/j/GjBmjHSHURETIYCiWKVtA+GGBY8eO0a+//ko9evTgfV+CUR9+dB9//DHvY6S3c+dOio2N5X2j8Le//Y2zLW/ZskVr8T3JycncKS1btqzqszUS+AzxWeIzBbjGgoICn3zvVqxYwQJ4yy23UG5urtaqAqsH7+WaNWuqrhVWEIQKWee9wT333EOXXHIJPfvssyeUbejduzclJCRw5nv92r766iu+j++jUDsiQgajTZs2VFpaqu2pwNpACQD8+HwJXIJTpkzR9lRQMgGp/40C3CEYHa9cuZLrHRmFYcOGUWVlJWfOhusGGzpao4COMjExUdsjtoBQvwfCZCTQ0aM2jrMFgmuHWMH15Uu2b9/OXgHnbNWwzsxmM1tNQu2ICDUDkErFarWyn9xIwHWI+jPffvut1uJ74IbLzs42XAEvzAGhHg5G0L/88guneLn99tt5MwKYT0F9LVgVzz33HN19992cXuj777/XjjA26OhRg8toXHPNNSyYKHsi1I6IkOASsDj02jOfffaZ1upbEMwBt4c3J6gbCyxcjNYfeOABeu+999gSgssLQu5rCxf06dOHq5ZiDua3335j6xbvJdxfgmtggAFLaNGiRVqLUBsiQs0AuOLg89b9zL4GHdO9997LHRVcdEYAooiJ6h07dvD8BlxduE50rJjoNoIVCQvNOcIR8324Pl9fG1xc5557LruRMOkOkbz11lvZsqjpfjUqcHXWdGP7EgShnH/++fTuu+8aLnLUaIgIGYysrCyuVe8MfPUIRYXP2degY0d4LH70COk1kjDi/YFgY/4FG8JkIyMjOToJrjBfguzP+FydLQtcK97HmtFf3gbl0OHOQrl2HXyu+M5hzs9I4DPGXJ/z/BXeU4SUI7rPCGAAhLmhd955pyqIR6gbESGDsWnTJi4BDdcSwA9s4MCBtGfPHt73NQhNbd++PT3zzDOGESCANTdYizF79uyqbe/evZSRkcHteNyXIJoL83qTJ0/WWtRgBURCbtiwQWvxDbAeIYQQax24keBCNFLQCcB37sCBAxwJpws6Sn5D0OFK9DVwr2Je8scffxQBaiSyWNWAYHElIrwQIquP8FBX39eLVbHW4Z///Cd3TM51Z9CBffrpp4YLPYbFhpBZoyxWxWeKDgojeVgeeN+wjsQI7hrna8Nni0CK33//nb93vhxsTJs2jc4++2y69tprtZbqBaG4RlwvFnTju+eLhbVY8/Xzzz9XLVbFba9evXjw48yhQ4do+vTp2p7gjIiQQcEob+jQoSxARnDDCe5j+PDhPH9hxOJ2mB+CGxNr04xk6dZGc7pWoW5EhARBEASfIXNCgiAIgs8QERIEQRB8hoiQIAiC4DNEhARBEASfISIkCIIg+AwRIUEQBMFniAgJgiAIPkNESBAEQfAZIkKCIAiCzxAREgRBEHyGpO3xEGXdxlBlWJy25z5MtqMUsHu5ticIgtC8aVEiVJ4wgBzxp2l7p46rHX7JoBupdFB1yn53E7j+LbKuf1PbEwRBaL64RYQqA0LJEdNF26vGnP0nmcoKtL26j/MrOEp+Sod/qri78/dP30Qhy+7Q9hpPwZVv8f+J55vTNmqtpw4sK1hY5uw9FLr0Rq1VEASh+eIWEYIFUnjxfG2vmpAv7yR/p064ruPcNbI3iggVXvI8lSsWWWP/L1x3Y45zfv8iXh3Ot4IgCM0ZCUzwMSVn3snCiVtBEITWhttFCCN0fXO2ggD2T3hcsTRaM3CtlfZRy3jjFvuCIAitCbe74yAujaWpbqvmgqf+L3HHCYLQ0hB3nCAIguAz3Bcd16Yr36/pgqsPR0xXqgwMJT9bului4+DOsrvRpWXO+ZOsv5wcSNEQtVlCuDZXwr2dnyeWkCAILY0WtU7IiNFxgVuXUNH5jynvtMnlc1FlJQX/9/9Y6EWEBEFoSYg7zsMUXfBvtmBOBTwf5xEEQWhptCgRglsP1ou7NiwKPVWCV8zkc50KeD7OIwiC0NJwe8aEpnS4PCcUEOK2jAlGQeaEBEEQGodbLCGeq1A6Xp6/aAJYoInnlHW7SGtpubgiQMDV5wmCIDQHWtQ6oeaatqexiCUkCEJLQwITfAhcbXlTf6rasC8IgtCacLsl5LxOyLrm+RMm9zEHVDKs2rKAGw/zSe6yGCrC4pQtXts7dUylBS4FJzTFEuLccX2uosBtHzW4JkksIUEQWhpuFyFnvJ1F2yg01R0nWbQFQWituEWEYIHUFlwQsPvrE6Le6jrOP31jkzIt1AU6aSMUtdNFCP8T/jd3ASsPLjtEE4Z9oCY+FQRBaM64RYSMAkSoPP7UFoY6g3VHroiQuwMkatLSLEdBEFovLUqEjAQslvKOIzg3nrvAHJX/gR8lbFsQhBaDiJAgCILgMyREWxAEQfAZIkKCIAiCzxAREgRBEHyGiJAgCILgM0SEBEEQBJ8hIiQIgiD4DBEhQRAEwWeICAmCIAg+Q0RIEARB8BkiQoIgCILPEBESBEEQfIaIkCAIguAzRIQEQRAEnyEiJAiCIPgMESFBEATBZ4gICYIgCD5DREgQBEHwEUT/D7rNEK6RSOqHAAAAAElFTkSuQmCC)"
   ]
  },
  {
   "cell_type": "markdown",
   "metadata": {
    "id": "GzGVlmCuiIFe"
   },
   "source": [
    "![Screenshot 2022-07-01 030214 mod-1 loss.png](data:image/png;base64,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)"
   ]
  },
  {
   "cell_type": "markdown",
   "metadata": {
    "id": "P6CLOjOwDEnu"
   },
   "source": [
    "Observations: \n",
    "\n",
    "Note: We are referencing first epoch as 0th, second as 1st, and so on.\n",
    "\n",
    "- Train Accuracy continues to increase every epoch while Val Accuracy starts at a higher value with each epoch it converges towards Train Accuracy. After 5th epoch the Val Accuracy doesn't improve much while the Train Accuracy keeps on improving indicating that the model is overfitting.\n",
    "\n",
    "- Similarly, Train AUC continues to increase every epoch while Val AUC starts at a higher value with each epoch it converges towards Train AUC. After 6th epoch the Val AUC dips while the Train AUC keeps on improving indicating that the model is overfitting. \n",
    "\n",
    "- Train Loss continues to decrease every epoch while Val Loss starts at a lower value with each epoch it converges towards Train Loss. After 5th epoch the Val Loss slowly rises again while the Train Loss keeps on decreasing indicating that the model is overfitting.\n",
    "\n",
    "- Overall Best Model is achieved at 6th Epoch with performance on Val: Acc=0.752, AUC=0.753, Loss=0.535"
   ]
  },
  {
   "cell_type": "markdown",
   "metadata": {
    "id": "Y-tskymsFGbq"
   },
   "source": [
    "# <font color='red'> 2.2 Model-2 </font>"
   ]
  },
  {
   "cell_type": "markdown",
   "metadata": {
    "id": "mBv7LspiFGbr"
   },
   "source": [
    "Use the same model as above but for 'input_seq_total_text_data' give only some words in the sentance not all the words. Filter the words as below. "
   ]
  },
  {
   "cell_type": "markdown",
   "metadata": {
    "id": "nvM0NENfFGbr"
   },
   "source": [
    "<pre>\n",
    "1. Fit TF-IDF vectorizer on the Train data\n",
    "2. Get the idf value for each word we have in the train data. Refer - <a  href='https://stackoverflow.com/questions/23792781/tf-idf-feature-weights-using-sklearn-feature-extraction-text-tfidfvectorizer'>this</a>\n",
    "3. Do some analysis on the Idf values and based on those values choose the low and high threshold value. Because very \n",
    "frequent words and very very rare words don't give much information.\n",
    "4.Remove the low idf value and high idf value words from the train and test data. You can go through each of the\n",
    "sentence of train and test data and include only those features(words) which are present in the defined IDF range.\n",
    "5. Perform tokenization on the modified text data same as you have done for previous model.\n",
    "6. Create embedding matrix for model 2 and then use the rest of the features similar to previous model.\n",
    "7. Define the model, compile and fit the model.\n",
    "</pre>"
   ]
  },
  {
   "cell_type": "code",
   "execution_count": null,
   "metadata": {
    "id": "c7fQOJMDFGbr"
   },
   "outputs": [],
   "source": [
    "from sklearn.feature_extraction.text import TfidfVectorizer\n",
    "\n",
    "vec = TfidfVectorizer()\n",
    "vec.fit(X_train['essay'].values)\n",
    "\n",
    "#idf values of unique words\n",
    "idf_vals = vec.idf_\n",
    "\n",
    "#all the unique words in train essay data\n",
    "unique_words = vec.get_feature_names_out()"
   ]
  },
  {
   "cell_type": "code",
   "execution_count": null,
   "metadata": {
    "colab": {
     "base_uri": "https://localhost:8080/",
     "height": 206
    },
    "id": "ERd3jzjd8eiX",
    "outputId": "a4234f6b-9f5e-4aa7-ed47-e5f897732625"
   },
   "outputs": [
    {
     "data": {
      "text/html": [
       "\n",
       "  <div id=\"df-f6471a2f-a70f-434a-92fc-83465a394fa0\">\n",
       "    <div class=\"colab-df-container\">\n",
       "      <div>\n",
       "<style scoped>\n",
       "    .dataframe tbody tr th:only-of-type {\n",
       "        vertical-align: middle;\n",
       "    }\n",
       "\n",
       "    .dataframe tbody tr th {\n",
       "        vertical-align: top;\n",
       "    }\n",
       "\n",
       "    .dataframe thead th {\n",
       "        text-align: right;\n",
       "    }\n",
       "</style>\n",
       "<table border=\"1\" class=\"dataframe\">\n",
       "  <thead>\n",
       "    <tr style=\"text-align: right;\">\n",
       "      <th></th>\n",
       "      <th>word</th>\n",
       "      <th>idf</th>\n",
       "    </tr>\n",
       "  </thead>\n",
       "  <tbody>\n",
       "    <tr>\n",
       "      <th>0</th>\n",
       "      <td>00</td>\n",
       "      <td>7.275752</td>\n",
       "    </tr>\n",
       "    <tr>\n",
       "      <th>1</th>\n",
       "      <td>000</td>\n",
       "      <td>5.914110</td>\n",
       "    </tr>\n",
       "    <tr>\n",
       "      <th>2</th>\n",
       "      <td>000s</td>\n",
       "      <td>11.619557</td>\n",
       "    </tr>\n",
       "    <tr>\n",
       "      <th>3</th>\n",
       "      <td>001</td>\n",
       "      <td>11.214092</td>\n",
       "    </tr>\n",
       "    <tr>\n",
       "      <th>4</th>\n",
       "      <td>002</td>\n",
       "      <td>11.619557</td>\n",
       "    </tr>\n",
       "  </tbody>\n",
       "</table>\n",
       "</div>\n",
       "      <button class=\"colab-df-convert\" onclick=\"convertToInteractive('df-f6471a2f-a70f-434a-92fc-83465a394fa0')\"\n",
       "              title=\"Convert this dataframe to an interactive table.\"\n",
       "              style=\"display:none;\">\n",
       "        \n",
       "  <svg xmlns=\"http://www.w3.org/2000/svg\" height=\"24px\"viewBox=\"0 0 24 24\"\n",
       "       width=\"24px\">\n",
       "    <path d=\"M0 0h24v24H0V0z\" fill=\"none\"/>\n",
       "    <path d=\"M18.56 5.44l.94 2.06.94-2.06 2.06-.94-2.06-.94-.94-2.06-.94 2.06-2.06.94zm-11 1L8.5 8.5l.94-2.06 2.06-.94-2.06-.94L8.5 2.5l-.94 2.06-2.06.94zm10 10l.94 2.06.94-2.06 2.06-.94-2.06-.94-.94-2.06-.94 2.06-2.06.94z\"/><path d=\"M17.41 7.96l-1.37-1.37c-.4-.4-.92-.59-1.43-.59-.52 0-1.04.2-1.43.59L10.3 9.45l-7.72 7.72c-.78.78-.78 2.05 0 2.83L4 21.41c.39.39.9.59 1.41.59.51 0 1.02-.2 1.41-.59l7.78-7.78 2.81-2.81c.8-.78.8-2.07 0-2.86zM5.41 20L4 18.59l7.72-7.72 1.47 1.35L5.41 20z\"/>\n",
       "  </svg>\n",
       "      </button>\n",
       "      \n",
       "  <style>\n",
       "    .colab-df-container {\n",
       "      display:flex;\n",
       "      flex-wrap:wrap;\n",
       "      gap: 12px;\n",
       "    }\n",
       "\n",
       "    .colab-df-convert {\n",
       "      background-color: #E8F0FE;\n",
       "      border: none;\n",
       "      border-radius: 50%;\n",
       "      cursor: pointer;\n",
       "      display: none;\n",
       "      fill: #1967D2;\n",
       "      height: 32px;\n",
       "      padding: 0 0 0 0;\n",
       "      width: 32px;\n",
       "    }\n",
       "\n",
       "    .colab-df-convert:hover {\n",
       "      background-color: #E2EBFA;\n",
       "      box-shadow: 0px 1px 2px rgba(60, 64, 67, 0.3), 0px 1px 3px 1px rgba(60, 64, 67, 0.15);\n",
       "      fill: #174EA6;\n",
       "    }\n",
       "\n",
       "    [theme=dark] .colab-df-convert {\n",
       "      background-color: #3B4455;\n",
       "      fill: #D2E3FC;\n",
       "    }\n",
       "\n",
       "    [theme=dark] .colab-df-convert:hover {\n",
       "      background-color: #434B5C;\n",
       "      box-shadow: 0px 1px 3px 1px rgba(0, 0, 0, 0.15);\n",
       "      filter: drop-shadow(0px 1px 2px rgba(0, 0, 0, 0.3));\n",
       "      fill: #FFFFFF;\n",
       "    }\n",
       "  </style>\n",
       "\n",
       "      <script>\n",
       "        const buttonEl =\n",
       "          document.querySelector('#df-f6471a2f-a70f-434a-92fc-83465a394fa0 button.colab-df-convert');\n",
       "        buttonEl.style.display =\n",
       "          google.colab.kernel.accessAllowed ? 'block' : 'none';\n",
       "\n",
       "        async function convertToInteractive(key) {\n",
       "          const element = document.querySelector('#df-f6471a2f-a70f-434a-92fc-83465a394fa0');\n",
       "          const dataTable =\n",
       "            await google.colab.kernel.invokeFunction('convertToInteractive',\n",
       "                                                     [key], {});\n",
       "          if (!dataTable) return;\n",
       "\n",
       "          const docLinkHtml = 'Like what you see? Visit the ' +\n",
       "            '<a target=\"_blank\" href=https://colab.research.google.com/notebooks/data_table.ipynb>data table notebook</a>'\n",
       "            + ' to learn more about interactive tables.';\n",
       "          element.innerHTML = '';\n",
       "          dataTable['output_type'] = 'display_data';\n",
       "          await google.colab.output.renderOutput(dataTable, element);\n",
       "          const docLink = document.createElement('div');\n",
       "          docLink.innerHTML = docLinkHtml;\n",
       "          element.appendChild(docLink);\n",
       "        }\n",
       "      </script>\n",
       "    </div>\n",
       "  </div>\n",
       "  "
      ],
      "text/plain": [
       "   word        idf\n",
       "0    00   7.275752\n",
       "1   000   5.914110\n",
       "2  000s  11.619557\n",
       "3   001  11.214092\n",
       "4   002  11.619557"
      ]
     },
     "execution_count": 76,
     "metadata": {},
     "output_type": "execute_result"
    }
   ],
   "source": [
    "#analysing idf values\n",
    "df = pd.DataFrame({'word': unique_words, 'idf': idf_vals})\n",
    "df.head()"
   ]
  },
  {
   "cell_type": "code",
   "execution_count": null,
   "metadata": {
    "colab": {
     "base_uri": "https://localhost:8080/"
    },
    "id": "QxhYbvVE8-UJ",
    "outputId": "2e73e980-1cd1-4d8e-8b11-1398776a14f3"
   },
   "outputs": [
    {
     "data": {
      "text/plain": [
       "count    50300.000000\n",
       "mean        10.272662\n",
       "std          1.815332\n",
       "min          1.007652\n",
       "25%          9.604654\n",
       "50%         11.214092\n",
       "75%         11.619557\n",
       "max         11.619557\n",
       "Name: idf, dtype: float64"
      ]
     },
     "execution_count": 77,
     "metadata": {},
     "output_type": "execute_result"
    }
   ],
   "source": [
    "df['idf'].describe()"
   ]
  },
  {
   "cell_type": "markdown",
   "metadata": {
    "id": "21tKJrrZiWjp"
   },
   "source": [
    "- 50% of idf values are >=11.21 of which 25% are all valued 11.61, indicates that 25% of the most rarely occuring words have all occured exactly same number of times."
   ]
  },
  {
   "cell_type": "code",
   "execution_count": null,
   "metadata": {
    "colab": {
     "base_uri": "https://localhost:8080/",
     "height": 513
    },
    "id": "ZyspsvhV9VIf",
    "outputId": "16ee37c7-812f-427e-a7d6-d2d7ea38fb7b"
   },
   "outputs": [
    {
     "data": {
      "image/png": "[encoded data removed]",
      "text/plain": [
       "<Figure size 1440x576 with 2 Axes>"
      ]
     },
     "metadata": {
      "needs_background": "light"
     },
     "output_type": "display_data"
    }
   ],
   "source": [
    "import matplotlib.pyplot as plt\n",
    "import seaborn as sns\n",
    "\n",
    "fig, ax = plt.subplots(1, 2, figsize = (20,8))\n",
    "\n",
    "sns.boxplot(y = df['idf'], ax = ax[0])\n",
    "ax[0].set(xlabel = 'IDF', ylabel = 'Count', title = 'IDF Distribution (Boxplot)')\n",
    "ax[0].set_yticks(np.arange(0,13))\n",
    "ax[0].grid()\n",
    "\n",
    "\n",
    "sns.histplot(data = df, x = 'idf', kde=True, ax = ax[1])\n",
    "ax[1].set(xlabel = 'IDF', ylabel = 'Count', title = 'IDF Distribution (Histplot)')\n",
    "ax[1].set_xticks(np.arange(0,13))\n",
    "ax[1].set_yticks(np.arange(0,21000, 1000))\n",
    "ax[1].grid()\n",
    "\n",
    "plt.show()"
   ]
  },
  {
   "cell_type": "code",
   "execution_count": null,
   "metadata": {
    "colab": {
     "base_uri": "https://localhost:8080/",
     "height": 676
    },
    "id": "uroQDtjkkbzV",
    "outputId": "7a563482-e67d-49e1-b7d7-43b1d2824462"
   },
   "outputs": [
    {
     "data": {
      "text/html": [
       "\n",
       "  <div id=\"df-61b4d40c-f096-4afe-96c3-bcb74f809a55\">\n",
       "    <div class=\"colab-df-container\">\n",
       "      <div>\n",
       "<style scoped>\n",
       "    .dataframe tbody tr th:only-of-type {\n",
       "        vertical-align: middle;\n",
       "    }\n",
       "\n",
       "    .dataframe tbody tr th {\n",
       "        vertical-align: top;\n",
       "    }\n",
       "\n",
       "    .dataframe thead th {\n",
       "        text-align: right;\n",
       "    }\n",
       "</style>\n",
       "<table border=\"1\" class=\"dataframe\">\n",
       "  <thead>\n",
       "    <tr style=\"text-align: right;\">\n",
       "      <th></th>\n",
       "      <th>percentile</th>\n",
       "      <th>values</th>\n",
       "    </tr>\n",
       "  </thead>\n",
       "  <tbody>\n",
       "    <tr>\n",
       "      <th>0</th>\n",
       "      <td>0</td>\n",
       "      <td>1.007652</td>\n",
       "    </tr>\n",
       "    <tr>\n",
       "      <th>1</th>\n",
       "      <td>5</td>\n",
       "      <td>6.274834</td>\n",
       "    </tr>\n",
       "    <tr>\n",
       "      <th>2</th>\n",
       "      <td>10</td>\n",
       "      <td>7.559114</td>\n",
       "    </tr>\n",
       "    <tr>\n",
       "      <th>3</th>\n",
       "      <td>15</td>\n",
       "      <td>8.361461</td>\n",
       "    </tr>\n",
       "    <tr>\n",
       "      <th>4</th>\n",
       "      <td>20</td>\n",
       "      <td>9.054608</td>\n",
       "    </tr>\n",
       "    <tr>\n",
       "      <th>5</th>\n",
       "      <td>25</td>\n",
       "      <td>9.604654</td>\n",
       "    </tr>\n",
       "    <tr>\n",
       "      <th>6</th>\n",
       "      <td>30</td>\n",
       "      <td>10.010120</td>\n",
       "    </tr>\n",
       "    <tr>\n",
       "      <th>7</th>\n",
       "      <td>35</td>\n",
       "      <td>10.366795</td>\n",
       "    </tr>\n",
       "    <tr>\n",
       "      <th>8</th>\n",
       "      <td>40</td>\n",
       "      <td>10.703267</td>\n",
       "    </tr>\n",
       "    <tr>\n",
       "      <th>9</th>\n",
       "      <td>45</td>\n",
       "      <td>10.926410</td>\n",
       "    </tr>\n",
       "    <tr>\n",
       "      <th>10</th>\n",
       "      <td>50</td>\n",
       "      <td>11.214092</td>\n",
       "    </tr>\n",
       "    <tr>\n",
       "      <th>11</th>\n",
       "      <td>55</td>\n",
       "      <td>11.214092</td>\n",
       "    </tr>\n",
       "    <tr>\n",
       "      <th>12</th>\n",
       "      <td>60</td>\n",
       "      <td>11.214092</td>\n",
       "    </tr>\n",
       "    <tr>\n",
       "      <th>13</th>\n",
       "      <td>65</td>\n",
       "      <td>11.619557</td>\n",
       "    </tr>\n",
       "    <tr>\n",
       "      <th>14</th>\n",
       "      <td>70</td>\n",
       "      <td>11.619557</td>\n",
       "    </tr>\n",
       "    <tr>\n",
       "      <th>15</th>\n",
       "      <td>75</td>\n",
       "      <td>11.619557</td>\n",
       "    </tr>\n",
       "    <tr>\n",
       "      <th>16</th>\n",
       "      <td>80</td>\n",
       "      <td>11.619557</td>\n",
       "    </tr>\n",
       "    <tr>\n",
       "      <th>17</th>\n",
       "      <td>85</td>\n",
       "      <td>11.619557</td>\n",
       "    </tr>\n",
       "    <tr>\n",
       "      <th>18</th>\n",
       "      <td>90</td>\n",
       "      <td>11.619557</td>\n",
       "    </tr>\n",
       "    <tr>\n",
       "      <th>19</th>\n",
       "      <td>95</td>\n",
       "      <td>11.619557</td>\n",
       "    </tr>\n",
       "  </tbody>\n",
       "</table>\n",
       "</div>\n",
       "      <button class=\"colab-df-convert\" onclick=\"convertToInteractive('df-61b4d40c-f096-4afe-96c3-bcb74f809a55')\"\n",
       "              title=\"Convert this dataframe to an interactive table.\"\n",
       "              style=\"display:none;\">\n",
       "        \n",
       "  <svg xmlns=\"http://www.w3.org/2000/svg\" height=\"24px\"viewBox=\"0 0 24 24\"\n",
       "       width=\"24px\">\n",
       "    <path d=\"M0 0h24v24H0V0z\" fill=\"none\"/>\n",
       "    <path d=\"M18.56 5.44l.94 2.06.94-2.06 2.06-.94-2.06-.94-.94-2.06-.94 2.06-2.06.94zm-11 1L8.5 8.5l.94-2.06 2.06-.94-2.06-.94L8.5 2.5l-.94 2.06-2.06.94zm10 10l.94 2.06.94-2.06 2.06-.94-2.06-.94-.94-2.06-.94 2.06-2.06.94z\"/><path d=\"M17.41 7.96l-1.37-1.37c-.4-.4-.92-.59-1.43-.59-.52 0-1.04.2-1.43.59L10.3 9.45l-7.72 7.72c-.78.78-.78 2.05 0 2.83L4 21.41c.39.39.9.59 1.41.59.51 0 1.02-.2 1.41-.59l7.78-7.78 2.81-2.81c.8-.78.8-2.07 0-2.86zM5.41 20L4 18.59l7.72-7.72 1.47 1.35L5.41 20z\"/>\n",
       "  </svg>\n",
       "      </button>\n",
       "      \n",
       "  <style>\n",
       "    .colab-df-container {\n",
       "      display:flex;\n",
       "      flex-wrap:wrap;\n",
       "      gap: 12px;\n",
       "    }\n",
       "\n",
       "    .colab-df-convert {\n",
       "      background-color: #E8F0FE;\n",
       "      border: none;\n",
       "      border-radius: 50%;\n",
       "      cursor: pointer;\n",
       "      display: none;\n",
       "      fill: #1967D2;\n",
       "      height: 32px;\n",
       "      padding: 0 0 0 0;\n",
       "      width: 32px;\n",
       "    }\n",
       "\n",
       "    .colab-df-convert:hover {\n",
       "      background-color: #E2EBFA;\n",
       "      box-shadow: 0px 1px 2px rgba(60, 64, 67, 0.3), 0px 1px 3px 1px rgba(60, 64, 67, 0.15);\n",
       "      fill: #174EA6;\n",
       "    }\n",
       "\n",
       "    [theme=dark] .colab-df-convert {\n",
       "      background-color: #3B4455;\n",
       "      fill: #D2E3FC;\n",
       "    }\n",
       "\n",
       "    [theme=dark] .colab-df-convert:hover {\n",
       "      background-color: #434B5C;\n",
       "      box-shadow: 0px 1px 3px 1px rgba(0, 0, 0, 0.15);\n",
       "      filter: drop-shadow(0px 1px 2px rgba(0, 0, 0, 0.3));\n",
       "      fill: #FFFFFF;\n",
       "    }\n",
       "  </style>\n",
       "\n",
       "      <script>\n",
       "        const buttonEl =\n",
       "          document.querySelector('#df-61b4d40c-f096-4afe-96c3-bcb74f809a55 button.colab-df-convert');\n",
       "        buttonEl.style.display =\n",
       "          google.colab.kernel.accessAllowed ? 'block' : 'none';\n",
       "\n",
       "        async function convertToInteractive(key) {\n",
       "          const element = document.querySelector('#df-61b4d40c-f096-4afe-96c3-bcb74f809a55');\n",
       "          const dataTable =\n",
       "            await google.colab.kernel.invokeFunction('convertToInteractive',\n",
       "                                                     [key], {});\n",
       "          if (!dataTable) return;\n",
       "\n",
       "          const docLinkHtml = 'Like what you see? Visit the ' +\n",
       "            '<a target=\"_blank\" href=https://colab.research.google.com/notebooks/data_table.ipynb>data table notebook</a>'\n",
       "            + ' to learn more about interactive tables.';\n",
       "          element.innerHTML = '';\n",
       "          dataTable['output_type'] = 'display_data';\n",
       "          await google.colab.output.renderOutput(dataTable, element);\n",
       "          const docLink = document.createElement('div');\n",
       "          docLink.innerHTML = docLinkHtml;\n",
       "          element.appendChild(docLink);\n",
       "        }\n",
       "      </script>\n",
       "    </div>\n",
       "  </div>\n",
       "  "
      ],
      "text/plain": [
       "    percentile     values\n",
       "0            0   1.007652\n",
       "1            5   6.274834\n",
       "2           10   7.559114\n",
       "3           15   8.361461\n",
       "4           20   9.054608\n",
       "5           25   9.604654\n",
       "6           30  10.010120\n",
       "7           35  10.366795\n",
       "8           40  10.703267\n",
       "9           45  10.926410\n",
       "10          50  11.214092\n",
       "11          55  11.214092\n",
       "12          60  11.214092\n",
       "13          65  11.619557\n",
       "14          70  11.619557\n",
       "15          75  11.619557\n",
       "16          80  11.619557\n",
       "17          85  11.619557\n",
       "18          90  11.619557\n",
       "19          95  11.619557"
      ]
     },
     "execution_count": 168,
     "metadata": {},
     "output_type": "execute_result"
    }
   ],
   "source": [
    "percentile_df = pd.DataFrame({'percentile': np.arange(0,100,5), 'values':np.percentile(idf_vals, np.arange(0,100, 5))})\n",
    "percentile_df"
   ]
  },
  {
   "cell_type": "markdown",
   "metadata": {
    "id": "X7VMETgc-_BP"
   },
   "source": [
    "Observations: \n",
    "- About 38% of the unique words in train have the highest idf value 11.61 indicating that these words occur most rarely in the corpus.\n",
    "- The most frequently occuring words are at the tail end of the histplot with low idf values, which make up for a very small portion of the vocab.  \n",
    "\n",
    "Conclusion:\n",
    "- To avoid frequent and rarely occuring words we set our idf range as [2, 11.5) removing about 40% of the words from consideration."
   ]
  },
  {
   "cell_type": "code",
   "execution_count": null,
   "metadata": {
    "id": "jSUlQ3ycFC4v"
   },
   "outputs": [],
   "source": [
    "idf_dict = dict(zip(unique_words, idf_vals))\n",
    "idf_lower = 2\n",
    "idf_upper = 11.5 \n",
    "\n",
    "train_essay_edited = []\n",
    "test_essay_edited = []\n",
    "\n",
    "#remove all words out of idf range from the essays \n",
    "for essay in X_train['essay'].values:\n",
    "    in_idf_range = [word for word in essay.split() if (idf_dict.get(word,-1)>=idf_lower and idf_dict.get(word,-1)<idf_upper) or idf_dict.get(word,-1)==-1]\n",
    "    edited = ' '.join(in_idf_range)\n",
    "    train_essay_edited.append(edited)\n",
    "\n",
    "for essay in X_test['essay'].values: \n",
    "    in_idf_range = [word for word in essay.split() if (idf_dict.get(word,-1)>=idf_lower and idf_dict.get(word,-1)<idf_upper) or idf_dict.get(word,-1)==-1]\n",
    "    edited = ' '.join(in_idf_range)\n",
    "    test_essay_edited.append(edited)"
   ]
  },
  {
   "cell_type": "code",
   "execution_count": null,
   "metadata": {
    "colab": {
     "base_uri": "https://localhost:8080/",
     "height": 72
    },
    "id": "TcexdQLASpQu",
    "outputId": "f0050564-8ecc-4357-87b4-e01bf29a4690"
   },
   "outputs": [
    {
     "data": {
      "application/vnd.google.colaboratory.intrinsic+json": {
       "type": "string"
      },
      "text/plain": [
       "'diverse backgrounds parents south america central america these ready explore different exciting things due limited resources home exposed things a lot low income households one working parent single parent households one thing sure no matter background always eager having mobile technology allows go lot activities always inside having technology allow feel empowered keep engaged so far i found making movie trailers sparked interest parents get involved child parents student engagement helps making stick'"
      ]
     },
     "execution_count": 80,
     "metadata": {},
     "output_type": "execute_result"
    }
   ],
   "source": [
    "#check edited essays\n",
    "train_essay_edited[0]"
   ]
  },
  {
   "cell_type": "code",
   "execution_count": null,
   "metadata": {
    "colab": {
     "base_uri": "https://localhost:8080/",
     "height": 91
    },
    "id": "T5GbSAxvTIY5",
    "outputId": "c52a76ae-2c77-4049-fdd3-1019d3feff17"
   },
   "outputs": [
    {
     "data": {
      "application/vnd.google.colaboratory.intrinsic+json": {
       "type": "string"
      },
      "text/plain": [
       "'5th 6th combination northern california k 8 title i over 80 free reduced breakfast lunch programs i fortunate working group playful curious self motivated as group quite variety ability levels experiences however collaboration willingness gift everyone project continue foster rich experiences science technology engineering art math getting started maker movement working paper constructions e paper tubes masking tape folded paper creations ready integrate electronics maker space with new supplies basic circuitry computer programming design engineering skills in world caught passively consuming products goal inspire kids creators i wish see world canvas ideas find ways express clearly creatively with development steam inspired maker space give kids chance develop creativity confidence'"
      ]
     },
     "execution_count": 81,
     "metadata": {},
     "output_type": "execute_result"
    }
   ],
   "source": [
    "#check edited essays\n",
    "test_essay_edited[0]"
   ]
  },
  {
   "cell_type": "code",
   "execution_count": null,
   "metadata": {
    "id": "-lPtfSu0ThAC"
   },
   "outputs": [],
   "source": [
    "tok = Tokenizer(oov_token='<OOV>') \n",
    "tok.fit_on_texts(train_essay_edited) \n",
    "word_index = tok.word_index #len(word_index) = 30722"
   ]
  },
  {
   "cell_type": "code",
   "execution_count": null,
   "metadata": {
    "id": "Om7vY0jSTg8g"
   },
   "outputs": [],
   "source": [
    "train_essay_seq = tok.texts_to_sequences(train_essay_edited)\n",
    "test_essay_seq = tok.texts_to_sequences(test_essay_edited)"
   ]
  },
  {
   "cell_type": "code",
   "execution_count": null,
   "metadata": {
    "id": "7lG8t1jHYKTa"
   },
   "outputs": [],
   "source": [
    "maxlen_2 = max([len(x) for x in train_essay_seq])\n",
    "\n",
    "train_essay_padded_2 = pad_sequences(train_essay_seq, maxlen = maxlen_2, padding ='pre', truncating = 'post') \n",
    "test_essay_padded_2 = pad_sequences(test_essay_seq, maxlen = maxlen_2, padding ='pre', truncating = 'post')"
   ]
  },
  {
   "cell_type": "code",
   "execution_count": null,
   "metadata": {
    "id": "6PpMbF4IdaQB"
   },
   "outputs": [],
   "source": [
    "vocab_2 = list(word_index.items())\n",
    "embedding_mat_2 = np.zeros(shape=(len(vocab_2)+1,300))\n",
    "for word, idx in vocab_2:\n",
    "    word_vec = model.get(word)\n",
    "    if word_vec is not None: \n",
    "        embedding_mat_2[idx] = word_vec"
   ]
  },
  {
   "cell_type": "code",
   "execution_count": null,
   "metadata": {
    "colab": {
     "base_uri": "https://localhost:8080/"
    },
    "id": "IfTRcYBYgV1S",
    "outputId": "78247f81-854e-450a-bf31-dd68d8d80716"
   },
   "outputs": [
    {
     "data": {
      "text/plain": [
       "(30723, 300)"
      ]
     },
     "execution_count": 87,
     "metadata": {},
     "output_type": "execute_result"
    }
   ],
   "source": [
    "embedding_mat_2.shape"
   ]
  },
  {
   "cell_type": "markdown",
   "metadata": {
    "id": "yc0crclgjZON"
   },
   "source": [
    "## 2.2.1 Callbacks"
   ]
  },
  {
   "cell_type": "code",
   "execution_count": null,
   "metadata": {
    "id": "XC1WuoIxdE5U"
   },
   "outputs": [],
   "source": [
    "callbacks_2 = [checkpoint_cb_dict[2], earlystop_callback, tensorboard_cb_dict[2], reduce_lr_cb]"
   ]
  },
  {
   "cell_type": "markdown",
   "metadata": {
    "id": "oQU2bT57jctD"
   },
   "source": [
    "## 2.2.2 Building Model Architecture"
   ]
  },
  {
   "cell_type": "code",
   "execution_count": null,
   "metadata": {
    "id": "wfoI5Vy_dE5V"
   },
   "outputs": [],
   "source": [
    "pad_length = maxlen_2\n",
    "vocab_len = len(vocab_2)\n",
    "unique_states = len(data['school_state'].unique())\n",
    "unique_proj_grades = len(data['project_grade_category'].unique())\n",
    "unique_teacher_prefix = len(data['teacher_prefix'].unique())\n",
    "unique_clean_cat = len(data['clean_categories'].unique())\n",
    "unique_clean_subcat = len(data['clean_subcategories'].unique())"
   ]
  },
  {
   "cell_type": "code",
   "execution_count": null,
   "metadata": {
    "colab": {
     "base_uri": "https://localhost:8080/"
    },
    "id": "9pQ25VORcjJX",
    "outputId": "c1ae14ca-0523-4d10-9afa-549fcd4de85a"
   },
   "outputs": [
    {
     "name": "stdout",
     "output_type": "stream",
     "text": [
      "Model: \"model\"\n",
      "__________________________________________________________________________________________________\n",
      " Layer (type)                   Output Shape         Param #     Connected to                     \n",
      "==================================================================================================\n",
      " input_1 (InputLayer)           [(None, 300)]        0           []                               \n",
      "                                                                                                  \n",
      " embedding (Embedding)          (None, 300, 300)     9216900     ['input_1[0][0]']                \n",
      "                                                                                                  \n",
      " input_2 (InputLayer)           [(None, 1)]          0           []                               \n",
      "                                                                                                  \n",
      " input_3 (InputLayer)           [(None, 1)]          0           []                               \n",
      "                                                                                                  \n",
      " input_4 (InputLayer)           [(None, 1)]          0           []                               \n",
      "                                                                                                  \n",
      " input_5 (InputLayer)           [(None, 1)]          0           []                               \n",
      "                                                                                                  \n",
      " input_6 (InputLayer)           [(None, 1)]          0           []                               \n",
      "                                                                                                  \n",
      " lstm (LSTM)                    (None, 100)          160400      ['embedding[0][0]']              \n",
      "                                                                                                  \n",
      " embedding_1 (Embedding)        (None, 1, 26)        1326        ['input_2[0][0]']                \n",
      "                                                                                                  \n",
      " embedding_2 (Embedding)        (None, 1, 2)         8           ['input_3[0][0]']                \n",
      "                                                                                                  \n",
      " embedding_3 (Embedding)        (None, 1, 3)         15          ['input_4[0][0]']                \n",
      "                                                                                                  \n",
      " embedding_4 (Embedding)        (None, 1, 26)        1326        ['input_5[0][0]']                \n",
      "                                                                                                  \n",
      " embedding_5 (Embedding)        (None, 1, 50)        20050       ['input_6[0][0]']                \n",
      "                                                                                                  \n",
      " input_7 (InputLayer)           [(None, 2)]          0           []                               \n",
      "                                                                                                  \n",
      " flatten (Flatten)              (None, 100)          0           ['lstm[0][0]']                   \n",
      "                                                                                                  \n",
      " flatten_1 (Flatten)            (None, 26)           0           ['embedding_1[0][0]']            \n",
      "                                                                                                  \n",
      " flatten_2 (Flatten)            (None, 2)            0           ['embedding_2[0][0]']            \n",
      "                                                                                                  \n",
      " flatten_3 (Flatten)            (None, 3)            0           ['embedding_3[0][0]']            \n",
      "                                                                                                  \n",
      " flatten_4 (Flatten)            (None, 26)           0           ['embedding_4[0][0]']            \n",
      "                                                                                                  \n",
      " flatten_5 (Flatten)            (None, 50)           0           ['embedding_5[0][0]']            \n",
      "                                                                                                  \n",
      " dense (Dense)                  (None, 64)           192         ['input_7[0][0]']                \n",
      "                                                                                                  \n",
      " concatenate (Concatenate)      (None, 271)          0           ['flatten[0][0]',                \n",
      "                                                                  'flatten_1[0][0]',              \n",
      "                                                                  'flatten_2[0][0]',              \n",
      "                                                                  'flatten_3[0][0]',              \n",
      "                                                                  'flatten_4[0][0]',              \n",
      "                                                                  'flatten_5[0][0]',              \n",
      "                                                                  'dense[0][0]']                  \n",
      "                                                                                                  \n",
      " dense_1 (Dense)                (None, 256)          69632       ['concatenate[0][0]']            \n",
      "                                                                                                  \n",
      " dropout (Dropout)              (None, 256)          0           ['dense_1[0][0]']                \n",
      "                                                                                                  \n",
      " dense_2 (Dense)                (None, 256)          65792       ['dropout[0][0]']                \n",
      "                                                                                                  \n",
      " dropout_1 (Dropout)            (None, 256)          0           ['dense_2[0][0]']                \n",
      "                                                                                                  \n",
      " dense_3 (Dense)                (None, 512)          131584      ['dropout_1[0][0]']              \n",
      "                                                                                                  \n",
      " dense_4 (Dense)                (None, 1)            513         ['dense_3[0][0]']                \n",
      "                                                                                                  \n",
      "==================================================================================================\n",
      "Total params: 9,667,738\n",
      "Trainable params: 450,838\n",
      "Non-trainable params: 9,216,900\n",
      "__________________________________________________________________________________________________\n",
      "None\n"
     ]
    }
   ],
   "source": [
    "set_random_seed(42)\n",
    "tf.keras.backend.clear_session()\n",
    "\n",
    "#building the model \n",
    "input_text = Input(shape=(pad_length,))\n",
    "embed_text = Embedding(input_dim = vocab_len+1, output_dim = 300, input_length=pad_length, weights = [embedding_mat_2], trainable=False)(input_text)\n",
    "lstm_text = LSTM(100)(embed_text)\n",
    "flatten_text = Flatten()(lstm_text)\n",
    "\n",
    "\n",
    "input_school_state = Input(shape=(1,))\n",
    "embed_school_state = Embedding(input_dim = unique_states, output_dim = embed_size(unique_states), input_length = 1, trainable = True)(input_school_state)\n",
    "flatten_school_state = Flatten()(embed_school_state)\n",
    "\n",
    "\n",
    "input_proj_grade = Input(shape=(1,))\n",
    "embed_proj_grade = Embedding(input_dim = unique_proj_grades, output_dim = embed_size(unique_proj_grades), input_length = 1, trainable = True)(input_proj_grade)\n",
    "flatten_proj_grade = Flatten()(embed_proj_grade)\n",
    "\n",
    "\n",
    "input_teacher_prefix = Input(shape=(1,))\n",
    "embed_teacher_prefix = Embedding(input_dim = unique_teacher_prefix, output_dim = embed_size(unique_teacher_prefix), input_length = 1, trainable = True)(input_teacher_prefix)\n",
    "flatten_teacher_prefix = Flatten()(embed_teacher_prefix)\n",
    "\n",
    "\n",
    "input_clean_cat = Input(shape=(1,))\n",
    "embed_clean_cat = Embedding(input_dim = unique_clean_cat, output_dim = embed_size(unique_clean_cat), input_length = 1, trainable = True)(input_clean_cat)\n",
    "flatten_clean_cat = Flatten()(embed_clean_cat)\n",
    "\n",
    "\n",
    "input_clean_subcat = Input(shape=(1,))\n",
    "embed_clean_subcat = Embedding(input_dim = unique_clean_subcat, output_dim = embed_size(unique_clean_subcat), input_length = 1, trainable = True)(input_clean_subcat)\n",
    "flatten_clean_subcat = Flatten()(embed_clean_subcat)\n",
    "\n",
    "\n",
    "input_num_feat = Input(shape=(2,))\n",
    "dense_num_feat = Dense(64, activation='tanh', kernel_initializer = 'glorot_normal')(input_num_feat)\n",
    "\n",
    "\n",
    "concat = Concatenate()([flatten_text, flatten_school_state, flatten_proj_grade, flatten_teacher_prefix, flatten_clean_cat, flatten_clean_subcat, dense_num_feat])\n",
    "\n",
    "dense_1 = Dense(256, activation='tanh', kernel_initializer = 'glorot_normal')(concat)\n",
    "\n",
    "dropout_1 = Dropout(0.4)(dense_1)\n",
    "\n",
    "dense_2 = Dense(256, activation='tanh', kernel_initializer = 'glorot_normal')(dropout_1)\n",
    "\n",
    "dropout_2 = Dropout(0.4)(dense_2)\n",
    "\n",
    "dense_3 = Dense(512, activation='tanh', kernel_initializer = 'glorot_normal')(dropout_2)\n",
    "\n",
    "output_layer = Dense(1, activation='sigmoid')(dense_3)\n",
    "\n",
    "\n",
    "model_2 = Model(inputs = [input_text, input_school_state, input_proj_grade, input_teacher_prefix, input_clean_cat, input_clean_subcat, input_num_feat], \n",
    "                outputs=[output_layer])\n",
    "\n",
    "print(model_2.summary())"
   ]
  },
  {
   "cell_type": "markdown",
   "metadata": {},
   "source": [
    "## 2.2.3 Compiling and fititng your model"
   ]
  },
  {
   "cell_type": "code",
   "execution_count": null,
   "metadata": {
    "colab": {
     "base_uri": "https://localhost:8080/"
    },
    "id": "mlLX7_5ucjJb",
    "outputId": "d9a32e4e-75bb-4d4e-8263-8c0ebcab9e35"
   },
   "outputs": [
    {
     "name": "stdout",
     "output_type": "stream",
     "text": [
      "Epoch 1/50\n",
      "160/160 - 18s - loss: 0.6605 - accuracy: 0.6063 - auc_roc: 0.6462 - val_loss: 0.6517 - val_accuracy: 0.6415 - val_auc_roc: 0.7118 - lr: 0.0010 - 18s/epoch - 116ms/step\n",
      "Epoch 2/50\n",
      "160/160 - 16s - loss: 0.6115 - accuracy: 0.7108 - auc_roc: 0.7306 - val_loss: 0.6170 - val_accuracy: 0.6861 - val_auc_roc: 0.7373 - lr: 0.0010 - 16s/epoch - 99ms/step\n",
      "Epoch 3/50\n",
      "160/160 - 16s - loss: 0.5931 - accuracy: 0.7215 - auc_roc: 0.7551 - val_loss: 0.6799 - val_accuracy: 0.6268 - val_auc_roc: 0.7446 - lr: 0.0010 - 16s/epoch - 100ms/step\n",
      "Epoch 4/50\n",
      "160/160 - 16s - loss: 0.5813 - accuracy: 0.7285 - auc_roc: 0.7691 - val_loss: 0.5799 - val_accuracy: 0.7235 - val_auc_roc: 0.7483 - lr: 0.0010 - 16s/epoch - 98ms/step\n",
      "Epoch 5/50\n",
      "160/160 - 15s - loss: 0.5671 - accuracy: 0.7350 - auc_roc: 0.7837 - val_loss: 0.4898 - val_accuracy: 0.7960 - val_auc_roc: 0.7421 - lr: 0.0010 - 15s/epoch - 97ms/step\n",
      "Epoch 6/50\n",
      "160/160 - 14s - loss: 0.5500 - accuracy: 0.7425 - auc_roc: 0.7984 - val_loss: 0.4914 - val_accuracy: 0.7783 - val_auc_roc: 0.7369 - lr: 0.0010 - 14s/epoch - 90ms/step\n",
      "Epoch 7/50\n",
      "160/160 - 14s - loss: 0.5151 - accuracy: 0.7598 - auc_roc: 0.8272 - val_loss: 0.6120 - val_accuracy: 0.6913 - val_auc_roc: 0.7368 - lr: 5.0000e-04 - 14s/epoch - 91ms/step\n",
      "Epoch 8/50\n",
      "160/160 - 15s - loss: 0.4914 - accuracy: 0.7702 - auc_roc: 0.8451 - val_loss: 0.5406 - val_accuracy: 0.7488 - val_auc_roc: 0.7261 - lr: 5.0000e-04 - 15s/epoch - 97ms/step\n",
      "Epoch 9/50\n",
      "160/160 - 15s - loss: 0.4528 - accuracy: 0.7906 - auc_roc: 0.8709 - val_loss: 0.5575 - val_accuracy: 0.7411 - val_auc_roc: 0.7174 - lr: 2.5000e-04 - 15s/epoch - 97ms/step\n",
      "Epoch 10/50\n",
      "160/160 - 15s - loss: 0.4299 - accuracy: 0.8013 - auc_roc: 0.8837 - val_loss: 0.5735 - val_accuracy: 0.7381 - val_auc_roc: 0.7137 - lr: 2.5000e-04 - 15s/epoch - 92ms/step\n",
      "Epoch 11/50\n",
      "Restoring model weights from the end of the best epoch: 4.\n",
      "160/160 - 15s - loss: 0.4005 - accuracy: 0.8151 - auc_roc: 0.8985 - val_loss: 0.5692 - val_accuracy: 0.7410 - val_auc_roc: 0.7035 - lr: 1.2500e-04 - 15s/epoch - 96ms/step\n",
      "Epoch 11: early stopping\n"
     ]
    }
   ],
   "source": [
    "# compile and fit your model\n",
    "model_2.compile(optimizer = 'adam' , loss = 'binary_crossentropy', metrics = ['accuracy', auc_roc])\n",
    "\n",
    "history_2 = model_2.fit(x = [train_essay_padded_2, train_school_state_enc, train_project_grade_category_enc, train_teacher_prefix_enc, \n",
    "                        train_clean_categories_enc, train_clean_subcategories_enc, train_num_feat], y = y_train, \n",
    "                        validation_data = ([test_essay_padded_2, test_school_state_enc, test_project_grade_category_enc, test_teacher_prefix_enc, \n",
    "                                           test_clean_categories_enc, test_clean_subcategories_enc, test_num_feat], y_test), batch_size=512,\n",
    "                        epochs = 50, class_weight = class_w_dict, verbose = 2, callbacks = callbacks_2)"
   ]
  },
  {
   "cell_type": "code",
   "execution_count": null,
   "metadata": {
    "colab": {
     "base_uri": "https://localhost:8080/",
     "height": 394
    },
    "id": "u742twficjJc",
    "outputId": "7fb8b1c5-d457-419e-9e54-0fdd4340464e"
   },
   "outputs": [
    {
     "data": {
      "text/html": [
       "\n",
       "  <div id=\"df-a544ea8f-198a-4b93-988a-27119a1d40ba\">\n",
       "    <div class=\"colab-df-container\">\n",
       "      <div>\n",
       "<style scoped>\n",
       "    .dataframe tbody tr th:only-of-type {\n",
       "        vertical-align: middle;\n",
       "    }\n",
       "\n",
       "    .dataframe tbody tr th {\n",
       "        vertical-align: top;\n",
       "    }\n",
       "\n",
       "    .dataframe thead th {\n",
       "        text-align: right;\n",
       "    }\n",
       "</style>\n",
       "<table border=\"1\" class=\"dataframe\">\n",
       "  <thead>\n",
       "    <tr style=\"text-align: right;\">\n",
       "      <th></th>\n",
       "      <th>loss</th>\n",
       "      <th>accuracy</th>\n",
       "      <th>auc_roc</th>\n",
       "      <th>val_loss</th>\n",
       "      <th>val_accuracy</th>\n",
       "      <th>val_auc_roc</th>\n",
       "      <th>lr</th>\n",
       "    </tr>\n",
       "  </thead>\n",
       "  <tbody>\n",
       "    <tr>\n",
       "      <th>0</th>\n",
       "      <td>0.660526</td>\n",
       "      <td>0.606323</td>\n",
       "      <td>0.646178</td>\n",
       "      <td>0.651706</td>\n",
       "      <td>0.641488</td>\n",
       "      <td>0.711775</td>\n",
       "      <td>0.001000</td>\n",
       "    </tr>\n",
       "    <tr>\n",
       "      <th>1</th>\n",
       "      <td>0.611491</td>\n",
       "      <td>0.710778</td>\n",
       "      <td>0.730562</td>\n",
       "      <td>0.616986</td>\n",
       "      <td>0.686128</td>\n",
       "      <td>0.737310</td>\n",
       "      <td>0.001000</td>\n",
       "    </tr>\n",
       "    <tr>\n",
       "      <th>2</th>\n",
       "      <td>0.593094</td>\n",
       "      <td>0.721467</td>\n",
       "      <td>0.755083</td>\n",
       "      <td>0.679909</td>\n",
       "      <td>0.626755</td>\n",
       "      <td>0.744647</td>\n",
       "      <td>0.001000</td>\n",
       "    </tr>\n",
       "    <tr>\n",
       "      <th>3</th>\n",
       "      <td>0.581335</td>\n",
       "      <td>0.728468</td>\n",
       "      <td>0.769084</td>\n",
       "      <td>0.579919</td>\n",
       "      <td>0.723474</td>\n",
       "      <td>0.748333</td>\n",
       "      <td>0.001000</td>\n",
       "    </tr>\n",
       "    <tr>\n",
       "      <th>4</th>\n",
       "      <td>0.567066</td>\n",
       "      <td>0.734979</td>\n",
       "      <td>0.783678</td>\n",
       "      <td>0.489762</td>\n",
       "      <td>0.795968</td>\n",
       "      <td>0.742138</td>\n",
       "      <td>0.001000</td>\n",
       "    </tr>\n",
       "    <tr>\n",
       "      <th>5</th>\n",
       "      <td>0.550050</td>\n",
       "      <td>0.742529</td>\n",
       "      <td>0.798398</td>\n",
       "      <td>0.491445</td>\n",
       "      <td>0.778266</td>\n",
       "      <td>0.736916</td>\n",
       "      <td>0.001000</td>\n",
       "    </tr>\n",
       "    <tr>\n",
       "      <th>6</th>\n",
       "      <td>0.515121</td>\n",
       "      <td>0.759767</td>\n",
       "      <td>0.827166</td>\n",
       "      <td>0.611992</td>\n",
       "      <td>0.691332</td>\n",
       "      <td>0.736768</td>\n",
       "      <td>0.000500</td>\n",
       "    </tr>\n",
       "    <tr>\n",
       "      <th>7</th>\n",
       "      <td>0.491409</td>\n",
       "      <td>0.770213</td>\n",
       "      <td>0.845147</td>\n",
       "      <td>0.540579</td>\n",
       "      <td>0.748836</td>\n",
       "      <td>0.726134</td>\n",
       "      <td>0.000500</td>\n",
       "    </tr>\n",
       "    <tr>\n",
       "      <th>8</th>\n",
       "      <td>0.452805</td>\n",
       "      <td>0.790627</td>\n",
       "      <td>0.870924</td>\n",
       "      <td>0.557535</td>\n",
       "      <td>0.741103</td>\n",
       "      <td>0.717417</td>\n",
       "      <td>0.000250</td>\n",
       "    </tr>\n",
       "    <tr>\n",
       "      <th>9</th>\n",
       "      <td>0.429872</td>\n",
       "      <td>0.801256</td>\n",
       "      <td>0.883708</td>\n",
       "      <td>0.573462</td>\n",
       "      <td>0.738135</td>\n",
       "      <td>0.713692</td>\n",
       "      <td>0.000250</td>\n",
       "    </tr>\n",
       "    <tr>\n",
       "      <th>10</th>\n",
       "      <td>0.400460</td>\n",
       "      <td>0.815110</td>\n",
       "      <td>0.898456</td>\n",
       "      <td>0.569167</td>\n",
       "      <td>0.741030</td>\n",
       "      <td>0.703548</td>\n",
       "      <td>0.000125</td>\n",
       "    </tr>\n",
       "  </tbody>\n",
       "</table>\n",
       "</div>\n",
       "      <button class=\"colab-df-convert\" onclick=\"convertToInteractive('df-a544ea8f-198a-4b93-988a-27119a1d40ba')\"\n",
       "              title=\"Convert this dataframe to an interactive table.\"\n",
       "              style=\"display:none;\">\n",
       "        \n",
       "  <svg xmlns=\"http://www.w3.org/2000/svg\" height=\"24px\"viewBox=\"0 0 24 24\"\n",
       "       width=\"24px\">\n",
       "    <path d=\"M0 0h24v24H0V0z\" fill=\"none\"/>\n",
       "    <path d=\"M18.56 5.44l.94 2.06.94-2.06 2.06-.94-2.06-.94-.94-2.06-.94 2.06-2.06.94zm-11 1L8.5 8.5l.94-2.06 2.06-.94-2.06-.94L8.5 2.5l-.94 2.06-2.06.94zm10 10l.94 2.06.94-2.06 2.06-.94-2.06-.94-.94-2.06-.94 2.06-2.06.94z\"/><path d=\"M17.41 7.96l-1.37-1.37c-.4-.4-.92-.59-1.43-.59-.52 0-1.04.2-1.43.59L10.3 9.45l-7.72 7.72c-.78.78-.78 2.05 0 2.83L4 21.41c.39.39.9.59 1.41.59.51 0 1.02-.2 1.41-.59l7.78-7.78 2.81-2.81c.8-.78.8-2.07 0-2.86zM5.41 20L4 18.59l7.72-7.72 1.47 1.35L5.41 20z\"/>\n",
       "  </svg>\n",
       "      </button>\n",
       "      \n",
       "  <style>\n",
       "    .colab-df-container {\n",
       "      display:flex;\n",
       "      flex-wrap:wrap;\n",
       "      gap: 12px;\n",
       "    }\n",
       "\n",
       "    .colab-df-convert {\n",
       "      background-color: #E8F0FE;\n",
       "      border: none;\n",
       "      border-radius: 50%;\n",
       "      cursor: pointer;\n",
       "      display: none;\n",
       "      fill: #1967D2;\n",
       "      height: 32px;\n",
       "      padding: 0 0 0 0;\n",
       "      width: 32px;\n",
       "    }\n",
       "\n",
       "    .colab-df-convert:hover {\n",
       "      background-color: #E2EBFA;\n",
       "      box-shadow: 0px 1px 2px rgba(60, 64, 67, 0.3), 0px 1px 3px 1px rgba(60, 64, 67, 0.15);\n",
       "      fill: #174EA6;\n",
       "    }\n",
       "\n",
       "    [theme=dark] .colab-df-convert {\n",
       "      background-color: #3B4455;\n",
       "      fill: #D2E3FC;\n",
       "    }\n",
       "\n",
       "    [theme=dark] .colab-df-convert:hover {\n",
       "      background-color: #434B5C;\n",
       "      box-shadow: 0px 1px 3px 1px rgba(0, 0, 0, 0.15);\n",
       "      filter: drop-shadow(0px 1px 2px rgba(0, 0, 0, 0.3));\n",
       "      fill: #FFFFFF;\n",
       "    }\n",
       "  </style>\n",
       "\n",
       "      <script>\n",
       "        const buttonEl =\n",
       "          document.querySelector('#df-a544ea8f-198a-4b93-988a-27119a1d40ba button.colab-df-convert');\n",
       "        buttonEl.style.display =\n",
       "          google.colab.kernel.accessAllowed ? 'block' : 'none';\n",
       "\n",
       "        async function convertToInteractive(key) {\n",
       "          const element = document.querySelector('#df-a544ea8f-198a-4b93-988a-27119a1d40ba');\n",
       "          const dataTable =\n",
       "            await google.colab.kernel.invokeFunction('convertToInteractive',\n",
       "                                                     [key], {});\n",
       "          if (!dataTable) return;\n",
       "\n",
       "          const docLinkHtml = 'Like what you see? Visit the ' +\n",
       "            '<a target=\"_blank\" href=https://colab.research.google.com/notebooks/data_table.ipynb>data table notebook</a>'\n",
       "            + ' to learn more about interactive tables.';\n",
       "          element.innerHTML = '';\n",
       "          dataTable['output_type'] = 'display_data';\n",
       "          await google.colab.output.renderOutput(dataTable, element);\n",
       "          const docLink = document.createElement('div');\n",
       "          docLink.innerHTML = docLinkHtml;\n",
       "          element.appendChild(docLink);\n",
       "        }\n",
       "      </script>\n",
       "    </div>\n",
       "  </div>\n",
       "  "
      ],
      "text/plain": [
       "        loss  accuracy   auc_roc  val_loss  val_accuracy  val_auc_roc  \\\n",
       "0   0.660526  0.606323  0.646178  0.651706      0.641488     0.711775   \n",
       "1   0.611491  0.710778  0.730562  0.616986      0.686128     0.737310   \n",
       "2   0.593094  0.721467  0.755083  0.679909      0.626755     0.744647   \n",
       "3   0.581335  0.728468  0.769084  0.579919      0.723474     0.748333   \n",
       "4   0.567066  0.734979  0.783678  0.489762      0.795968     0.742138   \n",
       "5   0.550050  0.742529  0.798398  0.491445      0.778266     0.736916   \n",
       "6   0.515121  0.759767  0.827166  0.611992      0.691332     0.736768   \n",
       "7   0.491409  0.770213  0.845147  0.540579      0.748836     0.726134   \n",
       "8   0.452805  0.790627  0.870924  0.557535      0.741103     0.717417   \n",
       "9   0.429872  0.801256  0.883708  0.573462      0.738135     0.713692   \n",
       "10  0.400460  0.815110  0.898456  0.569167      0.741030     0.703548   \n",
       "\n",
       "          lr  \n",
       "0   0.001000  \n",
       "1   0.001000  \n",
       "2   0.001000  \n",
       "3   0.001000  \n",
       "4   0.001000  \n",
       "5   0.001000  \n",
       "6   0.000500  \n",
       "7   0.000500  \n",
       "8   0.000250  \n",
       "9   0.000250  \n",
       "10  0.000125  "
      ]
     },
     "execution_count": 110,
     "metadata": {},
     "output_type": "execute_result"
    }
   ],
   "source": [
    "res_2 = pd.DataFrame(history_2.history)\n",
    "res_2"
   ]
  },
  {
   "cell_type": "markdown",
   "metadata": {
    "id": "hXBpHOLYp65K"
   },
   "source": [
    "![Screenshot 2022-07-01 033426 mod-2 acc.png](data:image/png;base64,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)"
   ]
  },
  {
   "cell_type": "markdown",
   "metadata": {
    "id": "5czAwBcFA60j"
   },
   "source": [
    "![Screenshot 2022-07-01 033454 mod-2 aucroc.png](data:image/png;base64,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)"
   ]
  },
  {
   "cell_type": "markdown",
   "metadata": {
    "id": "P6dtKQKep6y8"
   },
   "source": [
    "![Screenshot 2022-07-01 033703 mod2 loss.png](data:image/png;base64,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)"
   ]
  },
  {
   "cell_type": "markdown",
   "metadata": {
    "id": "oZoizKUlAoek"
   },
   "source": [
    "Observations: \n",
    "\n",
    "Note: We are referencing first epoch as 0th, second as 1st, and so on.\n",
    "\n",
    "- Train Accuracy continues to increase every epoch while Val Accuracy starts at a higher value with each epoch it converges towards Train Accuracy. After 5th epoch the Val Accuracy doesn't improve much while the Train Accuracy keeps on improving indicating that the model is overfitting.\n",
    "\n",
    "- Similarly, Train AUC continues to increase every epoch while Val AUC starts at a higher value with each epoch it converges towards Train AUC. After 3rd epoch the Val AUC dips while the Train AUC keeps on improving indicating that the model is overfitting. \n",
    "\n",
    "- Train Loss continues to decrease every epoch while Val Loss starts at a lower value with each epoch it converges towards Train Loss. After 5th epoch the Val Loss slowly rises again while the Train Loss keeps on decreasing indicating that the model is overfitting.\n",
    "\n",
    "- Overall Best Model is achieved at 3rd Epoch with performance on Val: Acc=0.723, AUC=0.748, Loss=0.58"
   ]
  },
  {
   "cell_type": "markdown",
   "metadata": {
    "id": "msv9gqPBFGbs"
   },
   "source": [
    "# <font color='red'>2.3 Model-3 </font>"
   ]
  },
  {
   "cell_type": "markdown",
   "metadata": {
    "id": "y1g__1tOFGbs"
   },
   "source": [
    "<img src='https://i.imgur.com/fkQ8nGo.png'>"
   ]
  },
  {
   "cell_type": "code",
   "execution_count": null,
   "metadata": {
    "id": "yg61R6oUFGbs"
   },
   "outputs": [],
   "source": [
    "#in this model we use the text vectorized data from model1 \n",
    "#for other than text data consider the following steps\n",
    "#we perform one hot encoding of categorical features using onehotencoder() \n",
    "#stack up standardised numerical features and all the one hot encoded categorical features\n",
    "#the input to conv1d layer is 3d, we convert 2d data to 3d using np.newaxis"
   ]
  },
  {
   "cell_type": "code",
   "execution_count": null,
   "metadata": {
    "id": "pT_l1s3-FGbs"
   },
   "outputs": [],
   "source": [
    "#categorical one hot encoding \n",
    "from sklearn.preprocessing import OneHotEncoder\n",
    "\n",
    "def ohe(feat):\n",
    "    enc = OneHotEncoder(handle_unknown='ignore')\n",
    "    train_feat = enc.fit_transform(X_train[feat].values.reshape(-1,1))\n",
    "    test_feat = enc.transform(X_test[feat].values.reshape(-1,1)) \n",
    "    return train_feat, test_feat"
   ]
  },
  {
   "cell_type": "code",
   "execution_count": null,
   "metadata": {
    "id": "ZnnUAaXcFGbs"
   },
   "outputs": [],
   "source": [
    "train_school_state_ohe, test_school_state_ohe = ohe(cat_cols[0])\n",
    "train_teacher_prefix_ohe, test_teacher_prefix_ohe = ohe(cat_cols[1])\n",
    "train_project_grade_category_ohe, test_project_grade_category_ohe = ohe(cat_cols[2])\n",
    "train_clean_categories_ohe, test_clean_categories_ohe = ohe(cat_cols[3])\n",
    "train_clean_subcategories_ohe, test_clean_subcategories_ohe = ohe(cat_cols[4])"
   ]
  },
  {
   "cell_type": "code",
   "execution_count": null,
   "metadata": {
    "id": "yAWvEZxFsTJ5"
   },
   "outputs": [],
   "source": [
    "#stacking categorical and numerical features\n",
    "train_other_feat = np.hstack([train_school_state_ohe.toarray(),train_teacher_prefix_ohe.toarray(),train_project_grade_category_ohe.toarray(),\n",
    "                              train_clean_categories_ohe.toarray(),train_clean_subcategories_ohe.toarray(),train_num_feat])\n",
    "test_other_feat = np.hstack([test_school_state_ohe.toarray(), test_teacher_prefix_ohe.toarray(), test_project_grade_category_ohe.toarray(),\n",
    "                             test_clean_categories_ohe.toarray(), test_clean_subcategories_ohe.toarray(),test_num_feat])"
   ]
  },
  {
   "cell_type": "code",
   "execution_count": null,
   "metadata": {
    "colab": {
     "base_uri": "https://localhost:8080/"
    },
    "id": "GMX5BtqnOig4",
    "outputId": "da09c5df-8631-42f0-e3fd-31df36990c04"
   },
   "outputs": [
    {
     "name": "stdout",
     "output_type": "stream",
     "text": [
      "(81854, 506, 1) (27285, 506, 1)\n"
     ]
    }
   ],
   "source": [
    "#adding a new dimension because Conv1D layer takes 3D inputs\n",
    "train_other_feat = train_other_feat[:, :, np.newaxis]\n",
    "test_other_feat = test_other_feat[:, :, np.newaxis]\n",
    "\n",
    "print(train_other_feat.shape,test_other_feat.shape)"
   ]
  },
  {
   "cell_type": "markdown",
   "metadata": {
    "id": "OIlAXX3KkNNG"
   },
   "source": [
    "## 2.3.1 Callbacks"
   ]
  },
  {
   "cell_type": "code",
   "execution_count": null,
   "metadata": {
    "id": "r0WLfThEkTuI"
   },
   "outputs": [],
   "source": [
    "callbacks_3 = [checkpoint_cb_dict[3], earlystop_callback, tensorboard_cb_dict[3], reduce_lr_cb]"
   ]
  },
  {
   "cell_type": "markdown",
   "metadata": {
    "id": "MYTGmBP4k8A4"
   },
   "source": [
    "## 2.3.2 Building Model Architecture "
   ]
  },
  {
   "cell_type": "code",
   "execution_count": null,
   "metadata": {
    "id": "dceYQzbMZPRP"
   },
   "outputs": [],
   "source": [
    "pad_length = maxlen_1\n",
    "vocab_len = len(vocab_1)"
   ]
  },
  {
   "cell_type": "code",
   "execution_count": null,
   "metadata": {
    "colab": {
     "base_uri": "https://localhost:8080/"
    },
    "id": "lui_xkQGOHRO",
    "outputId": "31838746-d12b-40c7-94c8-8fb838f6a8a0"
   },
   "outputs": [
    {
     "name": "stdout",
     "output_type": "stream",
     "text": [
      "Model: \"model\"\n",
      "__________________________________________________________________________________________________\n",
      " Layer (type)                   Output Shape         Param #     Connected to                     \n",
      "==================================================================================================\n",
      " input_2 (InputLayer)           [(None, 506, 1)]     0           []                               \n",
      "                                                                                                  \n",
      " input_1 (InputLayer)           [(None, 339)]        0           []                               \n",
      "                                                                                                  \n",
      " conv1d (Conv1D)                (None, 506, 64)      256         ['input_2[0][0]']                \n",
      "                                                                                                  \n",
      " embedding (Embedding)          (None, 339, 300)     9000300     ['input_1[0][0]']                \n",
      "                                                                                                  \n",
      " conv1d_1 (Conv1D)              (None, 506, 128)     24704       ['conv1d[0][0]']                 \n",
      "                                                                                                  \n",
      " lstm (LSTM)                    (None, 100)          160400      ['embedding[0][0]']              \n",
      "                                                                                                  \n",
      " conv1d_2 (Conv1D)              (None, 506, 256)     98560       ['conv1d_1[0][0]']               \n",
      "                                                                                                  \n",
      " flatten (Flatten)              (None, 100)          0           ['lstm[0][0]']                   \n",
      "                                                                                                  \n",
      " flatten_1 (Flatten)            (None, 129536)       0           ['conv1d_2[0][0]']               \n",
      "                                                                                                  \n",
      " concatenate (Concatenate)      (None, 129636)       0           ['flatten[0][0]',                \n",
      "                                                                  'flatten_1[0][0]']              \n",
      "                                                                                                  \n",
      " dense (Dense)                  (None, 128)          16593536    ['concatenate[0][0]']            \n",
      "                                                                                                  \n",
      " dropout (Dropout)              (None, 128)          0           ['dense[0][0]']                  \n",
      "                                                                                                  \n",
      " dense_1 (Dense)                (None, 256)          33024       ['dropout[0][0]']                \n",
      "                                                                                                  \n",
      " dropout_1 (Dropout)            (None, 256)          0           ['dense_1[0][0]']                \n",
      "                                                                                                  \n",
      " dense_2 (Dense)                (None, 512)          131584      ['dropout_1[0][0]']              \n",
      "                                                                                                  \n",
      " dense_3 (Dense)                (None, 1)            513         ['dense_2[0][0]']                \n",
      "                                                                                                  \n",
      "==================================================================================================\n",
      "Total params: 26,042,877\n",
      "Trainable params: 17,042,577\n",
      "Non-trainable params: 9,000,300\n",
      "__________________________________________________________________________________________________\n",
      "None\n"
     ]
    }
   ],
   "source": [
    "set_random_seed(42)\n",
    "tf.keras.backend.clear_session()\n",
    "\n",
    "#building the model \n",
    "input_text = Input(shape=(pad_length,))\n",
    "embed_text = Embedding(input_dim = vocab_len+1, output_dim = 300, input_length=pad_length, weights = [embedding_mat_1], trainable=False)(input_text)\n",
    "lstm_text = LSTM(100)(embed_text)\n",
    "flatten_text = Flatten()(lstm_text)\n",
    "\n",
    "\n",
    "input_other_feat = Input(shape=(train_other_feat.shape[1], train_other_feat.shape[2]))\n",
    "conv1D_1 = Conv1D(filters = 64,kernel_size = 3, strides = 1, padding='same', activation='elu', kernel_initializer = 'he_normal')(input_other_feat)\n",
    "conv1D_2 = Conv1D(filters = 128,kernel_size = 3, strides = 1, padding='same', activation='elu', kernel_initializer = 'he_normal')(conv1D_1)\n",
    "conv1D_3 = Conv1D(filters = 256,kernel_size = 3, strides = 1, padding='same', activation='elu', kernel_initializer = 'he_normal')(conv1D_2)\n",
    "flatten_other_feat = Flatten()(conv1D_3)\n",
    "\n",
    "\n",
    "concat = Concatenate()([flatten_text, flatten_other_feat])\n",
    "\n",
    "dense_1 = Dense(128, activation='elu', kernel_initializer = 'he_normal')(concat)\n",
    "\n",
    "dropout_1 = Dropout(0.4)(dense_1)\n",
    "\n",
    "dense_2 = Dense(256, activation='elu', kernel_initializer = 'he_normal')(dropout_1)\n",
    "\n",
    "dropout_2 = Dropout(0.4)(dense_2)\n",
    "\n",
    "dense_3 = Dense(512, activation='elu', kernel_initializer = 'he_normal')(dropout_2)\n",
    "\n",
    "output_layer = Dense(1, activation='sigmoid')(dense_3)\n",
    "\n",
    "\n",
    "model_3 = Model(inputs = [input_text, input_other_feat], \n",
    "                outputs=[output_layer])\n",
    "\n",
    "print(model_3.summary())"
   ]
  },
  {
   "cell_type": "markdown",
   "metadata": {},
   "source": [
    "## 2.3.3 Compiling and fitting your model "
   ]
  },
  {
   "cell_type": "code",
   "execution_count": null,
   "metadata": {
    "colab": {
     "base_uri": "https://localhost:8080/"
    },
    "id": "BYIpxZuGUe0_",
    "outputId": "549edf10-0895-44ce-957f-0ac431e8870b"
   },
   "outputs": [
    {
     "name": "stdout",
     "output_type": "stream",
     "text": [
      "Epoch 1/50\n",
      "160/160 - 57s - loss: 0.7943 - accuracy: 0.5120 - auc_roc: 0.5178 - val_loss: 0.5687 - val_accuracy: 0.7131 - val_auc_roc: 0.6436 - lr: 0.0010 - 57s/epoch - 359ms/step\n",
      "Epoch 2/50\n",
      "160/160 - 40s - loss: 0.7052 - accuracy: 0.5637 - auc_roc: 0.5804 - val_loss: 0.5723 - val_accuracy: 0.7170 - val_auc_roc: 0.6845 - lr: 0.0010 - 40s/epoch - 249ms/step\n",
      "Epoch 3/50\n",
      "160/160 - 42s - loss: 0.6658 - accuracy: 0.6390 - auc_roc: 0.6590 - val_loss: 0.6243 - val_accuracy: 0.7164 - val_auc_roc: 0.7163 - lr: 0.0010 - 42s/epoch - 260ms/step\n",
      "Epoch 4/50\n",
      "160/160 - 40s - loss: 0.6369 - accuracy: 0.6836 - auc_roc: 0.7025 - val_loss: 0.6535 - val_accuracy: 0.6815 - val_auc_roc: 0.7338 - lr: 0.0010 - 40s/epoch - 247ms/step\n",
      "Epoch 5/50\n",
      "160/160 - 41s - loss: 0.6208 - accuracy: 0.6981 - auc_roc: 0.7237 - val_loss: 0.5468 - val_accuracy: 0.7532 - val_auc_roc: 0.7426 - lr: 0.0010 - 41s/epoch - 257ms/step\n",
      "Epoch 6/50\n",
      "160/160 - 41s - loss: 0.6010 - accuracy: 0.7219 - auc_roc: 0.7458 - val_loss: 0.4591 - val_accuracy: 0.8055 - val_auc_roc: 0.7516 - lr: 0.0010 - 41s/epoch - 257ms/step\n",
      "Epoch 7/50\n",
      "160/160 - 41s - loss: 0.5895 - accuracy: 0.7342 - auc_roc: 0.7573 - val_loss: 0.5224 - val_accuracy: 0.7751 - val_auc_roc: 0.7559 - lr: 0.0010 - 41s/epoch - 257ms/step\n",
      "Epoch 8/50\n",
      "160/160 - 40s - loss: 0.5778 - accuracy: 0.7423 - auc_roc: 0.7706 - val_loss: 0.5503 - val_accuracy: 0.7603 - val_auc_roc: 0.7575 - lr: 0.0010 - 40s/epoch - 253ms/step\n",
      "Epoch 9/50\n",
      "160/160 - 38s - loss: 0.5657 - accuracy: 0.7512 - auc_roc: 0.7818 - val_loss: 0.5350 - val_accuracy: 0.7721 - val_auc_roc: 0.7569 - lr: 0.0010 - 38s/epoch - 238ms/step\n",
      "Epoch 10/50\n",
      "160/160 - 41s - loss: 0.5549 - accuracy: 0.7568 - auc_roc: 0.7928 - val_loss: 0.5720 - val_accuracy: 0.7500 - val_auc_roc: 0.7593 - lr: 0.0010 - 41s/epoch - 253ms/step\n",
      "Epoch 11/50\n",
      "160/160 - 39s - loss: 0.5443 - accuracy: 0.7606 - auc_roc: 0.8037 - val_loss: 0.5014 - val_accuracy: 0.7762 - val_auc_roc: 0.7584 - lr: 0.0010 - 39s/epoch - 245ms/step\n",
      "Epoch 12/50\n",
      "160/160 - 39s - loss: 0.5305 - accuracy: 0.7701 - auc_roc: 0.8154 - val_loss: 0.5797 - val_accuracy: 0.7259 - val_auc_roc: 0.7532 - lr: 0.0010 - 39s/epoch - 245ms/step\n",
      "Epoch 13/50\n",
      "160/160 - 39s - loss: 0.5021 - accuracy: 0.7765 - auc_roc: 0.8381 - val_loss: 0.5310 - val_accuracy: 0.7587 - val_auc_roc: 0.7498 - lr: 5.0000e-04 - 39s/epoch - 245ms/step\n",
      "Epoch 14/50\n",
      "160/160 - 39s - loss: 0.4835 - accuracy: 0.7869 - auc_roc: 0.8505 - val_loss: 0.5625 - val_accuracy: 0.7398 - val_auc_roc: 0.7440 - lr: 5.0000e-04 - 39s/epoch - 246ms/step\n",
      "Epoch 15/50\n",
      "160/160 - 38s - loss: 0.4575 - accuracy: 0.7952 - auc_roc: 0.8672 - val_loss: 0.5325 - val_accuracy: 0.7606 - val_auc_roc: 0.7358 - lr: 2.5000e-04 - 38s/epoch - 237ms/step\n",
      "Epoch 16/50\n",
      "160/160 - 38s - loss: 0.4426 - accuracy: 0.8005 - auc_roc: 0.8765 - val_loss: 0.5363 - val_accuracy: 0.7564 - val_auc_roc: 0.7265 - lr: 2.5000e-04 - 38s/epoch - 237ms/step\n",
      "Epoch 17/50\n",
      "Restoring model weights from the end of the best epoch: 10.\n",
      "160/160 - 39s - loss: 0.4243 - accuracy: 0.8068 - auc_roc: 0.8867 - val_loss: 0.5664 - val_accuracy: 0.7413 - val_auc_roc: 0.7297 - lr: 1.2500e-04 - 39s/epoch - 245ms/step\n",
      "Epoch 17: early stopping\n"
     ]
    }
   ],
   "source": [
    "model_3.compile(optimizer = tf.keras.optimizers.Adam(0.001, amsgrad=True) , loss = 'binary_crossentropy', metrics = ['accuracy', auc_roc])\n",
    "\n",
    "history_3 = model_3.fit(x = [train_essay_padded_1, train_other_feat], y = y_train, \n",
    "                        validation_data = ([test_essay_padded_1, test_other_feat], y_test), batch_size=512,\n",
    "                        epochs = 50, class_weight = class_w_dict, verbose = 2, callbacks = callbacks_3)"
   ]
  },
  {
   "cell_type": "code",
   "execution_count": 52,
   "metadata": {
    "colab": {
     "base_uri": "https://localhost:8080/",
     "height": 582
    },
    "id": "f9qeXH_llTOf",
    "outputId": "965c326d-a587-4495-a2ae-6a486263bdee"
   },
   "outputs": [
    {
     "data": {
      "text/html": [
       "\n",
       "  <div id=\"df-017e5a2b-9231-4433-a2a1-13787df14eef\">\n",
       "    <div class=\"colab-df-container\">\n",
       "      <div>\n",
       "<style scoped>\n",
       "    .dataframe tbody tr th:only-of-type {\n",
       "        vertical-align: middle;\n",
       "    }\n",
       "\n",
       "    .dataframe tbody tr th {\n",
       "        vertical-align: top;\n",
       "    }\n",
       "\n",
       "    .dataframe thead th {\n",
       "        text-align: right;\n",
       "    }\n",
       "</style>\n",
       "<table border=\"1\" class=\"dataframe\">\n",
       "  <thead>\n",
       "    <tr style=\"text-align: right;\">\n",
       "      <th></th>\n",
       "      <th>loss</th>\n",
       "      <th>accuracy</th>\n",
       "      <th>auc_roc</th>\n",
       "      <th>val_loss</th>\n",
       "      <th>val_accuracy</th>\n",
       "      <th>val_auc_roc</th>\n",
       "      <th>lr</th>\n",
       "    </tr>\n",
       "  </thead>\n",
       "  <tbody>\n",
       "    <tr>\n",
       "      <th>0</th>\n",
       "      <td>0.794331</td>\n",
       "      <td>0.512046</td>\n",
       "      <td>0.517814</td>\n",
       "      <td>0.568659</td>\n",
       "      <td>0.713066</td>\n",
       "      <td>0.643603</td>\n",
       "      <td>0.001000</td>\n",
       "    </tr>\n",
       "    <tr>\n",
       "      <th>1</th>\n",
       "      <td>0.705170</td>\n",
       "      <td>0.563674</td>\n",
       "      <td>0.580439</td>\n",
       "      <td>0.572303</td>\n",
       "      <td>0.716987</td>\n",
       "      <td>0.684496</td>\n",
       "      <td>0.001000</td>\n",
       "    </tr>\n",
       "    <tr>\n",
       "      <th>2</th>\n",
       "      <td>0.665846</td>\n",
       "      <td>0.638979</td>\n",
       "      <td>0.659049</td>\n",
       "      <td>0.624288</td>\n",
       "      <td>0.716401</td>\n",
       "      <td>0.716319</td>\n",
       "      <td>0.001000</td>\n",
       "    </tr>\n",
       "    <tr>\n",
       "      <th>3</th>\n",
       "      <td>0.636899</td>\n",
       "      <td>0.683644</td>\n",
       "      <td>0.702515</td>\n",
       "      <td>0.653457</td>\n",
       "      <td>0.681473</td>\n",
       "      <td>0.733793</td>\n",
       "      <td>0.001000</td>\n",
       "    </tr>\n",
       "    <tr>\n",
       "      <th>4</th>\n",
       "      <td>0.620837</td>\n",
       "      <td>0.698060</td>\n",
       "      <td>0.723713</td>\n",
       "      <td>0.546799</td>\n",
       "      <td>0.753234</td>\n",
       "      <td>0.742605</td>\n",
       "      <td>0.001000</td>\n",
       "    </tr>\n",
       "    <tr>\n",
       "      <th>5</th>\n",
       "      <td>0.600997</td>\n",
       "      <td>0.721907</td>\n",
       "      <td>0.745834</td>\n",
       "      <td>0.459108</td>\n",
       "      <td>0.805461</td>\n",
       "      <td>0.751642</td>\n",
       "      <td>0.001000</td>\n",
       "    </tr>\n",
       "    <tr>\n",
       "      <th>6</th>\n",
       "      <td>0.589529</td>\n",
       "      <td>0.734161</td>\n",
       "      <td>0.757303</td>\n",
       "      <td>0.522417</td>\n",
       "      <td>0.775078</td>\n",
       "      <td>0.755883</td>\n",
       "      <td>0.001000</td>\n",
       "    </tr>\n",
       "    <tr>\n",
       "      <th>7</th>\n",
       "      <td>0.577837</td>\n",
       "      <td>0.742273</td>\n",
       "      <td>0.770645</td>\n",
       "      <td>0.550293</td>\n",
       "      <td>0.760345</td>\n",
       "      <td>0.757542</td>\n",
       "      <td>0.001000</td>\n",
       "    </tr>\n",
       "    <tr>\n",
       "      <th>8</th>\n",
       "      <td>0.565679</td>\n",
       "      <td>0.751154</td>\n",
       "      <td>0.781799</td>\n",
       "      <td>0.534988</td>\n",
       "      <td>0.772146</td>\n",
       "      <td>0.756950</td>\n",
       "      <td>0.001000</td>\n",
       "    </tr>\n",
       "    <tr>\n",
       "      <th>9</th>\n",
       "      <td>0.554906</td>\n",
       "      <td>0.756848</td>\n",
       "      <td>0.792757</td>\n",
       "      <td>0.571973</td>\n",
       "      <td>0.749973</td>\n",
       "      <td>0.759280</td>\n",
       "      <td>0.001000</td>\n",
       "    </tr>\n",
       "    <tr>\n",
       "      <th>10</th>\n",
       "      <td>0.544326</td>\n",
       "      <td>0.760635</td>\n",
       "      <td>0.803660</td>\n",
       "      <td>0.501351</td>\n",
       "      <td>0.776214</td>\n",
       "      <td>0.758417</td>\n",
       "      <td>0.001000</td>\n",
       "    </tr>\n",
       "    <tr>\n",
       "      <th>11</th>\n",
       "      <td>0.530499</td>\n",
       "      <td>0.770115</td>\n",
       "      <td>0.815449</td>\n",
       "      <td>0.579665</td>\n",
       "      <td>0.725893</td>\n",
       "      <td>0.753150</td>\n",
       "      <td>0.001000</td>\n",
       "    </tr>\n",
       "    <tr>\n",
       "      <th>12</th>\n",
       "      <td>0.502073</td>\n",
       "      <td>0.776505</td>\n",
       "      <td>0.838088</td>\n",
       "      <td>0.530988</td>\n",
       "      <td>0.758695</td>\n",
       "      <td>0.749803</td>\n",
       "      <td>0.000500</td>\n",
       "    </tr>\n",
       "    <tr>\n",
       "      <th>13</th>\n",
       "      <td>0.483526</td>\n",
       "      <td>0.786901</td>\n",
       "      <td>0.850457</td>\n",
       "      <td>0.562506</td>\n",
       "      <td>0.739784</td>\n",
       "      <td>0.743962</td>\n",
       "      <td>0.000500</td>\n",
       "    </tr>\n",
       "    <tr>\n",
       "      <th>14</th>\n",
       "      <td>0.457544</td>\n",
       "      <td>0.795196</td>\n",
       "      <td>0.867210</td>\n",
       "      <td>0.532530</td>\n",
       "      <td>0.760601</td>\n",
       "      <td>0.735788</td>\n",
       "      <td>0.000250</td>\n",
       "    </tr>\n",
       "    <tr>\n",
       "      <th>15</th>\n",
       "      <td>0.442627</td>\n",
       "      <td>0.800511</td>\n",
       "      <td>0.876479</td>\n",
       "      <td>0.536343</td>\n",
       "      <td>0.756423</td>\n",
       "      <td>0.726513</td>\n",
       "      <td>0.000250</td>\n",
       "    </tr>\n",
       "    <tr>\n",
       "      <th>16</th>\n",
       "      <td>0.424258</td>\n",
       "      <td>0.806827</td>\n",
       "      <td>0.886727</td>\n",
       "      <td>0.566403</td>\n",
       "      <td>0.741286</td>\n",
       "      <td>0.729670</td>\n",
       "      <td>0.000125</td>\n",
       "    </tr>\n",
       "  </tbody>\n",
       "</table>\n",
       "</div>\n",
       "      <button class=\"colab-df-convert\" onclick=\"convertToInteractive('df-017e5a2b-9231-4433-a2a1-13787df14eef')\"\n",
       "              title=\"Convert this dataframe to an interactive table.\"\n",
       "              style=\"display:none;\">\n",
       "        \n",
       "  <svg xmlns=\"http://www.w3.org/2000/svg\" height=\"24px\"viewBox=\"0 0 24 24\"\n",
       "       width=\"24px\">\n",
       "    <path d=\"M0 0h24v24H0V0z\" fill=\"none\"/>\n",
       "    <path d=\"M18.56 5.44l.94 2.06.94-2.06 2.06-.94-2.06-.94-.94-2.06-.94 2.06-2.06.94zm-11 1L8.5 8.5l.94-2.06 2.06-.94-2.06-.94L8.5 2.5l-.94 2.06-2.06.94zm10 10l.94 2.06.94-2.06 2.06-.94-2.06-.94-.94-2.06-.94 2.06-2.06.94z\"/><path d=\"M17.41 7.96l-1.37-1.37c-.4-.4-.92-.59-1.43-.59-.52 0-1.04.2-1.43.59L10.3 9.45l-7.72 7.72c-.78.78-.78 2.05 0 2.83L4 21.41c.39.39.9.59 1.41.59.51 0 1.02-.2 1.41-.59l7.78-7.78 2.81-2.81c.8-.78.8-2.07 0-2.86zM5.41 20L4 18.59l7.72-7.72 1.47 1.35L5.41 20z\"/>\n",
       "  </svg>\n",
       "      </button>\n",
       "      \n",
       "  <style>\n",
       "    .colab-df-container {\n",
       "      display:flex;\n",
       "      flex-wrap:wrap;\n",
       "      gap: 12px;\n",
       "    }\n",
       "\n",
       "    .colab-df-convert {\n",
       "      background-color: #E8F0FE;\n",
       "      border: none;\n",
       "      border-radius: 50%;\n",
       "      cursor: pointer;\n",
       "      display: none;\n",
       "      fill: #1967D2;\n",
       "      height: 32px;\n",
       "      padding: 0 0 0 0;\n",
       "      width: 32px;\n",
       "    }\n",
       "\n",
       "    .colab-df-convert:hover {\n",
       "      background-color: #E2EBFA;\n",
       "      box-shadow: 0px 1px 2px rgba(60, 64, 67, 0.3), 0px 1px 3px 1px rgba(60, 64, 67, 0.15);\n",
       "      fill: #174EA6;\n",
       "    }\n",
       "\n",
       "    [theme=dark] .colab-df-convert {\n",
       "      background-color: #3B4455;\n",
       "      fill: #D2E3FC;\n",
       "    }\n",
       "\n",
       "    [theme=dark] .colab-df-convert:hover {\n",
       "      background-color: #434B5C;\n",
       "      box-shadow: 0px 1px 3px 1px rgba(0, 0, 0, 0.15);\n",
       "      filter: drop-shadow(0px 1px 2px rgba(0, 0, 0, 0.3));\n",
       "      fill: #FFFFFF;\n",
       "    }\n",
       "  </style>\n",
       "\n",
       "      <script>\n",
       "        const buttonEl =\n",
       "          document.querySelector('#df-017e5a2b-9231-4433-a2a1-13787df14eef button.colab-df-convert');\n",
       "        buttonEl.style.display =\n",
       "          google.colab.kernel.accessAllowed ? 'block' : 'none';\n",
       "\n",
       "        async function convertToInteractive(key) {\n",
       "          const element = document.querySelector('#df-017e5a2b-9231-4433-a2a1-13787df14eef');\n",
       "          const dataTable =\n",
       "            await google.colab.kernel.invokeFunction('convertToInteractive',\n",
       "                                                     [key], {});\n",
       "          if (!dataTable) return;\n",
       "\n",
       "          const docLinkHtml = 'Like what you see? Visit the ' +\n",
       "            '<a target=\"_blank\" href=https://colab.research.google.com/notebooks/data_table.ipynb>data table notebook</a>'\n",
       "            + ' to learn more about interactive tables.';\n",
       "          element.innerHTML = '';\n",
       "          dataTable['output_type'] = 'display_data';\n",
       "          await google.colab.output.renderOutput(dataTable, element);\n",
       "          const docLink = document.createElement('div');\n",
       "          docLink.innerHTML = docLinkHtml;\n",
       "          element.appendChild(docLink);\n",
       "        }\n",
       "      </script>\n",
       "    </div>\n",
       "  </div>\n",
       "  "
      ],
      "text/plain": [
       "        loss  accuracy   auc_roc  val_loss  val_accuracy  val_auc_roc  \\\n",
       "0   0.794331  0.512046  0.517814  0.568659      0.713066     0.643603   \n",
       "1   0.705170  0.563674  0.580439  0.572303      0.716987     0.684496   \n",
       "2   0.665846  0.638979  0.659049  0.624288      0.716401     0.716319   \n",
       "3   0.636899  0.683644  0.702515  0.653457      0.681473     0.733793   \n",
       "4   0.620837  0.698060  0.723713  0.546799      0.753234     0.742605   \n",
       "5   0.600997  0.721907  0.745834  0.459108      0.805461     0.751642   \n",
       "6   0.589529  0.734161  0.757303  0.522417      0.775078     0.755883   \n",
       "7   0.577837  0.742273  0.770645  0.550293      0.760345     0.757542   \n",
       "8   0.565679  0.751154  0.781799  0.534988      0.772146     0.756950   \n",
       "9   0.554906  0.756848  0.792757  0.571973      0.749973     0.759280   \n",
       "10  0.544326  0.760635  0.803660  0.501351      0.776214     0.758417   \n",
       "11  0.530499  0.770115  0.815449  0.579665      0.725893     0.753150   \n",
       "12  0.502073  0.776505  0.838088  0.530988      0.758695     0.749803   \n",
       "13  0.483526  0.786901  0.850457  0.562506      0.739784     0.743962   \n",
       "14  0.457544  0.795196  0.867210  0.532530      0.760601     0.735788   \n",
       "15  0.442627  0.800511  0.876479  0.536343      0.756423     0.726513   \n",
       "16  0.424258  0.806827  0.886727  0.566403      0.741286     0.729670   \n",
       "\n",
       "          lr  \n",
       "0   0.001000  \n",
       "1   0.001000  \n",
       "2   0.001000  \n",
       "3   0.001000  \n",
       "4   0.001000  \n",
       "5   0.001000  \n",
       "6   0.001000  \n",
       "7   0.001000  \n",
       "8   0.001000  \n",
       "9   0.001000  \n",
       "10  0.001000  \n",
       "11  0.001000  \n",
       "12  0.000500  \n",
       "13  0.000500  \n",
       "14  0.000250  \n",
       "15  0.000250  \n",
       "16  0.000125  "
      ]
     },
     "execution_count": 52,
     "metadata": {},
     "output_type": "execute_result"
    }
   ],
   "source": [
    "res_3 = pd.DataFrame(history_3.history)\n",
    "res_3"
   ]
  },
  {
   "cell_type": "markdown",
   "metadata": {
    "id": "W0JYoLDizmeb"
   },
   "source": [
    "![Screenshot 2022-07-01 041831 mod3 acc upd.png](data:image/png;base64,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)"
   ]
  },
  {
   "cell_type": "markdown",
   "metadata": {
    "id": "4M2ei25CzmSe"
   },
   "source": [
    "![Screenshot 2022-07-01 041858 mod3 auc upd.png](data:image/png;base64,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)"
   ]
  },
  {
   "cell_type": "markdown",
   "metadata": {
    "id": "hOVX9IgozmGP"
   },
   "source": [
    "![Screenshot 2022-07-01 041921 mod3 loss upd.png](data:image/png;base64,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)"
   ]
  },
  {
   "cell_type": "markdown",
   "metadata": {
    "id": "hxweg_2HzvbZ"
   },
   "source": [
    "Observations: \n",
    "\n",
    "Note: We are referencing first epoch as 0, second as 1, and so on.\n",
    "\n",
    "- Train Accuracy continues to increase every epoch while Val Accuracy starts at a higher value with each epoch it converges towards Train Accuracy. After 10th epoch the Val Accuracy doesn't improve much while the Train Accuracy keeps on improving indicating that the model is overfitting. \n",
    "\n",
    "- Similarly, Train AUC continues to increase every epoch while Val AUC starts at a higher value with each epoch it converges towards Train AUC. After 9th epoch the Val AUC dips while the Train AUC keeps on improving indicating that the model is overfitting. \n",
    "\n",
    "- Train Loss continues to decrease every epoch while Val Loss starts at a lower value with each epoch it converges towards Train Loss. After 10th epoch the Val Loss slowly rises again while the Train Loss keeps on decreasing indicating that the model is overfitting.\n",
    "\n",
    "- Overall Best Model is achieved at 9th Epoch with performance on Val: Acc=0.75, AUC=0.7593, Loss=0.57"
   ]
  },
  {
   "cell_type": "markdown",
   "metadata": {},
   "source": [
    "# 3. Summary"
   ]
  },
  {
   "cell_type": "code",
   "execution_count": 6,
   "metadata": {},
   "outputs": [
    {
     "name": "stdout",
     "output_type": "stream",
     "text": [
      "+---------+-------+----------+-------+\n",
      "|  Model  |  AUC  | Accuracy |  Loss |\n",
      "+---------+-------+----------+-------+\n",
      "| Model-1 | 0.753 |  0.752   | 0.535 |\n",
      "| Model-2 | 0.748 |  0.723   |  0.58 |\n",
      "| Model-3 | 0.759 |   0.75   |  0.57 |\n",
      "+---------+-------+----------+-------+\n"
     ]
    }
   ],
   "source": [
    "#Tabulate your results\n",
    "from prettytable import PrettyTable\n",
    "x = PrettyTable()\n",
    "x.field_names = [\"Model\", \"AUC\", \"Accuracy\", \"Loss\"]\n",
    "x.add_row([\"Model-1\", 0.753, 0.752, 0.535])\n",
    "x.add_row([\"Model-2\", 0.748, 0.723, 0.58])\n",
    "x.add_row([\"Model-3\", 0.759, 0.75, 0.57])\n",
    "\n",
    "print(x)"
   ]
  }
 ],
 "metadata": {
  "accelerator": "GPU",
  "colab": {
   "collapsed_sections": [
    "ajDszROmFGbh"
   ],
   "name": "Copy of Copy of LSTM - Assignment.ipynb",
   "provenance": []
  },
  "gpuClass": "standard",
  "kernelspec": {
   "display_name": "Python 3 (ipykernel)",
   "language": "python",
   "name": "python3"
  },
  "language_info": {
   "codemirror_mode": {
    "name": "ipython",
    "version": 3
   },
   "file_extension": ".py",
   "mimetype": "text/x-python",
   "name": "python",
   "nbconvert_exporter": "python",
   "pygments_lexer": "ipython3",
   "version": "3.9.6"
  }
 },
 "nbformat": 4,
 "nbformat_minor": 1
}
