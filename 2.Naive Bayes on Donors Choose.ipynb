{
 "cells": [
  {
   "cell_type": "markdown",
   "metadata": {
    "id": "Dnubs-Nnb3cw"
   },
   "source": [
    "# Applying Naive Bayes on Donors Choose"
   ]
  },
  {
   "cell_type": "markdown",
   "metadata": {
    "id": "RW0zYHb5m_wI"
   },
   "source": [
    "   <li><strong>Apply Multinomial NB on these feature sets</strong></li>\n",
    "        <ul>\n",
    "            <li>Features that need to be considered</li> \n",
    "                <dl>\n",
    "                  <dt>essay</dt>\n",
    "                    <dd>while encoding essay, try to experiment with the max_features and n_grams parameter of vectorizers and see if it increases AUC score.</dd>\n",
    "                  <dt>categorical features</dt>\n",
    "                  <dd> - teacher_prefix</dd>\n",
    "                  <dd> - project_grade_category</dd>\n",
    "                  <dd> - school_state</dd>\n",
    "                  <dd> - clean_categories</dd>\n",
    "                  <dd> - clean_subcategories</dd>\n",
    "                  <dt>numerical features</dt>\n",
    "                  <dd> - price</dd>\n",
    "                  <dd> - teacher_number_of_previously_posted_projects</dd>\n",
    "            <li><font color='red'>Set 1</font>: categorical, numerical features + preprocessed_eassay (BOW)</li>\n",
    "            <li><font color='red'>Set 2</font>: categorical, numerical features + preprocessed_eassay (TFIDF)</li>\n",
    "        </ul>"
   ]
  },
  {
   "cell_type": "code",
   "execution_count": 111,
   "metadata": {
    "id": "chpSjDaXm9KG"
   },
   "outputs": [],
   "source": [
    "import numpy as np \n",
    "import pandas as pd\n",
    "from math import log10\n",
    "import matplotlib.pyplot as plt\n",
    "import seaborn as sns\n",
    "from sklearn.model_selection import GridSearchCV, RandomizedSearchCV\n",
    "from sklearn.metrics import roc_curve, auc\n",
    "from sklearn.metrics import confusion_matrix\n",
    "from sklearn.metrics import accuracy_score\n",
    "from sklearn.naive_bayes import MultinomialNB\n",
    "from sklearn.feature_extraction.text import CountVectorizer, TfidfVectorizer\n",
    "import warnings \n",
    "warnings.filterwarnings('ignore')\n",
    "%matplotlib inline"
   ]
  },
  {
   "cell_type": "code",
   "execution_count": 112,
   "metadata": {
    "colab": {
     "base_uri": "https://localhost:8080/"
    },
    "id": "5Jbotdq9UFtL",
    "outputId": "f9aaed3d-5a84-4614-e98b-70cf07fb082e"
   },
   "outputs": [
    {
     "name": "stdout",
     "output_type": "stream",
     "text": [
      "Drive already mounted at /content/drive; to attempt to forcibly remount, call drive.mount(\"/content/drive\", force_remount=True).\n"
     ]
    }
   ],
   "source": [
    "from google.colab import drive\n",
    "drive.mount('/content/drive')"
   ]
  },
  {
   "cell_type": "markdown",
   "metadata": {
    "id": "inzYCIaib3c3"
   },
   "source": [
    "<h1>1. Naive Bayes </h1>"
   ]
  },
  {
   "cell_type": "markdown",
   "metadata": {
    "id": "FYqCIxzFb3c5"
   },
   "source": [
    "## 1.1 Loading Data"
   ]
  },
  {
   "cell_type": "code",
   "execution_count": 113,
   "metadata": {
    "colab": {
     "base_uri": "https://localhost:8080/",
     "height": 337
    },
    "id": "dA1jknyqb3c_",
    "outputId": "cfe2e832-0d6c-40ec-d637-77d750325c0f"
   },
   "outputs": [
    {
     "data": {
      "text/html": [
       "\n",
       "  <div id=\"df-2bc99338-44b0-477a-97f7-681f25c028fb\">\n",
       "    <div class=\"colab-df-container\">\n",
       "      <div>\n",
       "<style scoped>\n",
       "    .dataframe tbody tr th:only-of-type {\n",
       "        vertical-align: middle;\n",
       "    }\n",
       "\n",
       "    .dataframe tbody tr th {\n",
       "        vertical-align: top;\n",
       "    }\n",
       "\n",
       "    .dataframe thead th {\n",
       "        text-align: right;\n",
       "    }\n",
       "</style>\n",
       "<table border=\"1\" class=\"dataframe\">\n",
       "  <thead>\n",
       "    <tr style=\"text-align: right;\">\n",
       "      <th></th>\n",
       "      <th>school_state</th>\n",
       "      <th>teacher_prefix</th>\n",
       "      <th>project_grade_category</th>\n",
       "      <th>teacher_number_of_previously_posted_projects</th>\n",
       "      <th>project_is_approved</th>\n",
       "      <th>clean_categories</th>\n",
       "      <th>clean_subcategories</th>\n",
       "      <th>essay</th>\n",
       "      <th>price</th>\n",
       "    </tr>\n",
       "  </thead>\n",
       "  <tbody>\n",
       "    <tr>\n",
       "      <th>0</th>\n",
       "      <td>ca</td>\n",
       "      <td>mrs</td>\n",
       "      <td>grades_prek_2</td>\n",
       "      <td>53</td>\n",
       "      <td>1</td>\n",
       "      <td>math_science</td>\n",
       "      <td>appliedsciences health_lifescience</td>\n",
       "      <td>i fortunate enough use fairy tale stem kits cl...</td>\n",
       "      <td>725.05</td>\n",
       "    </tr>\n",
       "    <tr>\n",
       "      <th>1</th>\n",
       "      <td>ut</td>\n",
       "      <td>ms</td>\n",
       "      <td>grades_3_5</td>\n",
       "      <td>4</td>\n",
       "      <td>1</td>\n",
       "      <td>specialneeds</td>\n",
       "      <td>specialneeds</td>\n",
       "      <td>imagine 8 9 years old you third grade classroo...</td>\n",
       "      <td>213.03</td>\n",
       "    </tr>\n",
       "    <tr>\n",
       "      <th>2</th>\n",
       "      <td>ca</td>\n",
       "      <td>mrs</td>\n",
       "      <td>grades_prek_2</td>\n",
       "      <td>10</td>\n",
       "      <td>1</td>\n",
       "      <td>literacy_language</td>\n",
       "      <td>literacy</td>\n",
       "      <td>having class 24 students comes diverse learner...</td>\n",
       "      <td>329.00</td>\n",
       "    </tr>\n",
       "    <tr>\n",
       "      <th>3</th>\n",
       "      <td>ga</td>\n",
       "      <td>mrs</td>\n",
       "      <td>grades_prek_2</td>\n",
       "      <td>2</td>\n",
       "      <td>1</td>\n",
       "      <td>appliedlearning</td>\n",
       "      <td>earlydevelopment</td>\n",
       "      <td>i recently read article giving students choice...</td>\n",
       "      <td>481.04</td>\n",
       "    </tr>\n",
       "    <tr>\n",
       "      <th>4</th>\n",
       "      <td>wa</td>\n",
       "      <td>mrs</td>\n",
       "      <td>grades_3_5</td>\n",
       "      <td>2</td>\n",
       "      <td>1</td>\n",
       "      <td>literacy_language</td>\n",
       "      <td>literacy</td>\n",
       "      <td>my students crave challenge eat obstacles brea...</td>\n",
       "      <td>17.74</td>\n",
       "    </tr>\n",
       "  </tbody>\n",
       "</table>\n",
       "</div>\n",
       "      <button class=\"colab-df-convert\" onclick=\"convertToInteractive('df-2bc99338-44b0-477a-97f7-681f25c028fb')\"\n",
       "              title=\"Convert this dataframe to an interactive table.\"\n",
       "              style=\"display:none;\">\n",
       "        \n",
       "  <svg xmlns=\"http://www.w3.org/2000/svg\" height=\"24px\"viewBox=\"0 0 24 24\"\n",
       "       width=\"24px\">\n",
       "    <path d=\"M0 0h24v24H0V0z\" fill=\"none\"/>\n",
       "    <path d=\"M18.56 5.44l.94 2.06.94-2.06 2.06-.94-2.06-.94-.94-2.06-.94 2.06-2.06.94zm-11 1L8.5 8.5l.94-2.06 2.06-.94-2.06-.94L8.5 2.5l-.94 2.06-2.06.94zm10 10l.94 2.06.94-2.06 2.06-.94-2.06-.94-.94-2.06-.94 2.06-2.06.94z\"/><path d=\"M17.41 7.96l-1.37-1.37c-.4-.4-.92-.59-1.43-.59-.52 0-1.04.2-1.43.59L10.3 9.45l-7.72 7.72c-.78.78-.78 2.05 0 2.83L4 21.41c.39.39.9.59 1.41.59.51 0 1.02-.2 1.41-.59l7.78-7.78 2.81-2.81c.8-.78.8-2.07 0-2.86zM5.41 20L4 18.59l7.72-7.72 1.47 1.35L5.41 20z\"/>\n",
       "  </svg>\n",
       "      </button>\n",
       "      \n",
       "  <style>\n",
       "    .colab-df-container {\n",
       "      display:flex;\n",
       "      flex-wrap:wrap;\n",
       "      gap: 12px;\n",
       "    }\n",
       "\n",
       "    .colab-df-convert {\n",
       "      background-color: #E8F0FE;\n",
       "      border: none;\n",
       "      border-radius: 50%;\n",
       "      cursor: pointer;\n",
       "      display: none;\n",
       "      fill: #1967D2;\n",
       "      height: 32px;\n",
       "      padding: 0 0 0 0;\n",
       "      width: 32px;\n",
       "    }\n",
       "\n",
       "    .colab-df-convert:hover {\n",
       "      background-color: #E2EBFA;\n",
       "      box-shadow: 0px 1px 2px rgba(60, 64, 67, 0.3), 0px 1px 3px 1px rgba(60, 64, 67, 0.15);\n",
       "      fill: #174EA6;\n",
       "    }\n",
       "\n",
       "    [theme=dark] .colab-df-convert {\n",
       "      background-color: #3B4455;\n",
       "      fill: #D2E3FC;\n",
       "    }\n",
       "\n",
       "    [theme=dark] .colab-df-convert:hover {\n",
       "      background-color: #434B5C;\n",
       "      box-shadow: 0px 1px 3px 1px rgba(0, 0, 0, 0.15);\n",
       "      filter: drop-shadow(0px 1px 2px rgba(0, 0, 0, 0.3));\n",
       "      fill: #FFFFFF;\n",
       "    }\n",
       "  </style>\n",
       "\n",
       "      <script>\n",
       "        const buttonEl =\n",
       "          document.querySelector('#df-2bc99338-44b0-477a-97f7-681f25c028fb button.colab-df-convert');\n",
       "        buttonEl.style.display =\n",
       "          google.colab.kernel.accessAllowed ? 'block' : 'none';\n",
       "\n",
       "        async function convertToInteractive(key) {\n",
       "          const element = document.querySelector('#df-2bc99338-44b0-477a-97f7-681f25c028fb');\n",
       "          const dataTable =\n",
       "            await google.colab.kernel.invokeFunction('convertToInteractive',\n",
       "                                                     [key], {});\n",
       "          if (!dataTable) return;\n",
       "\n",
       "          const docLinkHtml = 'Like what you see? Visit the ' +\n",
       "            '<a target=\"_blank\" href=https://colab.research.google.com/notebooks/data_table.ipynb>data table notebook</a>'\n",
       "            + ' to learn more about interactive tables.';\n",
       "          element.innerHTML = '';\n",
       "          dataTable['output_type'] = 'display_data';\n",
       "          await google.colab.output.renderOutput(dataTable, element);\n",
       "          const docLink = document.createElement('div');\n",
       "          docLink.innerHTML = docLinkHtml;\n",
       "          element.appendChild(docLink);\n",
       "        }\n",
       "      </script>\n",
       "    </div>\n",
       "  </div>\n",
       "  "
      ],
      "text/plain": [
       "  school_state teacher_prefix project_grade_category  \\\n",
       "0           ca            mrs          grades_prek_2   \n",
       "1           ut             ms             grades_3_5   \n",
       "2           ca            mrs          grades_prek_2   \n",
       "3           ga            mrs          grades_prek_2   \n",
       "4           wa            mrs             grades_3_5   \n",
       "\n",
       "   teacher_number_of_previously_posted_projects  project_is_approved  \\\n",
       "0                                            53                    1   \n",
       "1                                             4                    1   \n",
       "2                                            10                    1   \n",
       "3                                             2                    1   \n",
       "4                                             2                    1   \n",
       "\n",
       "    clean_categories                 clean_subcategories  \\\n",
       "0       math_science  appliedsciences health_lifescience   \n",
       "1       specialneeds                        specialneeds   \n",
       "2  literacy_language                            literacy   \n",
       "3    appliedlearning                    earlydevelopment   \n",
       "4  literacy_language                            literacy   \n",
       "\n",
       "                                               essay   price  \n",
       "0  i fortunate enough use fairy tale stem kits cl...  725.05  \n",
       "1  imagine 8 9 years old you third grade classroo...  213.03  \n",
       "2  having class 24 students comes diverse learner...  329.00  \n",
       "3  i recently read article giving students choice...  481.04  \n",
       "4  my students crave challenge eat obstacles brea...   17.74  "
      ]
     },
     "execution_count": 113,
     "metadata": {},
     "output_type": "execute_result"
    }
   ],
   "source": [
    "data = pd.read_csv('/content/drive/MyDrive/6_Donors_choose_NB/preprocessed_data.csv')\n",
    "data.head()"
   ]
  },
  {
   "cell_type": "code",
   "execution_count": 114,
   "metadata": {
    "colab": {
     "base_uri": "https://localhost:8080/"
    },
    "id": "GeEFsTcAVTay",
    "outputId": "89a57ea6-d4f0-4179-ba41-006dd260b426"
   },
   "outputs": [
    {
     "data": {
      "text/plain": [
       "(109248, 9)"
      ]
     },
     "execution_count": 114,
     "metadata": {},
     "output_type": "execute_result"
    }
   ],
   "source": [
    "data.shape"
   ]
  },
  {
   "cell_type": "code",
   "execution_count": 115,
   "metadata": {
    "colab": {
     "base_uri": "https://localhost:8080/"
    },
    "id": "qwMc-xROVjKb",
    "outputId": "cfa60927-7be9-47fc-d08a-4013c4d92125"
   },
   "outputs": [
    {
     "name": "stdout",
     "output_type": "stream",
     "text": [
      "Percentage of projects approved: 84.85830404217927\n",
      "Percentage of projects not approved: 15.141695957820739\n"
     ]
    }
   ],
   "source": [
    "print('Percentage of projects approved:',data['project_is_approved'].value_counts(normalize=True)[1]*100)\n",
    "print('Percentage of projects not approved:',data['project_is_approved'].value_counts(normalize=True)[0]*100)"
   ]
  },
  {
   "cell_type": "markdown",
   "metadata": {
    "id": "D3bX46PwTG9a"
   },
   "source": [
    "### Approach: \n",
    "1. Split your data.\n",
    "2. Perform Bag of Words Vectorization of text data.\n",
    "3. Perform tfidf vectorization of text data.\n",
    "4. perform one-hot encoding of categorical features.\n",
    "5. perform normalization of numerical features\n",
    "6. For set 1 stack up all the features using hstack()\n",
    "7. For set 2 stack up all the features using hstack()\n",
    "8. Perform hyperparameter tuning and represent the training and cross-validation AUC scores for different 'alpha' values.\n",
    "9. Find the best hyperparameter 'alpha' and fit the model. Plot ROC-AUC curve(by obtaining the probabilities using 'predict proba' method)\n",
    "10. Plot confusion matrix based on the best threshold value\n",
    "11. For the model in set 1 or in set 2, get the top 20 features associated with the positive and negative classes each.\n",
    "12. Summarize observations and compare both the models(ie., from set 1 and set 2) in terms of optimal hyperparameter value, train AUC and test AUC scores. \n",
    "13. Use Prettytable format for comparison."
   ]
  },
  {
   "cell_type": "markdown",
   "metadata": {
    "id": "WtVV13Fyb3dH"
   },
   "source": [
    "<h2>1.2 Splitting data into Train and cross validation(or test): Stratified Sampling</h2>"
   ]
  },
  {
   "cell_type": "code",
   "execution_count": 116,
   "metadata": {
    "id": "R62c0NVrVa_2"
   },
   "outputs": [],
   "source": [
    "X = data.drop(columns='project_is_approved')\n",
    "y =  data['project_is_approved']"
   ]
  },
  {
   "cell_type": "code",
   "execution_count": 118,
   "metadata": {
    "id": "i-PyprDNb3dI"
   },
   "outputs": [],
   "source": [
    "from sklearn.model_selection import train_test_split\n",
    "X_train, X_test, y_train, y_test = train_test_split(X, y, test_size = 0.25, stratify = y)"
   ]
  },
  {
   "cell_type": "code",
   "execution_count": 119,
   "metadata": {
    "colab": {
     "base_uri": "https://localhost:8080/"
    },
    "id": "l-ge1LQgr_vU",
    "outputId": "24c5d2c7-03e7-418b-c8af-c161d42434f9"
   },
   "outputs": [
    {
     "name": "stdout",
     "output_type": "stream",
     "text": [
      "Percentage of projects approved in Train: 84.85891427455576\n",
      "Percentage of projects not approved in Train: 15.14108572544425\n",
      "\n",
      "\n",
      "Percentage of projects approved in Test: 84.85647334504979\n",
      "Percentage of projects not approved in Test: 15.143526654950204\n"
     ]
    }
   ],
   "source": [
    "print('Percentage of projects approved in Train:',100*(np.unique(y_train, return_counts=True)[1][1]/sum(np.unique(y_train, return_counts=True)[1])))\n",
    "print('Percentage of projects not approved in Train:',100*(np.unique(y_train, return_counts=True)[1][0]/sum(np.unique(y_train, return_counts=True)[1])))\n",
    "print('\\n')\n",
    "print('Percentage of projects approved in Test:',100*(np.unique(y_test, return_counts=True)[1][1]/sum(np.unique(y_test, return_counts=True)[1])))\n",
    "print('Percentage of projects not approved in Test:',100*(np.unique(y_test, return_counts=True)[1][0]/sum(np.unique(y_test, return_counts=True)[1])))"
   ]
  },
  {
   "cell_type": "markdown",
   "metadata": {
    "id": "EnZwVNULb3dO"
   },
   "source": [
    "<h2>1.3 Make Data Model Ready: encoding essay, and project_title</h2>"
   ]
  },
  {
   "cell_type": "code",
   "execution_count": 120,
   "metadata": {
    "id": "ds6X-8ImTG9c"
   },
   "outputs": [],
   "source": [
    "# Apply Bag of Words (BOW) vectorization on 'Preprocessed_Essay' \n",
    "from sklearn.feature_extraction.text import CountVectorizer\n",
    "vectorizer = CountVectorizer(min_df = 10, ngram_range = (1,2), max_features = 10000)\n",
    "X_train_essay_bow = vectorizer.fit_transform(X_train['essay'].values)\n",
    "X_test_essay_bow = vectorizer.transform(X_test['essay'].values)\n",
    "ngrams_list_bow = vectorizer.get_feature_names()"
   ]
  },
  {
   "cell_type": "code",
   "execution_count": 121,
   "metadata": {
    "colab": {
     "base_uri": "https://localhost:8080/"
    },
    "id": "wZ7iJo0tBYyi",
    "outputId": "f2e854c5-51ba-4691-f0d7-8e33b7c8c871"
   },
   "outputs": [
    {
     "name": "stdout",
     "output_type": "stream",
     "text": [
      "(81936, 10000) (27312, 10000)\n"
     ]
    }
   ],
   "source": [
    "#Let's look at the shape of our BOW Vectorized text features\n",
    "print((X_train_essay_bow).shape, (X_test_essay_bow).shape)"
   ]
  },
  {
   "cell_type": "code",
   "execution_count": 122,
   "metadata": {
    "id": "ZQB3WKGbTG9d"
   },
   "outputs": [],
   "source": [
    "# Apply TF-IDF vectorization on 'Preprocessed_Essay' \n",
    "tfidf_vectorizer = TfidfVectorizer(min_df=10, ngram_range=(1,2), max_features = 10000)\n",
    "tfidf_vectorizer.fit(X_train['essay'].values)\n",
    "\n",
    "X_train_essay_tfidf = tfidf_vectorizer.transform(X_train['essay'].values)\n",
    "X_test_essay_tfidf = tfidf_vectorizer.transform(X_test['essay'].values)\n",
    "ngrams_list_tfidf = tfidf_vectorizer.get_feature_names()"
   ]
  },
  {
   "cell_type": "code",
   "execution_count": 123,
   "metadata": {
    "colab": {
     "base_uri": "https://localhost:8080/"
    },
    "id": "-s6sZI5VBYTV",
    "outputId": "934b20be-4db4-4ee7-bbbe-805ca22db9ca"
   },
   "outputs": [
    {
     "name": "stdout",
     "output_type": "stream",
     "text": [
      "(81936, 10000) (27312, 10000)\n"
     ]
    }
   ],
   "source": [
    "#Let's look at the shape of our TFIDF Vectorized text features\n",
    "print((X_train_essay_tfidf).shape, (X_test_essay_tfidf).shape)"
   ]
  },
  {
   "cell_type": "markdown",
   "metadata": {
    "id": "bGy86kgHb3dX"
   },
   "source": [
    "<h2>1.4 Make Data Model Ready: encoding numerical, categorical features</h2>"
   ]
  },
  {
   "cell_type": "markdown",
   "metadata": {
    "id": "d-tL0mY9-B_s"
   },
   "source": [
    "Defining General Functions to transform Categorical and Numerical features"
   ]
  },
  {
   "cell_type": "code",
   "execution_count": 124,
   "metadata": {
    "id": "EfXkofX1b3da"
   },
   "outputs": [],
   "source": [
    "# Apply One-Hot Encoding on the categorical features either using OneHotEncoder() \n",
    "# Apply Normalization on the numerical features using Normalizer().\n",
    "from sklearn.preprocessing import OneHotEncoder, Normalizer\n",
    "\n",
    "#defining a general function which uses one hot encoder to return one hot encoded vector for each value in that particular feature of train and test\n",
    "ohe = OneHotEncoder(handle_unknown='ignore')\n",
    "def one_hot_encoded(ohe, feature):\n",
    "    ohe.fit(X_train[feature].values.reshape(-1,1))\n",
    "    train = ohe.transform(X_train[feature].values.reshape(-1,1))\n",
    "    test = ohe.transform(X_test[feature].values.reshape(-1,1))\n",
    "    category_names = ohe.categories_[0].tolist() #return category names also for each categorical feature\n",
    "    return  train, test, category_names\n",
    "\n",
    "#defining a general function which uses normalizer to return normalized value for each value in train and test\n",
    "norm = Normalizer()\n",
    "def normalized(norm, feature):\n",
    "    #since Normalizer does not return the l2 norm value of train set, we separately calculate this and use this to transform our test set\n",
    "    l2_norm = np.linalg.norm(X_train[feature].values)\n",
    "\n",
    "    train = norm.fit_transform(X_train[feature].values.reshape(1,-1))\n",
    "    test = X_test[feature].values.reshape(1, -1)/l2_norm #we use l2 norm of train values to transform test values because we cannot fit on test as that would lead to data leakage \n",
    "\n",
    "    return train.reshape(-1,1), test.reshape(-1,1)"
   ]
  },
  {
   "cell_type": "markdown",
   "metadata": {
    "id": "2GdXj8309_8D"
   },
   "source": [
    "Encoding Categorical Features"
   ]
  },
  {
   "cell_type": "code",
   "execution_count": 125,
   "metadata": {
    "id": "OLVPPFgV8nQc"
   },
   "outputs": [],
   "source": [
    "X_train_school_state_ohe, X_test_school_state_ohe, school_state_names = one_hot_encoded(ohe, 'school_state')\n",
    "X_train_teacher_prefix_ohe, X_test_teacher_prefix_ohe,teacher_prefix_names =  one_hot_encoded(ohe, 'teacher_prefix')\n",
    "X_train_project_grade_category_ohe, X_test_project_grade_category_ohe, project_grade_names = one_hot_encoded(ohe, 'project_grade_category')\n",
    "X_train_clean_categories_ohe, X_test_clean_categories_ohe, clean_categories_names = one_hot_encoded(ohe, 'clean_categories')\n",
    "X_train_clean_subcategories_ohe, X_test_clean_subcategories_ohe, clean_subcategories_names = one_hot_encoded(ohe, 'clean_subcategories')"
   ]
  },
  {
   "cell_type": "code",
   "execution_count": 126,
   "metadata": {
    "colab": {
     "base_uri": "https://localhost:8080/"
    },
    "id": "-imkTgVjAVFn",
    "outputId": "de7fa7f5-9d38-4ce0-c493-db230fa1dd8c"
   },
   "outputs": [
    {
     "name": "stdout",
     "output_type": "stream",
     "text": [
      "(81936, 51) (27312, 51)\n",
      "(81936, 5) (27312, 5)\n",
      "(81936, 4) (27312, 4)\n",
      "(81936, 51) (27312, 51)\n",
      "(81936, 395) (27312, 395)\n"
     ]
    }
   ],
   "source": [
    "#Let's look at the shape of our encoded categorical features\n",
    "print(X_train_school_state_ohe.shape, X_test_school_state_ohe.shape)\n",
    "print(X_train_teacher_prefix_ohe.shape, X_test_teacher_prefix_ohe.shape) \n",
    "print(X_train_project_grade_category_ohe.shape, X_test_project_grade_category_ohe.shape)\n",
    "print(X_train_clean_categories_ohe.shape, X_test_clean_categories_ohe.shape)\n",
    "print(X_train_clean_subcategories_ohe.shape, X_test_clean_subcategories_ohe.shape)"
   ]
  },
  {
   "cell_type": "markdown",
   "metadata": {
    "id": "ZvmgadDH-TgD"
   },
   "source": [
    "Normalizing Numerical Features"
   ]
  },
  {
   "cell_type": "code",
   "execution_count": 127,
   "metadata": {
    "id": "JWdiLLw08nFP"
   },
   "outputs": [],
   "source": [
    "X_train_price_norm, X_test_price_norm = normalized(norm, 'price')\n",
    "X_train_teacher_no_prev_posted_projects_norm, X_test_teacher_no_prev_posted_projects_norm = normalized(norm, 'teacher_number_of_previously_posted_projects')"
   ]
  },
  {
   "cell_type": "code",
   "execution_count": 128,
   "metadata": {
    "colab": {
     "base_uri": "https://localhost:8080/"
    },
    "id": "W5KrNwK68EQI",
    "outputId": "ac0b7a24-f0a2-4541-b588-4f203ebb2455"
   },
   "outputs": [
    {
     "name": "stdout",
     "output_type": "stream",
     "text": [
      "(81936, 1) (27312, 1)\n",
      "(81936, 1) (27312, 1)\n"
     ]
    }
   ],
   "source": [
    "#Let's look at the shape of our normalized numerical features\n",
    "print(X_train_price_norm.shape, X_test_price_norm.shape)\n",
    "print(X_train_teacher_no_prev_posted_projects_norm.shape, X_test_teacher_no_prev_posted_projects_norm.shape)"
   ]
  },
  {
   "cell_type": "markdown",
   "metadata": {
    "id": "OAoh9O5BCRkb"
   },
   "source": [
    "<h2> 1.5 Stacking all the features </h2>"
   ]
  },
  {
   "cell_type": "code",
   "execution_count": 129,
   "metadata": {
    "id": "zmqkEvI-o6vf"
   },
   "outputs": [],
   "source": [
    "#store all the feature names derived from the original features in a list\n",
    "features_list_bow = ngrams_list_bow + school_state_names + teacher_prefix_names + project_grade_names + clean_categories_names + clean_subcategories_names + ['price', 'teacher_no_prev_posted_projects']\n",
    "features_list_tfidf = ngrams_list_tfidf + school_state_names + teacher_prefix_names + project_grade_names + clean_categories_names + clean_subcategories_names + ['price', 'teacher_no_prev_posted_projects']"
   ]
  },
  {
   "cell_type": "code",
   "execution_count": 130,
   "metadata": {
    "colab": {
     "base_uri": "https://localhost:8080/"
    },
    "id": "BWMH5Bnpknja",
    "outputId": "ee8e23a7-5dd5-4015-dc13-14ce4de8f122"
   },
   "outputs": [
    {
     "data": {
      "text/plain": [
       "(10508, 10508)"
      ]
     },
     "execution_count": 130,
     "metadata": {},
     "output_type": "execute_result"
    }
   ],
   "source": [
    "len(features_list_tfidf), len(features_list_bow)"
   ]
  },
  {
   "cell_type": "code",
   "execution_count": 131,
   "metadata": {
    "id": "IvWZl-fRCRRb"
   },
   "outputs": [],
   "source": [
    "#Stacking matrices column wise\n",
    "#We create 2 sets of X_train and X_test one where essay feature is vectorized using BOW technique other where essay feature is vectorized using TFIDF technique\n",
    "from scipy.sparse import hstack \n",
    "#BOW set\n",
    "X_train_bow = hstack((X_train_essay_bow, X_train_school_state_ohe, X_train_teacher_prefix_ohe, \n",
    "                      X_train_project_grade_category_ohe, X_train_clean_categories_ohe, X_train_clean_subcategories_ohe, \n",
    "                      X_train_price_norm, X_train_teacher_no_prev_posted_projects_norm)).tocsr()\n",
    "\n",
    "X_test_bow = hstack((X_test_essay_bow, X_test_school_state_ohe, X_test_teacher_prefix_ohe, \n",
    "                     X_test_project_grade_category_ohe, X_test_clean_categories_ohe, X_test_clean_subcategories_ohe, \n",
    "                     X_test_price_norm, X_test_teacher_no_prev_posted_projects_norm)).tocsr()\n",
    "\n",
    "#TFIDF set\n",
    "X_train_tfidf = hstack((X_train_essay_tfidf, X_train_school_state_ohe, X_train_teacher_prefix_ohe, \n",
    "                        X_train_project_grade_category_ohe, X_train_clean_categories_ohe, X_train_clean_subcategories_ohe, \n",
    "                        X_train_price_norm, X_train_teacher_no_prev_posted_projects_norm)).tocsr()\n",
    "\n",
    "X_test_tfidf = hstack((X_test_essay_tfidf, X_test_school_state_ohe, X_test_teacher_prefix_ohe, \n",
    "                       X_test_project_grade_category_ohe, X_test_clean_categories_ohe, X_test_clean_subcategories_ohe, \n",
    "                       X_test_price_norm, X_test_teacher_no_prev_posted_projects_norm)).tocsr()"
   ]
  },
  {
   "cell_type": "markdown",
   "metadata": {
    "id": "yYHPYadYb3dh"
   },
   "source": [
    "<h2>1.6 Applying NB on different kind of featurization as mentioned in the approach</h2>"
   ]
  },
  {
   "cell_type": "markdown",
   "metadata": {
    "id": "UGC1bNP0RFNa"
   },
   "source": [
    "Since the number of rows is huge we use a custom batch predict function which takes one batch at a time to predict probabilities corresponding to input vectors. "
   ]
  },
  {
   "cell_type": "code",
   "execution_count": 132,
   "metadata": {
    "id": "NFoEKVM9SwQP"
   },
   "outputs": [],
   "source": [
    "def batch_predict(clf, data):\n",
    "    #store the probability values in the below list\n",
    "    y_prob = []\n",
    "    \n",
    "    rem = data.shape[0]%1000\n",
    "    loop = data.shape[0] - rem\n",
    "    for i in range(0, loop, 1000):\n",
    "        y_prob.extend(clf.predict_proba(data[i:1000+i])[:,1]) #[:, 1] gives all values in column 1 that represents project approved probability\n",
    "    \n",
    "    #predict the probabilities for remaining rows\n",
    "    if rem!=0:\n",
    "        y_prob.extend(clf.predict_proba(data[loop:])[:,1])\n",
    "    return y_prob"
   ]
  },
  {
   "cell_type": "markdown",
   "metadata": {
    "id": "DNwqilFxb3di"
   },
   "source": [
    "#### Set 1"
   ]
  },
  {
   "cell_type": "code",
   "execution_count": 133,
   "metadata": {
    "id": "lgKhDoC7TG9e"
   },
   "outputs": [],
   "source": [
    "# Perform Hyperparameter Tuning.\n",
    "# Plot the training and the CV AUC scores, for different values of 'alpha'\n",
    "\n",
    "#instead of allowing Naive Bayes to fit to class prior, we directly provide the class prior \n",
    "#we provide equal class prior to both classes so that neither of them have an unfair advantage just because data contains less points of any of them classes \n",
    "#in a sense we make likelihood term in the formula the main differentiator by providing equal class priors\n",
    "multinb_bow_grid = MultinomialNB(class_prior=[0.5,0.5], fit_prior = False)\n",
    "\n",
    "#alpha is the Laplace smoothing parameter\n",
    "#Since Naive Bayes formula essentially relies on product of class prior and likelihood if any one value is 0 the whole term reduces to 0 \n",
    "#Laplace smoothing is primarily used to avoid the probability being reduced to 0 \n",
    "parameters = {'alpha':[0.00001,0.0005, 0.0001,0.005,0.001,0.05,0.01,0.1,0.5,1,5,10,50,100]}\n",
    "grid = GridSearchCV(multinb_bow_grid, parameters, cv = 5, scoring = 'roc_auc', n_jobs=-1, return_train_score=True)\n",
    "grid.fit(X_train_bow, y_train)\n",
    "\n",
    "results = pd.DataFrame.from_dict(grid.cv_results_)\n",
    "results = results.sort_values(['param_alpha'])\n",
    "\n",
    "train_auc = results['mean_train_score']\n",
    "cv_auc = results['mean_test_score']\n",
    "alpha = results['param_alpha'].apply(lambda x: log10(x)) #convert the alpha values to log(alpha)"
   ]
  },
  {
   "cell_type": "code",
   "execution_count": 134,
   "metadata": {
    "colab": {
     "base_uri": "https://localhost:8080/",
     "height": 404
    },
    "id": "d7TcZnX1g1Tl",
    "outputId": "b10626de-7e28-4fb6-b82e-cda381f386b1"
   },
   "outputs": [
    {
     "data": {
      "image/png": "[encoded data removed]",
      "text/plain": [
       "<Figure size 720x432 with 1 Axes>"
      ]
     },
     "metadata": {
      "needs_background": "light"
     },
     "output_type": "display_data"
    }
   ],
   "source": [
    "plt.figure(figsize=(10,6))\n",
    "plt.plot(alpha, train_auc, label='Train AUC')\n",
    "plt.scatter(alpha, train_auc, label='Train AUC points')\n",
    "\n",
    "plt.plot(alpha, cv_auc, label='CV AUC')\n",
    "plt.scatter(alpha, cv_auc, label='CV AUC points')\n",
    "\n",
    "plt.xlabel(\"Hyperparameter : Log(Alpha)\")\n",
    "plt.ylabel(\"AUC\")\n",
    "plt.title(\"AUC vs Log(Alpha) values (to choose the best Alpha): BOW Set\")\n",
    "plt.grid()\n",
    "plt.legend()\n",
    "plt.show()"
   ]
  },
  {
   "cell_type": "code",
   "execution_count": 135,
   "metadata": {
    "colab": {
     "base_uri": "https://localhost:8080/"
    },
    "id": "m9-18RLZrsvl",
    "outputId": "de18117f-7e10-48c6-c07a-a245d230fbea"
   },
   "outputs": [
    {
     "name": "stdout",
     "output_type": "stream",
     "text": [
      "   param_alpha  mean_train_score  mean_test_score\n",
      "0      0.00001          0.742119         0.697735\n",
      "2       0.0001          0.741969         0.698050\n",
      "1       0.0005          0.741836         0.698265\n",
      "4        0.001          0.741769         0.698355\n",
      "3        0.005          0.741591         0.698550\n",
      "6         0.01          0.741502         0.698625\n",
      "5         0.05          0.741243         0.698762\n",
      "7          0.1          0.741088         0.698793\n",
      "8          0.5          0.740415         0.698688\n",
      "9            1          0.739786         0.698442\n",
      "10           5          0.735606         0.696228\n",
      "11          10          0.730927         0.693404\n",
      "12          50          0.699353         0.671629\n",
      "13         100          0.664815         0.645285\n",
      "Best Alpha: {'alpha': 0.1} \n",
      "Best Score CV AUC from Best Alpha: 0.6987932358256935\n"
     ]
    }
   ],
   "source": [
    "#final report from the Grid Search CV \n",
    "print(results[['param_alpha', 'mean_train_score','mean_test_score']])\n",
    "print('Best Alpha:', grid.best_params_, '\\nBest Score CV AUC from Best Alpha:', grid.best_score_)"
   ]
  },
  {
   "cell_type": "code",
   "execution_count": 136,
   "metadata": {
    "id": "N__UrEl2TG9e"
   },
   "outputs": [],
   "source": [
    "# Obtain the optimal value for 'alpha' and using the obtained optimal 'alpha' value, fit a multinomial naive bayes model, on the train data,\n",
    "# Make class label and probability predictions on the train and test data.\n",
    "\n",
    "#using best alpha \n",
    "best_alpha = grid.best_params_['alpha']\n",
    "multinb_bow_best_alpha = MultinomialNB(alpha=best_alpha, class_prior=[0.5,0.5], fit_prior=False)\n",
    "multinb_bow_best_alpha.fit(X_train_bow, y_train) \n",
    "\n",
    "#y_train_prob and y_test_prob are both list of probabilities of project being approved labeled by 1 i.e. P(y=1|x1,x2,x3,x4,...)\n",
    "y_train_prob = batch_predict(multinb_bow_best_alpha, X_train_bow) \n",
    "y_test_prob = batch_predict(multinb_bow_best_alpha, X_test_bow)\n",
    "\n",
    "#roc_curve takes different thresholds of probability every time to separate classes then calculates tpr and fpr for each threshold\n",
    "#tpr and fpr values are then used in plotting the roc curve   \n",
    "train_fpr, train_tpr, tr_thresholds = roc_curve(y_train, y_train_prob)\n",
    "test_fpr, test_tpr, te_thresholds = roc_curve(y_test, y_test_prob)"
   ]
  },
  {
   "cell_type": "code",
   "execution_count": 137,
   "metadata": {
    "colab": {
     "base_uri": "https://localhost:8080/",
     "height": 404
    },
    "id": "b1g69sOATG9e",
    "outputId": "21ea1109-f874-475b-8316-dfc6da630034"
   },
   "outputs": [
    {
     "data": {
      "image/png": "[encoded data removed]",
      "text/plain": [
       "<Figure size 720x432 with 1 Axes>"
      ]
     },
     "metadata": {
      "needs_background": "light"
     },
     "output_type": "display_data"
    }
   ],
   "source": [
    "# Plot the ROC-AUC curves using the probability predictions made on train and test data.\n",
    "plt.figure(figsize=(10,6))\n",
    "\n",
    "plt.plot(train_fpr, train_tpr, label='Tain AUC = '+str(auc(train_fpr, train_tpr)))\n",
    "plt.plot(test_fpr, test_tpr, label='Test AUC = '+str(auc(test_fpr, test_tpr)))\n",
    "\n",
    "plt.xlabel(\"False Positive Rate\")\n",
    "plt.ylabel(\"True Positive Rate\")\n",
    "plt.title(\"TPR vs FPR: BOW Set\")\n",
    "plt.legend()\n",
    "plt.grid()\n",
    "plt.show()"
   ]
  },
  {
   "cell_type": "code",
   "execution_count": 138,
   "metadata": {
    "id": "5zcD-mtCTG9f"
   },
   "outputs": [],
   "source": [
    "# Pick the best threshold among the probability estimates, such that it has to yield maximum value for TPR*(1-FPR)\n",
    "# Plot the confusion matrices(each for train and test data) afer encoding the predicted class labels, on the basis of the best threshod probability estimate.\n",
    "\n",
    "#Best threshold is the one where TPR is high and FPR is low\n",
    "#so we need to maximize TPR and minimize FPR or in other words maximize (1-FPR), therefore we use TPR*(1-FPR) as a metric to find the best threshold\n",
    "def find_best_threshold(threshold, fpr, tpr):\n",
    "    #np.argmax returns the index of the highest valued element in the list \n",
    "    thresh = threshold[np.argmax(tpr*(1-fpr))] \n",
    "    print(\"The maximum value of TPR*(1-FPR)\", max(tpr*(1-fpr)), \"for threshold\", np.round(thresh,3))\n",
    "    return thresh\n",
    "\n",
    "#below function uses the best threshold value as a condition to obtain predicted target classes (i.e. y_pred) from model predicted probabilities\n",
    "#obtaining y_pred is essential for our next step which is evaluating the model performance\n",
    "def predict_with_best_t(y_prob, thresh):\n",
    "    y_pred = np.array([0 if x<thresh else 1 for x in y_prob])\n",
    "    return y_pred"
   ]
  },
  {
   "cell_type": "code",
   "execution_count": 139,
   "metadata": {
    "colab": {
     "base_uri": "https://localhost:8080/"
    },
    "id": "x8yE--JJ6v4c",
    "outputId": "a6604cd0-ff27-4a21-dc17-c1e82169438b"
   },
   "outputs": [
    {
     "name": "stdout",
     "output_type": "stream",
     "text": [
      "The maximum value of TPR*(1-FPR) 0.45859444701126434 for threshold 0.377\n",
      "Confusion Matrix of Train (BOW Set):\n",
      " [[ 8354  4052]\n",
      " [22178 47352]]\n",
      "--------------------------------------------------\n",
      "Confusion Matrix of Test (BOW Set):\n",
      " [[ 2562  1574]\n",
      " [ 7520 15656]]\n"
     ]
    }
   ],
   "source": [
    "best_thresh = find_best_threshold(tr_thresholds, train_fpr, train_tpr)\n",
    "\n",
    "y_train_pred = predict_with_best_t(y_train_prob, best_thresh)\n",
    "y_test_pred = predict_with_best_t(y_test_prob, best_thresh)\n",
    "\n",
    "confusion_train = confusion_matrix(y_train, y_train_pred)\n",
    "confusion_test = confusion_matrix(y_test, y_test_pred)\n",
    "print('Confusion Matrix of Train (BOW Set):\\n', confusion_train)\n",
    "print(\"-\"*50)\n",
    "print('Confusion Matrix of Test (BOW Set):\\n', confusion_test)"
   ]
  },
  {
   "cell_type": "code",
   "execution_count": 140,
   "metadata": {
    "colab": {
     "base_uri": "https://localhost:8080/",
     "height": 404
    },
    "id": "XY-1c_PiGSpR",
    "outputId": "13c79b38-9fb0-4cd4-c9fb-9dc54c5ee340"
   },
   "outputs": [
    {
     "data": {
      "image/png": "[encoded data removed]",
      "text/plain": [
       "<Figure size 720x432 with 2 Axes>"
      ]
     },
     "metadata": {
      "needs_background": "light"
     },
     "output_type": "display_data"
    }
   ],
   "source": [
    "# Plotting the Confusion Matrix of Test Set\n",
    "cm_test_df = pd.DataFrame(confusion_test,\n",
    "                 index = [0, 1], \n",
    "                 columns = [0, 1])\n",
    "plt.figure(figsize=(10,6))\n",
    "sns.heatmap(cm_test_df, annot=True, fmt='g')\n",
    "plt.title('Confusion Matrix of Test (BOW Set)')\n",
    "plt.ylabel('Actal Values')\n",
    "plt.xlabel('Predicted Values')\n",
    "plt.show()"
   ]
  },
  {
   "cell_type": "code",
   "execution_count": 141,
   "metadata": {
    "colab": {
     "base_uri": "https://localhost:8080/"
    },
    "id": "_kcaQNa5G2IS",
    "outputId": "27d0f11c-3bfd-475b-ff3a-b043d5e9b73b"
   },
   "outputs": [
    {
     "name": "stdout",
     "output_type": "stream",
     "text": [
      "Accuracy Score (BOW Set): 0.66703280609256\n"
     ]
    }
   ],
   "source": [
    "print('Accuracy Score (BOW Set):', accuracy_score(y_test, y_test_pred))"
   ]
  },
  {
   "cell_type": "markdown",
   "metadata": {
    "id": "HgJy_JUFTG9f"
   },
   "source": [
    "#### Set 2"
   ]
  },
  {
   "cell_type": "markdown",
   "metadata": {
    "id": "wYDtlC8EKREn"
   },
   "source": [
    "<h5>Note: The procedure is completely same for TFIDF Set as for BOW set. To differentiate between variables created specifically for BOW and TFIDF set we have used an extra '_' at the end of variables created for TFIDF set e.g. grid (for BOW), grid_(for TFIDF)  </h5>"
   ]
  },
  {
   "cell_type": "code",
   "execution_count": 142,
   "metadata": {
    "id": "Im1Xg5abTG9f"
   },
   "outputs": [],
   "source": [
    "# Perform Hyperparameter Tuning.\n",
    "# Plot the training and the CV AUC scores, for different values of 'alpha'\n",
    "\n",
    "multinb_tfidf_grid = MultinomialNB(class_prior=[0.5,0.5], fit_prior=False)\n",
    "\n",
    "param = {'alpha':[0.00001,0.0005, 0.0001,0.005,0.001,0.05,0.01,0.1,0.5,1,5,10,50,100]}\n",
    "grid_ = GridSearchCV(multinb_tfidf_grid, param, cv=5, scoring='roc_auc',n_jobs=-1, return_train_score=True)\n",
    "grid_.fit(X_train_tfidf, y_train)\n",
    "\n",
    "results_ = pd.DataFrame.from_dict(grid_.cv_results_)\n",
    "results_ = results_.sort_values(['param_alpha'])\n",
    "\n",
    "train_auc_ = results_['mean_train_score']\n",
    "cv_auc_ = results_['mean_test_score']\n",
    "alpha_ = results_['param_alpha'].apply(lambda x: log10(x))#convert the alpha values to log(alpha)"
   ]
  },
  {
   "cell_type": "code",
   "execution_count": 143,
   "metadata": {
    "colab": {
     "base_uri": "https://localhost:8080/",
     "height": 404
    },
    "id": "OGDmX0uJIscc",
    "outputId": "531bac77-b361-4568-9476-80b5e31a1c83"
   },
   "outputs": [
    {
     "data": {
      "image/png": "[encoded data removed]",
      "text/plain": [
       "<Figure size 720x432 with 1 Axes>"
      ]
     },
     "metadata": {
      "needs_background": "light"
     },
     "output_type": "display_data"
    }
   ],
   "source": [
    "plt.figure(figsize=(10,6))\n",
    "plt.plot(alpha_, train_auc_, label='Train AUC')\n",
    "plt.scatter(alpha_, train_auc_, label='Train AUC points')\n",
    "\n",
    "plt.plot(alpha_, cv_auc_, label='CV AUC')\n",
    "plt.scatter(alpha_, cv_auc_, label='CV AUC points')\n",
    "\n",
    "plt.xlabel(\"Hyperparameter : Log(Alpha)\")\n",
    "plt.ylabel(\"AUC\")\n",
    "plt.title(\"AUC vs Log(Alpha) values (to choose the best Alpha): TFIDF Set\")\n",
    "plt.grid()\n",
    "plt.legend()\n",
    "plt.show()"
   ]
  },
  {
   "cell_type": "code",
   "execution_count": 144,
   "metadata": {
    "colab": {
     "base_uri": "https://localhost:8080/"
    },
    "id": "mTkgPEv5JewO",
    "outputId": "16d3098c-76b2-4c2d-b9db-7190722ac9a8"
   },
   "outputs": [
    {
     "name": "stdout",
     "output_type": "stream",
     "text": [
      "   param_alpha  mean_train_score  mean_test_score\n",
      "0      0.00001          0.724272         0.671466\n",
      "2       0.0001          0.724270         0.671465\n",
      "1       0.0005          0.724264         0.671462\n",
      "4        0.001          0.724257         0.671457\n",
      "3        0.005          0.724199         0.671425\n",
      "6         0.01          0.724126         0.671397\n",
      "5         0.05          0.723494         0.671416\n",
      "7          0.1          0.722655         0.671387\n",
      "8          0.5          0.716271         0.669181\n",
      "9            1          0.709162         0.665329\n",
      "10           5          0.669653         0.638180\n",
      "11          10          0.642574         0.618087\n",
      "12          50          0.583704         0.573374\n",
      "13         100          0.566237         0.559682\n",
      "Best Alpha: {'alpha': 1e-05} \n",
      "Best Score CV AUC from Best Alpha: 0.6714660424520682\n"
     ]
    }
   ],
   "source": [
    "#final report from the Grid Search CV \n",
    "print(results_[['param_alpha', 'mean_train_score','mean_test_score']])\n",
    "print('Best Alpha:', grid_.best_params_, '\\nBest Score CV AUC from Best Alpha:', grid_.best_score_)"
   ]
  },
  {
   "cell_type": "code",
   "execution_count": 145,
   "metadata": {
    "id": "A7uizKpITG9g"
   },
   "outputs": [],
   "source": [
    "# Obtain the optimal value for 'alpha' and using the obtained optimal 'alpha' value, fit a multinomial naive bayes model, on the train data,\n",
    "# Make class label and probability predictions on the train and test data.\n",
    "\n",
    "#using best alpha \n",
    "best_alpha_ = grid_.best_params_['alpha']\n",
    "multinb_tfidf_best_alpha = MultinomialNB(alpha=best_alpha_, class_prior=[0.5,0.5], fit_prior=False)\n",
    "multinb_tfidf_best_alpha.fit(X_train_tfidf, y_train) \n",
    "\n",
    "#y_train_prob_ and y_test_prob_ are both list of probabilities of project being approved labeled by 1 i.e. P(y=1|x1,x2,x3,x4,...)\n",
    "y_train_prob_ = batch_predict(multinb_tfidf_best_alpha, X_train_tfidf) \n",
    "y_test_prob_ = batch_predict(multinb_tfidf_best_alpha, X_test_tfidf)\n",
    "\n",
    "#roc_curve takes different thresholds of probability every time to separate classes then calculates tpr and fpr for each threshold\n",
    "#tpr and fpr values are then used in plotting the roc curve   \n",
    "train_fpr_, train_tpr_, tr_thresholds_ = roc_curve(y_train, y_train_prob_)\n",
    "test_fpr_, test_tpr_, te_thresholds_ = roc_curve(y_test, y_test_prob_)"
   ]
  },
  {
   "cell_type": "code",
   "execution_count": 146,
   "metadata": {
    "colab": {
     "base_uri": "https://localhost:8080/",
     "height": 404
    },
    "id": "5M6_Ja9OTG9g",
    "outputId": "9a8244c8-84f0-47ce-d031-9d29603c33de"
   },
   "outputs": [
    {
     "data": {
      "image/png": "[encoded data removed]",
      "text/plain": [
       "<Figure size 720x432 with 1 Axes>"
      ]
     },
     "metadata": {
      "needs_background": "light"
     },
     "output_type": "display_data"
    }
   ],
   "source": [
    "# Plot the ROC-AUC curves using the probability predictions made on train and test data.\n",
    "plt.figure(figsize=(10,6))\n",
    "\n",
    "plt.plot(train_fpr_, train_tpr_, label='Tain AUC = '+str(auc(train_fpr_, train_tpr_)))\n",
    "plt.plot(test_fpr_, test_tpr_, label='Test AUC = '+str(auc(test_fpr_, test_tpr_)))\n",
    "\n",
    "plt.xlabel(\"False Positive Rate\")\n",
    "plt.ylabel(\"True Positive Rate\")\n",
    "plt.title(\"TPR vs FPR: TFIDF Set\")\n",
    "plt.legend()\n",
    "plt.grid()\n",
    "plt.show()"
   ]
  },
  {
   "cell_type": "code",
   "execution_count": 147,
   "metadata": {
    "colab": {
     "base_uri": "https://localhost:8080/"
    },
    "id": "wJI2diVBTG9h",
    "outputId": "f74685bd-db56-43a9-d412-7220a36571c9"
   },
   "outputs": [
    {
     "name": "stdout",
     "output_type": "stream",
     "text": [
      "The maximum value of TPR*(1-FPR) 0.42943521387550904 for threshold 0.519\n",
      "Confusion Matrix of Train (TFIDF Set):\n",
      " [[ 8513  3893]\n",
      " [26017 43513]]\n",
      "--------------------------------------------------\n",
      "Confusion Matrix of Test (TFIDF Set):\n",
      " [[ 2595  1541]\n",
      " [ 8777 14399]]\n"
     ]
    }
   ],
   "source": [
    "# Pick the best threshold among the probability estimates, such that it has to yield maximum value for TPR*(1-FPR)\n",
    "# Plot the confusion matrices(each for train and test data) afer encoding the predicted class labels, on the basis of the best threshod probability estimate.\n",
    "best_thresh_ = find_best_threshold(tr_thresholds_, train_fpr_, train_tpr_)\n",
    "\n",
    "y_train_pred_ = predict_with_best_t(y_train_prob_, best_thresh_)\n",
    "y_test_pred_ = predict_with_best_t(y_test_prob_, best_thresh_)\n",
    "\n",
    "confusion_train_ = confusion_matrix(y_train, y_train_pred_)\n",
    "confusion_test_ = confusion_matrix(y_test, y_test_pred_)\n",
    "print('Confusion Matrix of Train (TFIDF Set):\\n', confusion_train_)\n",
    "print(\"-\"*50)\n",
    "print('Confusion Matrix of Test (TFIDF Set):\\n', confusion_test_)"
   ]
  },
  {
   "cell_type": "code",
   "execution_count": 148,
   "metadata": {
    "colab": {
     "base_uri": "https://localhost:8080/",
     "height": 404
    },
    "id": "qDkPWdQxUPM6",
    "outputId": "47b0d45f-58e0-4174-f745-64fc801411ec"
   },
   "outputs": [
    {
     "data": {
      "image/png": "[encoded data removed]",
      "text/plain": [
       "<Figure size 720x432 with 2 Axes>"
      ]
     },
     "metadata": {
      "needs_background": "light"
     },
     "output_type": "display_data"
    }
   ],
   "source": [
    "# Plotting the Confusion Matrix of Test Set\n",
    "cm_test_df_ = pd.DataFrame(confusion_test_,\n",
    "                 index = [0, 1], \n",
    "                 columns = [0, 1])\n",
    "plt.figure(figsize=(10,6))\n",
    "sns.heatmap(cm_test_df_, annot=True, fmt='g')\n",
    "plt.title('Confusion Matrix of Test (TFIDF Set)')\n",
    "plt.ylabel('Actal Values')\n",
    "plt.xlabel('Predicted Values')\n",
    "plt.show()"
   ]
  },
  {
   "cell_type": "code",
   "execution_count": 149,
   "metadata": {
    "colab": {
     "base_uri": "https://localhost:8080/"
    },
    "id": "j-d0_UQ3UjNa",
    "outputId": "b2ca411c-373d-4b1d-fe67-ec0f3d28231c"
   },
   "outputs": [
    {
     "name": "stdout",
     "output_type": "stream",
     "text": [
      "Accuracy Score (TFIDF Set): 0.6222173403632103\n"
     ]
    }
   ],
   "source": [
    "print('Accuracy Score (TFIDF Set):', accuracy_score(y_test, y_test_pred_))"
   ]
  },
  {
   "cell_type": "markdown",
   "metadata": {
    "id": "j0ZNDEFcVA0r"
   },
   "source": [
    "<h1> Top 20 Features </h1>"
   ]
  },
  {
   "cell_type": "markdown",
   "metadata": {
    "id": "HaDiYFPYZPSk"
   },
   "source": [
    "To get the top features that are associated with a class we need to get the empirical log probabilities of features given the class, P(xi|y=1) and P(xi|y=0).We can easily get this from our model's attribute feature_log_prob_. \n",
    "\n",
    "refer - https://scikit-learn.org/stable/modules/generated/sklearn.naive_bayes.MultinomialNB.html\n",
    "\n",
    "Let's get the top 20 features associated with positive and neagtive class from the model trained on our BOW Set."
   ]
  },
  {
   "cell_type": "code",
   "execution_count": 179,
   "metadata": {
    "id": "Gsf1pTnuTG9h"
   },
   "outputs": [],
   "source": [
    "# Either from set 1 (or) set 2, print the names of the top 20 features associated with the positive and negative classes each. (You have to print the names of the features, but not the indexes)\n",
    "#get a list of the indices which represent the descending order of log probability values of class 0 and class 1\n",
    "#argsort function sorts indices in ascending order of log probability values but since we need to get this in descending order we use [::-1] to reverse the array\n",
    "class_0_indices_desc = np.argsort(multinb_bow_best_alpha.feature_log_prob_[0])[::-1]\n",
    "class_1_indices_desc = np.argsort(multinb_bow_best_alpha.feature_log_prob_[1])[::-1]\n",
    "\n",
    "top_20_neg = class_0_indices_desc[:20].tolist()\n",
    "top_20_pos = class_1_indices_desc[:20].tolist()"
   ]
  },
  {
   "cell_type": "code",
   "execution_count": 180,
   "metadata": {
    "colab": {
     "base_uri": "https://localhost:8080/"
    },
    "id": "RdUEhsZI7lbw",
    "outputId": "3667674e-65a1-467c-e70b-f17a42cc9983"
   },
   "outputs": [
    {
     "name": "stdout",
     "output_type": "stream",
     "text": [
      "Top 20 Features associated with negative class:\n",
      "students\n",
      "school\n",
      "learning\n",
      "my\n",
      "classroom\n",
      "not\n",
      "learn\n",
      "they\n",
      "help\n",
      "the\n",
      "my students\n",
      "nannan\n",
      "many\n",
      "we\n",
      "need\n",
      "work\n",
      "come\n",
      "love\n",
      "able\n",
      "reading\n",
      "\n",
      "\n",
      "Top 20 Features associated with positive class:\n",
      "students\n",
      "school\n",
      "my\n",
      "learning\n",
      "classroom\n",
      "the\n",
      "they\n",
      "not\n",
      "my students\n",
      "learn\n",
      "help\n",
      "many\n",
      "nannan\n",
      "we\n",
      "need\n",
      "work\n",
      "reading\n",
      "use\n",
      "love\n",
      "day\n",
      "\n",
      "\n"
     ]
    }
   ],
   "source": [
    "print('Top 20 Features associated with negative class:')\n",
    "[print(i) for i in (np.array(features_list_bow)[top_20_neg])]\n",
    "print('\\n')\n",
    "print('Top 20 Features associated with positive class:')\n",
    "[print(i) for i in (np.array(features_list_bow)[top_20_pos])]\n",
    "print('\\n')"
   ]
  },
  {
   "cell_type": "markdown",
   "metadata": {
    "id": "78wOe9M_GOoh"
   },
   "source": [
    "Most features appear to be in strong association with both classes although there are a few features that are exclusive to each class. Also the order of importance of features is slightly different."
   ]
  },
  {
   "cell_type": "markdown",
   "metadata": {
    "id": "lS9hIHdib3dp"
   },
   "source": [
    "<h1>3. Summary</h1>\n",
    "\n",
    "<br> as mentioned in the step 5 of instructions"
   ]
  },
  {
   "cell_type": "code",
   "execution_count": 181,
   "metadata": {
    "colab": {
     "base_uri": "https://localhost:8080/"
    },
    "id": "3ZTRLJ1SHEP8",
    "outputId": "605c606d-6967-49c8-8236-55d5d85f6814"
   },
   "outputs": [
    {
     "name": "stdout",
     "output_type": "stream",
     "text": [
      "+--------------+-------------------------+-----------------+------+\n",
      "|  Vectorizer  |          Model          | Hyperparameters | AUC  |\n",
      "+--------------+-------------------------+-----------------+------+\n",
      "| Bag of Words | Multinomial Naive Bayes |        1        | 0.69 |\n",
      "|    TFIDF     | Multinomial Naive Bayes |        1        | 0.66 |\n",
      "+--------------+-------------------------+-----------------+------+\n"
     ]
    }
   ],
   "source": [
    "from prettytable import PrettyTable\n",
    "x = PrettyTable()\n",
    "x.field_names = [\"Vectorizer\", \"Model\", \"Hyperparameters\", \"AUC\"]\n",
    "x.add_rows(\n",
    "    [\n",
    "        [\"Bag of Words\", 'Multinomial Naive Bayes', 1, 0.69],\n",
    "        [\"TFIDF\", 'Multinomial Naive Bayes', 1, 0.66]\n",
    "    ]\n",
    ")\n",
    "\n",
    "print(x)"
   ]
  },
  {
   "cell_type": "markdown",
   "metadata": {
    "id": "989MYLP5VrR9"
   },
   "source": [
    "Summary: \n",
    "\n",
    "1. Split the dataset into train and test\n",
    "2. Convert Categorical features into a vector using one hot encoding\n",
    "3. Normalize the Numerical features using sklearn's Normalizer\n",
    "4. Convert Text feature to a vector using BOW technique and TFIDF technique\n",
    "5. Now create 2 sets, one by merging the categorical and numerical feature with BOW form of text feature and other by merging the categorical and numerical features with TFIDF form of text feature.\n",
    "6. Train MultinomialNB Model on both BOW train set and TFIDF train set with optimal value of hyperparameter alpha. Before that, find the optimal value of hyperparameter using GridSearchCV based on ROC AUC scoring for each set. \n",
    "7. After you train the model with optimal hyperparameter find the best probability threshold to separate the classes, this can be obtained by finding the probability which maximizes TPR*(1-FPR) value. \n",
    "8. Use the threshold to obtain predicted class values, then compute performance metrics like Confusion Matrix and Accuracy score.\n",
    "\n",
    "Comparison between Models: \n",
    "1. Model trained on BOW set depicts better performance metrics than the Model which is trained on TFIDF set. The Test AUC score of Model-1(BOW) is 0.69 which is higher than score of Model-2(TFIDF) 0.66, implying that Model-1 has a better potential at predicting correct classes in test set if provided with an optimal probability threshold.\n",
    "2. Also, the Train AUC score of Model-1(BOW) is 0.73 which is higher than score of Model-2(TFIDF) 0.71, implying that Model-1 has a better potential at predicting correct classes in train set if provided with an optimal probability threshold.\n",
    "3. The Laplace smoothing parameter 'alpha' has an optimal value 0.1 for Model-1(BOW) which indicates that the empirical probabilities P(xi|y) are altered by a significant amount as compared to Model-2(TFIDF) which uses an optimal alpha value of 0.00001 which indicates tha the empirical probabilities P(xi|y) are altered by a very small amount. \n",
    "\n",
    "Conclusion: \n",
    "Our Multinomial Naive Bayes Classifier works better with the input set that contains Bag of Words vectoriztion of essay feature as compared to TFIDF vectorization. "
   ]
  }
 ],
 "metadata": {
  "colab": {
   "collapsed_sections": [],
   "name": "Naive Bayes on Donors Choose.ipynb",
   "provenance": []
  },
  "kernelspec": {
   "display_name": "Python 3 (ipykernel)",
   "language": "python",
   "name": "python3"
  },
  "language_info": {
   "codemirror_mode": {
    "name": "ipython",
    "version": 3
   },
   "file_extension": ".py",
   "mimetype": "text/x-python",
   "name": "python",
   "nbconvert_exporter": "python",
   "pygments_lexer": "ipython3",
   "version": "3.9.6"
  }
 },
 "nbformat": 4,
 "nbformat_minor": 1
}
